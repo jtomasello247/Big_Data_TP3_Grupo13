{
 "cells": [
  {
   "cell_type": "code",
   "execution_count": 5,
   "id": "c6209d9b-bde7-4596-96f9-ff3f575663fc",
   "metadata": {
    "scrolled": true
   },
   "outputs": [
    {
     "name": "stdout",
     "output_type": "stream",
     "text": [
      "Requirement already satisfied: ISLP in f:\\anaconda\\lib\\site-packages (0.4.0)\n",
      "Requirement already satisfied: numpy>=1.7.1 in f:\\anaconda\\lib\\site-packages (from ISLP) (1.26.4)\n",
      "Requirement already satisfied: scipy>=0.9 in f:\\anaconda\\lib\\site-packages (from ISLP) (1.11.4)\n",
      "Requirement already satisfied: pandas>=0.20 in f:\\anaconda\\lib\\site-packages (from ISLP) (2.2.3)\n",
      "Requirement already satisfied: lxml in f:\\anaconda\\lib\\site-packages (from ISLP) (5.2.1)\n",
      "Requirement already satisfied: scikit-learn>=1.2 in f:\\anaconda\\lib\\site-packages (from ISLP) (1.5.1)\n",
      "Requirement already satisfied: joblib in f:\\anaconda\\lib\\site-packages (from ISLP) (1.4.2)\n",
      "Requirement already satisfied: statsmodels>=0.13 in f:\\anaconda\\lib\\site-packages (from ISLP) (0.14.2)\n",
      "Requirement already satisfied: lifelines in f:\\anaconda\\lib\\site-packages (from ISLP) (0.30.0)\n",
      "Requirement already satisfied: pygam in f:\\anaconda\\lib\\site-packages (from ISLP) (0.9.1)\n",
      "Requirement already satisfied: torch in f:\\anaconda\\lib\\site-packages (from ISLP) (2.6.0)\n",
      "Requirement already satisfied: pytorch-lightning in f:\\anaconda\\lib\\site-packages (from ISLP) (2.5.1)\n",
      "Requirement already satisfied: torchmetrics in f:\\anaconda\\lib\\site-packages (from ISLP) (1.7.0)\n",
      "Requirement already satisfied: python-dateutil>=2.8.2 in f:\\anaconda\\lib\\site-packages (from pandas>=0.20->ISLP) (2.9.0.post0)\n",
      "Requirement already satisfied: pytz>=2020.1 in f:\\anaconda\\lib\\site-packages (from pandas>=0.20->ISLP) (2025.2)\n",
      "Requirement already satisfied: tzdata>=2022.7 in f:\\anaconda\\lib\\site-packages (from pandas>=0.20->ISLP) (2023.3)\n",
      "Requirement already satisfied: threadpoolctl>=3.1.0 in f:\\anaconda\\lib\\site-packages (from scikit-learn>=1.2->ISLP) (3.5.0)\n",
      "Requirement already satisfied: patsy>=0.5.6 in f:\\anaconda\\lib\\site-packages (from statsmodels>=0.13->ISLP) (0.5.6)\n",
      "Requirement already satisfied: packaging>=21.3 in f:\\anaconda\\lib\\site-packages (from statsmodels>=0.13->ISLP) (24.1)\n",
      "Requirement already satisfied: matplotlib>=3.0 in f:\\anaconda\\lib\\site-packages (from lifelines->ISLP) (3.9.2)\n",
      "Requirement already satisfied: autograd>=1.5 in f:\\anaconda\\lib\\site-packages (from lifelines->ISLP) (1.7.0)\n",
      "Requirement already satisfied: autograd-gamma>=0.3 in f:\\anaconda\\lib\\site-packages (from lifelines->ISLP) (0.5.0)\n",
      "Requirement already satisfied: formulaic>=0.2.2 in f:\\anaconda\\lib\\site-packages (from lifelines->ISLP) (1.1.1)\n",
      "Requirement already satisfied: progressbar2<5.0.0,>=4.2.0 in f:\\anaconda\\lib\\site-packages (from pygam->ISLP) (4.5.0)\n",
      "Requirement already satisfied: tqdm>=4.57.0 in f:\\anaconda\\lib\\site-packages (from pytorch-lightning->ISLP) (4.66.5)\n",
      "Requirement already satisfied: PyYAML>=5.4 in f:\\anaconda\\lib\\site-packages (from pytorch-lightning->ISLP) (6.0.1)\n",
      "Requirement already satisfied: fsspec>=2022.5.0 in f:\\anaconda\\lib\\site-packages (from fsspec[http]>=2022.5.0->pytorch-lightning->ISLP) (2024.6.1)\n",
      "Requirement already satisfied: typing-extensions>=4.4.0 in f:\\anaconda\\lib\\site-packages (from pytorch-lightning->ISLP) (4.11.0)\n",
      "Requirement already satisfied: lightning-utilities>=0.10.0 in f:\\anaconda\\lib\\site-packages (from pytorch-lightning->ISLP) (0.14.2)\n",
      "Requirement already satisfied: filelock in f:\\anaconda\\lib\\site-packages (from torch->ISLP) (3.13.1)\n",
      "Requirement already satisfied: networkx in f:\\anaconda\\lib\\site-packages (from torch->ISLP) (3.3)\n",
      "Requirement already satisfied: jinja2 in f:\\anaconda\\lib\\site-packages (from torch->ISLP) (3.1.4)\n",
      "Requirement already satisfied: setuptools in f:\\anaconda\\lib\\site-packages (from torch->ISLP) (75.1.0)\n",
      "Requirement already satisfied: sympy==1.13.1 in f:\\anaconda\\lib\\site-packages (from torch->ISLP) (1.13.1)\n",
      "Requirement already satisfied: mpmath<1.4,>=1.1.0 in f:\\anaconda\\lib\\site-packages (from sympy==1.13.1->torch->ISLP) (1.3.0)\n",
      "Requirement already satisfied: interface-meta>=1.2.0 in f:\\anaconda\\lib\\site-packages (from formulaic>=0.2.2->lifelines->ISLP) (1.3.0)\n",
      "Requirement already satisfied: wrapt>=1.0 in f:\\anaconda\\lib\\site-packages (from formulaic>=0.2.2->lifelines->ISLP) (1.14.1)\n",
      "Requirement already satisfied: aiohttp!=4.0.0a0,!=4.0.0a1 in f:\\anaconda\\lib\\site-packages (from fsspec[http]>=2022.5.0->pytorch-lightning->ISLP) (3.10.5)\n",
      "Requirement already satisfied: contourpy>=1.0.1 in f:\\anaconda\\lib\\site-packages (from matplotlib>=3.0->lifelines->ISLP) (1.2.0)\n",
      "Requirement already satisfied: cycler>=0.10 in f:\\anaconda\\lib\\site-packages (from matplotlib>=3.0->lifelines->ISLP) (0.11.0)\n",
      "Requirement already satisfied: fonttools>=4.22.0 in f:\\anaconda\\lib\\site-packages (from matplotlib>=3.0->lifelines->ISLP) (4.51.0)\n",
      "Requirement already satisfied: kiwisolver>=1.3.1 in f:\\anaconda\\lib\\site-packages (from matplotlib>=3.0->lifelines->ISLP) (1.4.4)\n",
      "Requirement already satisfied: pillow>=8 in f:\\anaconda\\lib\\site-packages (from matplotlib>=3.0->lifelines->ISLP) (10.4.0)\n",
      "Requirement already satisfied: pyparsing>=2.3.1 in f:\\anaconda\\lib\\site-packages (from matplotlib>=3.0->lifelines->ISLP) (3.1.2)\n",
      "Requirement already satisfied: six in f:\\anaconda\\lib\\site-packages (from patsy>=0.5.6->statsmodels>=0.13->ISLP) (1.16.0)\n",
      "Requirement already satisfied: python-utils>=3.8.1 in f:\\anaconda\\lib\\site-packages (from progressbar2<5.0.0,>=4.2.0->pygam->ISLP) (3.9.1)\n",
      "Requirement already satisfied: colorama in f:\\anaconda\\lib\\site-packages (from tqdm>=4.57.0->pytorch-lightning->ISLP) (0.4.6)\n",
      "Requirement already satisfied: MarkupSafe>=2.0 in f:\\anaconda\\lib\\site-packages (from jinja2->torch->ISLP) (2.1.3)\n",
      "Requirement already satisfied: aiohappyeyeballs>=2.3.0 in f:\\anaconda\\lib\\site-packages (from aiohttp!=4.0.0a0,!=4.0.0a1->fsspec[http]>=2022.5.0->pytorch-lightning->ISLP) (2.4.0)\n",
      "Requirement already satisfied: aiosignal>=1.1.2 in f:\\anaconda\\lib\\site-packages (from aiohttp!=4.0.0a0,!=4.0.0a1->fsspec[http]>=2022.5.0->pytorch-lightning->ISLP) (1.2.0)\n",
      "Requirement already satisfied: attrs>=17.3.0 in f:\\anaconda\\lib\\site-packages (from aiohttp!=4.0.0a0,!=4.0.0a1->fsspec[http]>=2022.5.0->pytorch-lightning->ISLP) (23.1.0)\n",
      "Requirement already satisfied: frozenlist>=1.1.1 in f:\\anaconda\\lib\\site-packages (from aiohttp!=4.0.0a0,!=4.0.0a1->fsspec[http]>=2022.5.0->pytorch-lightning->ISLP) (1.4.0)\n",
      "Requirement already satisfied: multidict<7.0,>=4.5 in f:\\anaconda\\lib\\site-packages (from aiohttp!=4.0.0a0,!=4.0.0a1->fsspec[http]>=2022.5.0->pytorch-lightning->ISLP) (6.0.4)\n",
      "Requirement already satisfied: yarl<2.0,>=1.0 in f:\\anaconda\\lib\\site-packages (from aiohttp!=4.0.0a0,!=4.0.0a1->fsspec[http]>=2022.5.0->pytorch-lightning->ISLP) (1.11.0)\n",
      "Requirement already satisfied: idna>=2.0 in f:\\anaconda\\lib\\site-packages (from yarl<2.0,>=1.0->aiohttp!=4.0.0a0,!=4.0.0a1->fsspec[http]>=2022.5.0->pytorch-lightning->ISLP) (3.7)\n",
      "Note: you may need to restart the kernel to use updated packages.\n"
     ]
    }
   ],
   "source": [
    "pip install ISLP"
   ]
  },
  {
   "cell_type": "code",
   "execution_count": 6,
   "id": "847c5115-fb28-4fe8-947d-1892b52438db",
   "metadata": {},
   "outputs": [
    {
     "name": "stdout",
     "output_type": "stream",
     "text": [
      "0.4.0\n"
     ]
    }
   ],
   "source": [
    "import ISLP\n",
    "print (ISLP.__version__)"
   ]
  },
  {
   "cell_type": "code",
   "execution_count": 412,
   "id": "55d457fd-4df3-4a5f-8636-e4c10f6aa2f0",
   "metadata": {},
   "outputs": [],
   "source": [
    "import ISLP\n",
    "from ISLP import load_data\n",
    "from statsmodels.datasets import get_rdataset\n",
    "\n",
    "import numpy as np\n",
    "import pandas as pd"
   ]
  },
  {
   "cell_type": "code",
   "execution_count": 8,
   "id": "325a3324-0b59-466b-ba88-daf8eef0567d",
   "metadata": {},
   "outputs": [],
   "source": [
    "import matplotlib.pyplot as plt\n",
    "from sklearn.preprocessing import StandardScaler\n",
    "from sklearn.decomposition import PCA"
   ]
  },
  {
   "cell_type": "code",
   "execution_count": 9,
   "id": "507c77b5-31d0-4373-b24b-ad37727488cb",
   "metadata": {},
   "outputs": [
    {
     "name": "stdout",
     "output_type": "stream",
     "text": [
      "C:\\Users\\Juan T\\Documents\\GitHub\\Big_Data_TP3_Grupo13\n"
     ]
    }
   ],
   "source": [
    "import os\n",
    "print(os.getcwd())"
   ]
  },
  {
   "cell_type": "code",
   "execution_count": 10,
   "id": "05d42c93-f20e-40ac-961c-f5dd39a30573",
   "metadata": {},
   "outputs": [
    {
     "ename": "FileNotFoundError",
     "evalue": "[WinError 3] El sistema no puede encontrar la ruta especificada: 'C:/Users/kendr/Documents/GitHub/Big_Data_TP3_Grupo13'",
     "output_type": "error",
     "traceback": [
      "\u001b[1;31m---------------------------------------------------------------------------\u001b[0m",
      "\u001b[1;31mFileNotFoundError\u001b[0m                         Traceback (most recent call last)",
      "Cell \u001b[1;32mIn[10], line 1\u001b[0m\n\u001b[1;32m----> 1\u001b[0m os\u001b[38;5;241m.\u001b[39mchdir(\u001b[38;5;124m\"\u001b[39m\u001b[38;5;124mC:/Users/kendr/Documents/GitHub/Big_Data_TP3_Grupo13\u001b[39m\u001b[38;5;124m\"\u001b[39m)\n",
      "\u001b[1;31mFileNotFoundError\u001b[0m: [WinError 3] El sistema no puede encontrar la ruta especificada: 'C:/Users/kendr/Documents/GitHub/Big_Data_TP3_Grupo13'"
     ]
    }
   ],
   "source": [
    "os.chdir(\"C:/Users/kendr/Documents/GitHub/Big_Data_TP3_Grupo13\")"
   ]
  },
  {
   "cell_type": "code",
   "execution_count": 95,
   "id": "50d56ebc-09ac-42d0-a3dd-dd58dc086a8a",
   "metadata": {},
   "outputs": [],
   "source": [
    "df = pd.read_stata(\"Individual_t104.dta\")\n",
    "df = df[df[\"region\"]==\"Gran Buenos Aires\"]\n"
   ]
  },
  {
   "cell_type": "code",
   "execution_count": 97,
   "id": "a8e8b05d-f8a1-4f67-bb05-6ef894f0e127",
   "metadata": {},
   "outputs": [],
   "source": [
    "edades2004=df[[\"ano4\",\"ch06\"]]"
   ]
  },
  {
   "cell_type": "code",
   "execution_count": 99,
   "id": "c5345214-38f3-47f1-a8f7-7cf57873df02",
   "metadata": {},
   "outputs": [
    {
     "data": {
      "text/html": [
       "<div>\n",
       "<style scoped>\n",
       "    .dataframe tbody tr th:only-of-type {\n",
       "        vertical-align: middle;\n",
       "    }\n",
       "\n",
       "    .dataframe tbody tr th {\n",
       "        vertical-align: top;\n",
       "    }\n",
       "\n",
       "    .dataframe thead th {\n",
       "        text-align: right;\n",
       "    }\n",
       "</style>\n",
       "<table border=\"1\" class=\"dataframe\">\n",
       "  <thead>\n",
       "    <tr style=\"text-align: right;\">\n",
       "      <th></th>\n",
       "      <th>ano4</th>\n",
       "      <th>ch06</th>\n",
       "    </tr>\n",
       "  </thead>\n",
       "  <tbody>\n",
       "    <tr>\n",
       "      <th>0</th>\n",
       "      <td>2004.0</td>\n",
       "      <td>79.0</td>\n",
       "    </tr>\n",
       "    <tr>\n",
       "      <th>1</th>\n",
       "      <td>2004.0</td>\n",
       "      <td>67.0</td>\n",
       "    </tr>\n",
       "    <tr>\n",
       "      <th>2</th>\n",
       "      <td>2004.0</td>\n",
       "      <td>74.0</td>\n",
       "    </tr>\n",
       "    <tr>\n",
       "      <th>3</th>\n",
       "      <td>2004.0</td>\n",
       "      <td>54.0</td>\n",
       "    </tr>\n",
       "    <tr>\n",
       "      <th>4</th>\n",
       "      <td>2004.0</td>\n",
       "      <td>51.0</td>\n",
       "    </tr>\n",
       "    <tr>\n",
       "      <th>...</th>\n",
       "      <td>...</td>\n",
       "      <td>...</td>\n",
       "    </tr>\n",
       "    <tr>\n",
       "      <th>7642</th>\n",
       "      <td>2004.0</td>\n",
       "      <td>1.0</td>\n",
       "    </tr>\n",
       "    <tr>\n",
       "      <th>7643</th>\n",
       "      <td>2004.0</td>\n",
       "      <td>51.0</td>\n",
       "    </tr>\n",
       "    <tr>\n",
       "      <th>7644</th>\n",
       "      <td>2004.0</td>\n",
       "      <td>55.0</td>\n",
       "    </tr>\n",
       "    <tr>\n",
       "      <th>7645</th>\n",
       "      <td>2004.0</td>\n",
       "      <td>12.0</td>\n",
       "    </tr>\n",
       "    <tr>\n",
       "      <th>7646</th>\n",
       "      <td>2004.0</td>\n",
       "      <td>22.0</td>\n",
       "    </tr>\n",
       "  </tbody>\n",
       "</table>\n",
       "<p>7647 rows × 2 columns</p>\n",
       "</div>"
      ],
      "text/plain": [
       "        ano4  ch06\n",
       "0     2004.0  79.0\n",
       "1     2004.0  67.0\n",
       "2     2004.0  74.0\n",
       "3     2004.0  54.0\n",
       "4     2004.0  51.0\n",
       "...      ...   ...\n",
       "7642  2004.0   1.0\n",
       "7643  2004.0  51.0\n",
       "7644  2004.0  55.0\n",
       "7645  2004.0  12.0\n",
       "7646  2004.0  22.0\n",
       "\n",
       "[7647 rows x 2 columns]"
      ]
     },
     "execution_count": 99,
     "metadata": {},
     "output_type": "execute_result"
    }
   ],
   "source": [
    "edades2004"
   ]
  },
  {
   "cell_type": "code",
   "execution_count": 101,
   "id": "a5f208df-9e13-41ad-bf22-2348be62ae41",
   "metadata": {},
   "outputs": [],
   "source": [
    "edades2004 = edades2004.rename(columns={\"ch06\": \"edad2\",\"ano4\":\"año\"})"
   ]
  },
  {
   "cell_type": "code",
   "execution_count": 103,
   "id": "6a5dc4ce-30d3-4acc-9d2c-9cbfee6646be",
   "metadata": {},
   "outputs": [
    {
     "data": {
      "text/html": [
       "<div>\n",
       "<style scoped>\n",
       "    .dataframe tbody tr th:only-of-type {\n",
       "        vertical-align: middle;\n",
       "    }\n",
       "\n",
       "    .dataframe tbody tr th {\n",
       "        vertical-align: top;\n",
       "    }\n",
       "\n",
       "    .dataframe thead th {\n",
       "        text-align: right;\n",
       "    }\n",
       "</style>\n",
       "<table border=\"1\" class=\"dataframe\">\n",
       "  <thead>\n",
       "    <tr style=\"text-align: right;\">\n",
       "      <th></th>\n",
       "      <th>año</th>\n",
       "      <th>edad2</th>\n",
       "    </tr>\n",
       "  </thead>\n",
       "  <tbody>\n",
       "    <tr>\n",
       "      <th>0</th>\n",
       "      <td>2004.0</td>\n",
       "      <td>79.0</td>\n",
       "    </tr>\n",
       "    <tr>\n",
       "      <th>1</th>\n",
       "      <td>2004.0</td>\n",
       "      <td>67.0</td>\n",
       "    </tr>\n",
       "    <tr>\n",
       "      <th>2</th>\n",
       "      <td>2004.0</td>\n",
       "      <td>74.0</td>\n",
       "    </tr>\n",
       "    <tr>\n",
       "      <th>3</th>\n",
       "      <td>2004.0</td>\n",
       "      <td>54.0</td>\n",
       "    </tr>\n",
       "    <tr>\n",
       "      <th>4</th>\n",
       "      <td>2004.0</td>\n",
       "      <td>51.0</td>\n",
       "    </tr>\n",
       "    <tr>\n",
       "      <th>...</th>\n",
       "      <td>...</td>\n",
       "      <td>...</td>\n",
       "    </tr>\n",
       "    <tr>\n",
       "      <th>7642</th>\n",
       "      <td>2004.0</td>\n",
       "      <td>1.0</td>\n",
       "    </tr>\n",
       "    <tr>\n",
       "      <th>7643</th>\n",
       "      <td>2004.0</td>\n",
       "      <td>51.0</td>\n",
       "    </tr>\n",
       "    <tr>\n",
       "      <th>7644</th>\n",
       "      <td>2004.0</td>\n",
       "      <td>55.0</td>\n",
       "    </tr>\n",
       "    <tr>\n",
       "      <th>7645</th>\n",
       "      <td>2004.0</td>\n",
       "      <td>12.0</td>\n",
       "    </tr>\n",
       "    <tr>\n",
       "      <th>7646</th>\n",
       "      <td>2004.0</td>\n",
       "      <td>22.0</td>\n",
       "    </tr>\n",
       "  </tbody>\n",
       "</table>\n",
       "<p>7647 rows × 2 columns</p>\n",
       "</div>"
      ],
      "text/plain": [
       "         año edad2\n",
       "0     2004.0  79.0\n",
       "1     2004.0  67.0\n",
       "2     2004.0  74.0\n",
       "3     2004.0  54.0\n",
       "4     2004.0  51.0\n",
       "...      ...   ...\n",
       "7642  2004.0   1.0\n",
       "7643  2004.0  51.0\n",
       "7644  2004.0  55.0\n",
       "7645  2004.0  12.0\n",
       "7646  2004.0  22.0\n",
       "\n",
       "[7647 rows x 2 columns]"
      ]
     },
     "execution_count": 103,
     "metadata": {},
     "output_type": "execute_result"
    }
   ],
   "source": [
    "edades2004\n"
   ]
  },
  {
   "cell_type": "code",
   "execution_count": 105,
   "id": "1f710030-e51f-4fc2-a4c7-722812be2b95",
   "metadata": {},
   "outputs": [
    {
     "name": "stdout",
     "output_type": "stream",
     "text": [
      "año:\n",
      "[2004.]\n",
      "----------------------------------------\n",
      "edad2:\n",
      "[79.0, 67.0, 74.0, 54.0, 51.0, ..., 84.0, 90.0, 94.0, 88.0, '98 y más años']\n",
      "Length: 96\n",
      "Categories (99, object): ['Menos de 1 año' < 1.0 < 2.0 < 3.0 ... 95.0 < 96.0 < 97.0 < '98 y más años']\n",
      "----------------------------------------\n"
     ]
    }
   ],
   "source": [
    "for col in edades2004.columns:\n",
    "    print(f\"{col}:\")\n",
    "    print(edades2004[col].unique())\n",
    "    print(\"-\" * 40)"
   ]
  },
  {
   "cell_type": "code",
   "execution_count": 107,
   "id": "b72311e2-37e0-40dd-a06b-0d6d12e94751",
   "metadata": {},
   "outputs": [],
   "source": [
    "edades2004[\"edad2\"] = edades2004[\"edad2\"].astype(str).replace({\"Menos de 1 año\": \"1\", \"98 y más años\": \"98\"})\n",
    "edades2004[\"edad2\"] = edades2004[\"edad2\"].astype(float)\n"
   ]
  },
  {
   "cell_type": "code",
   "execution_count": 109,
   "id": "da3bc331-9554-4dab-8d00-2329ea00a9dc",
   "metadata": {},
   "outputs": [],
   "source": [
    "edades2004['edad2'] = edades2004['edad2'] ** 2  # Elevar los valores al cuadrado\n"
   ]
  },
  {
   "cell_type": "code",
   "execution_count": 110,
   "id": "a4c62b95-8080-4e24-bb6b-550f130969e5",
   "metadata": {},
   "outputs": [],
   "source": [
    "edades2004hist= edades2004[[\"edad2\"]]"
   ]
  },
  {
   "cell_type": "code",
   "execution_count": 112,
   "id": "a0ed914d-23f2-4e82-b14f-f14c47faabbc",
   "metadata": {},
   "outputs": [],
   "source": [
    "df2024 = pd.read_excel(\"usu_individual_T124.xlsx\")"
   ]
  },
  {
   "cell_type": "code",
   "execution_count": 113,
   "id": "a7c4bf61-cbc9-4084-8d6b-ea8bba4b1956",
   "metadata": {},
   "outputs": [],
   "source": [
    "df2024 = df2024[df2024[\"REGION\"]==1]"
   ]
  },
  {
   "cell_type": "code",
   "execution_count": 115,
   "id": "cdacab69-d7cf-455a-8c31-7e5dc12f4a20",
   "metadata": {},
   "outputs": [],
   "source": [
    "edades2024=df2024[[\"ANO4\",\"CH06\"]]"
   ]
  },
  {
   "cell_type": "code",
   "execution_count": 116,
   "id": "7f65c144-7758-4b79-a75e-801505b6e00a",
   "metadata": {},
   "outputs": [
    {
     "data": {
      "text/html": [
       "<div>\n",
       "<style scoped>\n",
       "    .dataframe tbody tr th:only-of-type {\n",
       "        vertical-align: middle;\n",
       "    }\n",
       "\n",
       "    .dataframe tbody tr th {\n",
       "        vertical-align: top;\n",
       "    }\n",
       "\n",
       "    .dataframe thead th {\n",
       "        text-align: right;\n",
       "    }\n",
       "</style>\n",
       "<table border=\"1\" class=\"dataframe\">\n",
       "  <thead>\n",
       "    <tr style=\"text-align: right;\">\n",
       "      <th></th>\n",
       "      <th>ANO4</th>\n",
       "      <th>CH06</th>\n",
       "    </tr>\n",
       "  </thead>\n",
       "  <tbody>\n",
       "    <tr>\n",
       "      <th>245</th>\n",
       "      <td>2024</td>\n",
       "      <td>85</td>\n",
       "    </tr>\n",
       "    <tr>\n",
       "      <th>246</th>\n",
       "      <td>2024</td>\n",
       "      <td>59</td>\n",
       "    </tr>\n",
       "    <tr>\n",
       "      <th>247</th>\n",
       "      <td>2024</td>\n",
       "      <td>57</td>\n",
       "    </tr>\n",
       "    <tr>\n",
       "      <th>255</th>\n",
       "      <td>2024</td>\n",
       "      <td>26</td>\n",
       "    </tr>\n",
       "    <tr>\n",
       "      <th>256</th>\n",
       "      <td>2024</td>\n",
       "      <td>88</td>\n",
       "    </tr>\n",
       "    <tr>\n",
       "      <th>...</th>\n",
       "      <td>...</td>\n",
       "      <td>...</td>\n",
       "    </tr>\n",
       "    <tr>\n",
       "      <th>46045</th>\n",
       "      <td>2024</td>\n",
       "      <td>43</td>\n",
       "    </tr>\n",
       "    <tr>\n",
       "      <th>46046</th>\n",
       "      <td>2024</td>\n",
       "      <td>21</td>\n",
       "    </tr>\n",
       "    <tr>\n",
       "      <th>46047</th>\n",
       "      <td>2024</td>\n",
       "      <td>20</td>\n",
       "    </tr>\n",
       "    <tr>\n",
       "      <th>46048</th>\n",
       "      <td>2024</td>\n",
       "      <td>11</td>\n",
       "    </tr>\n",
       "    <tr>\n",
       "      <th>46049</th>\n",
       "      <td>2024</td>\n",
       "      <td>24</td>\n",
       "    </tr>\n",
       "  </tbody>\n",
       "</table>\n",
       "<p>7051 rows × 2 columns</p>\n",
       "</div>"
      ],
      "text/plain": [
       "       ANO4  CH06\n",
       "245    2024    85\n",
       "246    2024    59\n",
       "247    2024    57\n",
       "255    2024    26\n",
       "256    2024    88\n",
       "...     ...   ...\n",
       "46045  2024    43\n",
       "46046  2024    21\n",
       "46047  2024    20\n",
       "46048  2024    11\n",
       "46049  2024    24\n",
       "\n",
       "[7051 rows x 2 columns]"
      ]
     },
     "execution_count": 116,
     "metadata": {},
     "output_type": "execute_result"
    }
   ],
   "source": [
    "edades2024"
   ]
  },
  {
   "cell_type": "code",
   "execution_count": 117,
   "id": "f07f4dc7-bd3b-4e07-9495-75723e31630b",
   "metadata": {},
   "outputs": [],
   "source": [
    "edades2024 = edades2024.rename(columns={\"CH06\": \"edad2\",\"ANO4\":\"año\"})"
   ]
  },
  {
   "cell_type": "code",
   "execution_count": 118,
   "id": "91a1c756-052b-432a-af8d-8ffd14dfd708",
   "metadata": {},
   "outputs": [
    {
     "name": "stdout",
     "output_type": "stream",
     "text": [
      "año:\n",
      "[2024]\n",
      "----------------------------------------\n",
      "edad2:\n",
      "[85 59 57 26 88 81 43 66 50 30 10  5 46 49 25 20 56 61 62 29 77 80 74 21\n",
      " 78 75 58 15 48 23 14 79 47 42 11 65 71 70 45 51 86 64 82  6 39 17  8  3\n",
      "  1 32 60 22 44 37 34 18 24 54 76 35 31 12  7 72 40 63 19 36  9 28 27 83\n",
      " 33 73 41 84 91 53 16 52 13 55  4 68 69 90 -1 89 67 38  2 92 95 96 93 94\n",
      " 87 97]\n",
      "----------------------------------------\n"
     ]
    }
   ],
   "source": [
    "for col in edades2024.columns:\n",
    "    print(f\"{col}:\")\n",
    "    print(edades2024[col].unique())\n",
    "    print(\"-\" * 40)"
   ]
  },
  {
   "cell_type": "code",
   "execution_count": 119,
   "id": "fed71f69-929f-47a3-936c-b70a67630f48",
   "metadata": {},
   "outputs": [],
   "source": [
    "edades2024['edad2'] = edades2024['edad2'] ** 2"
   ]
  },
  {
   "cell_type": "code",
   "execution_count": 120,
   "id": "442a2958-2536-4d98-971e-0aa4259b5df0",
   "metadata": {},
   "outputs": [
    {
     "data": {
      "text/html": [
       "<div>\n",
       "<style scoped>\n",
       "    .dataframe tbody tr th:only-of-type {\n",
       "        vertical-align: middle;\n",
       "    }\n",
       "\n",
       "    .dataframe tbody tr th {\n",
       "        vertical-align: top;\n",
       "    }\n",
       "\n",
       "    .dataframe thead th {\n",
       "        text-align: right;\n",
       "    }\n",
       "</style>\n",
       "<table border=\"1\" class=\"dataframe\">\n",
       "  <thead>\n",
       "    <tr style=\"text-align: right;\">\n",
       "      <th></th>\n",
       "      <th>año</th>\n",
       "      <th>edad2</th>\n",
       "    </tr>\n",
       "  </thead>\n",
       "  <tbody>\n",
       "    <tr>\n",
       "      <th>245</th>\n",
       "      <td>2024</td>\n",
       "      <td>7225</td>\n",
       "    </tr>\n",
       "    <tr>\n",
       "      <th>246</th>\n",
       "      <td>2024</td>\n",
       "      <td>3481</td>\n",
       "    </tr>\n",
       "    <tr>\n",
       "      <th>247</th>\n",
       "      <td>2024</td>\n",
       "      <td>3249</td>\n",
       "    </tr>\n",
       "    <tr>\n",
       "      <th>255</th>\n",
       "      <td>2024</td>\n",
       "      <td>676</td>\n",
       "    </tr>\n",
       "    <tr>\n",
       "      <th>256</th>\n",
       "      <td>2024</td>\n",
       "      <td>7744</td>\n",
       "    </tr>\n",
       "    <tr>\n",
       "      <th>...</th>\n",
       "      <td>...</td>\n",
       "      <td>...</td>\n",
       "    </tr>\n",
       "    <tr>\n",
       "      <th>46045</th>\n",
       "      <td>2024</td>\n",
       "      <td>1849</td>\n",
       "    </tr>\n",
       "    <tr>\n",
       "      <th>46046</th>\n",
       "      <td>2024</td>\n",
       "      <td>441</td>\n",
       "    </tr>\n",
       "    <tr>\n",
       "      <th>46047</th>\n",
       "      <td>2024</td>\n",
       "      <td>400</td>\n",
       "    </tr>\n",
       "    <tr>\n",
       "      <th>46048</th>\n",
       "      <td>2024</td>\n",
       "      <td>121</td>\n",
       "    </tr>\n",
       "    <tr>\n",
       "      <th>46049</th>\n",
       "      <td>2024</td>\n",
       "      <td>576</td>\n",
       "    </tr>\n",
       "  </tbody>\n",
       "</table>\n",
       "<p>7051 rows × 2 columns</p>\n",
       "</div>"
      ],
      "text/plain": [
       "        año  edad2\n",
       "245    2024   7225\n",
       "246    2024   3481\n",
       "247    2024   3249\n",
       "255    2024    676\n",
       "256    2024   7744\n",
       "...     ...    ...\n",
       "46045  2024   1849\n",
       "46046  2024    441\n",
       "46047  2024    400\n",
       "46048  2024    121\n",
       "46049  2024    576\n",
       "\n",
       "[7051 rows x 2 columns]"
      ]
     },
     "execution_count": 120,
     "metadata": {},
     "output_type": "execute_result"
    }
   ],
   "source": [
    "edades2024"
   ]
  },
  {
   "cell_type": "code",
   "execution_count": 121,
   "id": "e61a94cf-42b9-4cc7-845c-5374dd92ebeb",
   "metadata": {},
   "outputs": [],
   "source": [
    "edad2 = pd.concat([edades2004, edades2024])"
   ]
  },
  {
   "cell_type": "code",
   "execution_count": 122,
   "id": "3431352f-8657-486b-b930-b01f8d179cf0",
   "metadata": {},
   "outputs": [
    {
     "name": "stdout",
     "output_type": "stream",
     "text": [
      "Requirement already satisfied: scikit-learn in d:\\anaconda\\lib\\site-packages (1.5.1)\n",
      "Requirement already satisfied: numpy>=1.19.5 in d:\\anaconda\\lib\\site-packages (from scikit-learn) (1.26.4)\n",
      "Requirement already satisfied: scipy>=1.6.0 in d:\\anaconda\\lib\\site-packages (from scikit-learn) (1.11.4)\n",
      "Requirement already satisfied: joblib>=1.2.0 in d:\\anaconda\\lib\\site-packages (from scikit-learn) (1.4.2)\n",
      "Requirement already satisfied: threadpoolctl>=3.1.0 in d:\\anaconda\\lib\\site-packages (from scikit-learn) (3.5.0)\n"
     ]
    }
   ],
   "source": [
    "!pip install scikit-learn"
   ]
  },
  {
   "cell_type": "code",
   "execution_count": 123,
   "id": "5b579e15-bc87-4dea-bf4f-4d31f5428870",
   "metadata": {},
   "outputs": [],
   "source": [
    "import numpy as np\n",
    "import matplotlib.pyplot as plt"
   ]
  },
  {
   "cell_type": "code",
   "execution_count": 124,
   "id": "ae1f7629-2f9a-478b-b453-54aa534c88f2",
   "metadata": {},
   "outputs": [
    {
     "data": {
      "image/png": "[encoded data removed]",
      "text/plain": [
       "<Figure size 1000x600 with 1 Axes>"
      ]
     },
     "metadata": {},
     "output_type": "display_data"
    }
   ],
   "source": [
    "edad_2004 = edad2[edad2['año'] == 2004.0]['edad2']\n",
    "edad_2024 = edad2[edad2['año'] == 2024.0]['edad2']\n",
    "\n",
    "plt.figure(figsize=(10,6))\n",
    "plt.hist([edad_2004, edad_2024],bins=20, alpha=0.5, color=['blue', 'green'], label=['2004', '2024'])\n",
    "plt.xlabel('Edad2')\n",
    "plt.ylabel('Frecuencia')\n",
    "plt.title('Comparación de histogramas para 2004 y 2024')\n",
    "plt.legend()\n",
    "plt.show()\n",
    "#no tiene mucho sentido gráficar las edades al cuadrado, aparte de que es poco entendible a simple vista"
   ]
  },
  {
   "cell_type": "code",
   "execution_count": 125,
   "id": "ec5b5b48-ffcf-4445-91d9-e4ae0953bd45",
   "metadata": {},
   "outputs": [
    {
     "data": {
      "image/png": "[encoded data removed]",
      "text/plain": [
       "<Figure size 1000x600 with 1 Axes>"
      ]
     },
     "metadata": {},
     "output_type": "display_data"
    }
   ],
   "source": [
    "edad_2004 = np.sqrt(edad2[edad2['año'] == 2004.0]['edad2'])\n",
    "edad_2024 = np.sqrt(edad2[edad2['año'] == 2024.0]['edad2']) #np.sqrt nos da la raiz cuadrada de la columna edad\n",
    "\n",
    "plt.figure(figsize=(10,6))\n",
    "plt.hist([edad_2004, edad_2024],bins=40, alpha=0.5, color=['blue', 'green'], label=['2004', '2024'])\n",
    "plt.xlabel('Edad')\n",
    "plt.ylabel('Frecuencia')\n",
    "plt.title('Comparación de histogramas para 2004 y 2024')\n",
    "plt.legend()\n",
    "plt.show()"
   ]
  },
  {
   "cell_type": "code",
   "execution_count": 126,
   "id": "eb97f364-9b46-4da4-ada6-aa16ba394602",
   "metadata": {},
   "outputs": [],
   "source": [
    "from sklearn.neighbors import KernelDensity"
   ]
  },
  {
   "cell_type": "code",
   "execution_count": 127,
   "id": "e94d9553-a488-4062-a1ff-906038dc619c",
   "metadata": {},
   "outputs": [],
   "source": [
    "df2004 = df"
   ]
  },
  {
   "cell_type": "code",
   "execution_count": 128,
   "id": "048ad78c-b0a4-4bfc-a595-7388c8556a51",
   "metadata": {},
   "outputs": [],
   "source": [
    "df2004estado = df2004[[\"ano4\",\"estado\",\"ch06\"]]"
   ]
  },
  {
   "cell_type": "code",
   "execution_count": 129,
   "id": "7c25020c-b3b6-4466-b677-459370c3dc83",
   "metadata": {},
   "outputs": [],
   "source": [
    "valores_permitidos = ['Ocupado', 'Desocupado']  # los valores que querés conservar\n",
    "\n",
    "df2004estado = df2004estado[df2004estado['estado'].isin(valores_permitidos)]"
   ]
  },
  {
   "cell_type": "code",
   "execution_count": 130,
   "id": "3b54c8ef-f6fb-4d43-88f4-8aeea5345259",
   "metadata": {},
   "outputs": [],
   "source": [
    "df2004estado = df2004estado.rename(columns={\"ano4\":\"año\",\"ch06\":\"edad\"})"
   ]
  },
  {
   "cell_type": "code",
   "execution_count": 131,
   "id": "07a1a488-072b-4340-a506-524475dceebf",
   "metadata": {},
   "outputs": [
    {
     "name": "stdout",
     "output_type": "stream",
     "text": [
      "año:\n",
      "[2004.]\n",
      "----------------------------------------\n",
      "estado:\n",
      "['Ocupado', 'Desocupado']\n",
      "Categories (5, object): ['Entrevista individual no realizada (no respue... < 'Ocupado' < 'Desocupado' < 'Inactivo' < 'Menor de 10 años']\n",
      "----------------------------------------\n",
      "edad:\n",
      "[67.0, 54.0, 25.0, 20.0, 55.0, ..., 10.0, 12.0, 81.0, 84.0, 79.0]\n",
      "Length: 75\n",
      "Categories (99, object): ['Menos de 1 año' < 1.0 < 2.0 < 3.0 ... 95.0 < 96.0 < 97.0 < '98 y más años']\n",
      "----------------------------------------\n"
     ]
    }
   ],
   "source": [
    "for col in df2004estado.columns:\n",
    "    print(f\"{col}:\")\n",
    "    print(df2004estado[col].unique())\n",
    "    print(\"-\" * 40)"
   ]
  },
  {
   "cell_type": "code",
   "execution_count": 132,
   "id": "502b8538-ca39-41e7-af4d-ad717b26be5b",
   "metadata": {},
   "outputs": [],
   "source": [
    "df2004estado[\"edad\"] = df2004estado[\"edad\"].astype(str).replace({\"Menos de 1 año\": \"1\", \"98 y más años\": \"98\"})\n",
    "df2004estado[\"edad\"] = df2004estado[\"edad\"].astype(float)"
   ]
  },
  {
   "cell_type": "code",
   "execution_count": 133,
   "id": "30aa57ac-d094-477a-bd34-a327b3d65045",
   "metadata": {},
   "outputs": [],
   "source": [
    "df2004estado[\"estado\"] = df2004estado[\"estado\"].astype(str).replace({\"Ocupado\": \"1\", \"Desocupado\": \"2\"})\n",
    "df2004estado[\"estado\"] = df2004estado[\"estado\"].astype(float)"
   ]
  },
  {
   "cell_type": "code",
   "execution_count": 134,
   "id": "191e895a-2a87-4e6b-a779-e5239ec29870",
   "metadata": {},
   "outputs": [
    {
     "data": {
      "text/html": [
       "<div>\n",
       "<style scoped>\n",
       "    .dataframe tbody tr th:only-of-type {\n",
       "        vertical-align: middle;\n",
       "    }\n",
       "\n",
       "    .dataframe tbody tr th {\n",
       "        vertical-align: top;\n",
       "    }\n",
       "\n",
       "    .dataframe thead th {\n",
       "        text-align: right;\n",
       "    }\n",
       "</style>\n",
       "<table border=\"1\" class=\"dataframe\">\n",
       "  <thead>\n",
       "    <tr style=\"text-align: right;\">\n",
       "      <th></th>\n",
       "      <th>año</th>\n",
       "      <th>estado</th>\n",
       "      <th>edad</th>\n",
       "    </tr>\n",
       "  </thead>\n",
       "  <tbody>\n",
       "    <tr>\n",
       "      <th>1</th>\n",
       "      <td>2004.0</td>\n",
       "      <td>1.0</td>\n",
       "      <td>67.0</td>\n",
       "    </tr>\n",
       "    <tr>\n",
       "      <th>3</th>\n",
       "      <td>2004.0</td>\n",
       "      <td>1.0</td>\n",
       "      <td>54.0</td>\n",
       "    </tr>\n",
       "    <tr>\n",
       "      <th>5</th>\n",
       "      <td>2004.0</td>\n",
       "      <td>1.0</td>\n",
       "      <td>25.0</td>\n",
       "    </tr>\n",
       "    <tr>\n",
       "      <th>6</th>\n",
       "      <td>2004.0</td>\n",
       "      <td>1.0</td>\n",
       "      <td>20.0</td>\n",
       "    </tr>\n",
       "    <tr>\n",
       "      <th>7</th>\n",
       "      <td>2004.0</td>\n",
       "      <td>1.0</td>\n",
       "      <td>55.0</td>\n",
       "    </tr>\n",
       "    <tr>\n",
       "      <th>...</th>\n",
       "      <td>...</td>\n",
       "      <td>...</td>\n",
       "      <td>...</td>\n",
       "    </tr>\n",
       "    <tr>\n",
       "      <th>7638</th>\n",
       "      <td>2004.0</td>\n",
       "      <td>2.0</td>\n",
       "      <td>19.0</td>\n",
       "    </tr>\n",
       "    <tr>\n",
       "      <th>7640</th>\n",
       "      <td>2004.0</td>\n",
       "      <td>1.0</td>\n",
       "      <td>31.0</td>\n",
       "    </tr>\n",
       "    <tr>\n",
       "      <th>7643</th>\n",
       "      <td>2004.0</td>\n",
       "      <td>1.0</td>\n",
       "      <td>51.0</td>\n",
       "    </tr>\n",
       "    <tr>\n",
       "      <th>7644</th>\n",
       "      <td>2004.0</td>\n",
       "      <td>1.0</td>\n",
       "      <td>55.0</td>\n",
       "    </tr>\n",
       "    <tr>\n",
       "      <th>7646</th>\n",
       "      <td>2004.0</td>\n",
       "      <td>1.0</td>\n",
       "      <td>22.0</td>\n",
       "    </tr>\n",
       "  </tbody>\n",
       "</table>\n",
       "<p>3607 rows × 3 columns</p>\n",
       "</div>"
      ],
      "text/plain": [
       "         año  estado  edad\n",
       "1     2004.0     1.0  67.0\n",
       "3     2004.0     1.0  54.0\n",
       "5     2004.0     1.0  25.0\n",
       "6     2004.0     1.0  20.0\n",
       "7     2004.0     1.0  55.0\n",
       "...      ...     ...   ...\n",
       "7638  2004.0     2.0  19.0\n",
       "7640  2004.0     1.0  31.0\n",
       "7643  2004.0     1.0  51.0\n",
       "7644  2004.0     1.0  55.0\n",
       "7646  2004.0     1.0  22.0\n",
       "\n",
       "[3607 rows x 3 columns]"
      ]
     },
     "execution_count": 134,
     "metadata": {},
     "output_type": "execute_result"
    }
   ],
   "source": [
    "df2004estado"
   ]
  },
  {
   "cell_type": "code",
   "execution_count": 135,
   "id": "6aca31bc-d6d1-4905-9eec-c6ca88d4d03b",
   "metadata": {},
   "outputs": [],
   "source": [
    "df2024estado=df2024[[\"ANO4\",\"ESTADO\",\"CH06\"]]"
   ]
  },
  {
   "cell_type": "code",
   "execution_count": 136,
   "id": "cdf5974a-3570-4353-8aa2-e933d01a4f1b",
   "metadata": {},
   "outputs": [],
   "source": [
    "df2024estado\n",
    "valores_permitidos = [1,2]\n",
    "\n",
    "df2024estado = df2024estado[df2024estado['ESTADO'].isin(valores_permitidos)]"
   ]
  },
  {
   "cell_type": "code",
   "execution_count": 137,
   "id": "b2aeac4e-db50-4103-a8ad-cd3f0e47882a",
   "metadata": {},
   "outputs": [],
   "source": [
    "df2024estado = df2024estado.rename(columns={\"ESTADO\": \"estado\",\"ANO4\":\"año\",\"CH06\":\"edad\"})"
   ]
  },
  {
   "cell_type": "code",
   "execution_count": 138,
   "id": "407dcac0-a2ea-4f02-a1ff-383233b3a15e",
   "metadata": {},
   "outputs": [
    {
     "data": {
      "text/html": [
       "<div>\n",
       "<style scoped>\n",
       "    .dataframe tbody tr th:only-of-type {\n",
       "        vertical-align: middle;\n",
       "    }\n",
       "\n",
       "    .dataframe tbody tr th {\n",
       "        vertical-align: top;\n",
       "    }\n",
       "\n",
       "    .dataframe thead th {\n",
       "        text-align: right;\n",
       "    }\n",
       "</style>\n",
       "<table border=\"1\" class=\"dataframe\">\n",
       "  <thead>\n",
       "    <tr style=\"text-align: right;\">\n",
       "      <th></th>\n",
       "      <th>año</th>\n",
       "      <th>estado</th>\n",
       "      <th>edad</th>\n",
       "    </tr>\n",
       "  </thead>\n",
       "  <tbody>\n",
       "    <tr>\n",
       "      <th>1</th>\n",
       "      <td>2004.0</td>\n",
       "      <td>1.0</td>\n",
       "      <td>67.0</td>\n",
       "    </tr>\n",
       "    <tr>\n",
       "      <th>3</th>\n",
       "      <td>2004.0</td>\n",
       "      <td>1.0</td>\n",
       "      <td>54.0</td>\n",
       "    </tr>\n",
       "    <tr>\n",
       "      <th>5</th>\n",
       "      <td>2004.0</td>\n",
       "      <td>1.0</td>\n",
       "      <td>25.0</td>\n",
       "    </tr>\n",
       "    <tr>\n",
       "      <th>6</th>\n",
       "      <td>2004.0</td>\n",
       "      <td>1.0</td>\n",
       "      <td>20.0</td>\n",
       "    </tr>\n",
       "    <tr>\n",
       "      <th>7</th>\n",
       "      <td>2004.0</td>\n",
       "      <td>1.0</td>\n",
       "      <td>55.0</td>\n",
       "    </tr>\n",
       "    <tr>\n",
       "      <th>...</th>\n",
       "      <td>...</td>\n",
       "      <td>...</td>\n",
       "      <td>...</td>\n",
       "    </tr>\n",
       "    <tr>\n",
       "      <th>46040</th>\n",
       "      <td>2024.0</td>\n",
       "      <td>1.0</td>\n",
       "      <td>34.0</td>\n",
       "    </tr>\n",
       "    <tr>\n",
       "      <th>46042</th>\n",
       "      <td>2024.0</td>\n",
       "      <td>2.0</td>\n",
       "      <td>63.0</td>\n",
       "    </tr>\n",
       "    <tr>\n",
       "      <th>46043</th>\n",
       "      <td>2024.0</td>\n",
       "      <td>1.0</td>\n",
       "      <td>33.0</td>\n",
       "    </tr>\n",
       "    <tr>\n",
       "      <th>46044</th>\n",
       "      <td>2024.0</td>\n",
       "      <td>1.0</td>\n",
       "      <td>33.0</td>\n",
       "    </tr>\n",
       "    <tr>\n",
       "      <th>46045</th>\n",
       "      <td>2024.0</td>\n",
       "      <td>1.0</td>\n",
       "      <td>43.0</td>\n",
       "    </tr>\n",
       "  </tbody>\n",
       "</table>\n",
       "<p>7142 rows × 3 columns</p>\n",
       "</div>"
      ],
      "text/plain": [
       "          año  estado  edad\n",
       "1      2004.0     1.0  67.0\n",
       "3      2004.0     1.0  54.0\n",
       "5      2004.0     1.0  25.0\n",
       "6      2004.0     1.0  20.0\n",
       "7      2004.0     1.0  55.0\n",
       "...       ...     ...   ...\n",
       "46040  2024.0     1.0  34.0\n",
       "46042  2024.0     2.0  63.0\n",
       "46043  2024.0     1.0  33.0\n",
       "46044  2024.0     1.0  33.0\n",
       "46045  2024.0     1.0  43.0\n",
       "\n",
       "[7142 rows x 3 columns]"
      ]
     },
     "execution_count": 138,
     "metadata": {},
     "output_type": "execute_result"
    }
   ],
   "source": [
    "PanelB = pd.concat([df2004estado, df2024estado])\n",
    "PanelB"
   ]
  },
  {
   "cell_type": "code",
   "execution_count": 139,
   "id": "172d4b01-2034-43d3-a6a7-3d0e60cb7220",
   "metadata": {},
   "outputs": [
    {
     "data": {
      "image/png": "[encoded data removed]",
      "text/plain": [
       "<Figure size 1000x600 with 1 Axes>"
      ]
     },
     "metadata": {},
     "output_type": "display_data"
    }
   ],
   "source": [
    "ocupados = PanelB[PanelB['estado'] == 1]['edad'].dropna().values.reshape(-1, 1)\n",
    "desocupados = PanelB[PanelB['estado'] == 2]['edad'].dropna().values.reshape(-1, 1)\n",
    "\n",
    "x_range = np.linspace(PanelB['edad'].min(), PanelB['edad'].max(), 1000).reshape(-1, 1)\n",
    "\n",
    "\n",
    "kde_ocup = KernelDensity(kernel='gaussian', bandwidth=2).fit(ocupados)\n",
    "dens_ocup = np.exp(kde_ocup.score_samples(x_range))\n",
    "\n",
    "kde_desocup = KernelDensity(kernel='gaussian', bandwidth=2).fit(desocupados)\n",
    "dens_desocup = np.exp(kde_desocup.score_samples(x_range))\n",
    "\n",
    "plt.figure(figsize=(10, 6))\n",
    "plt.plot(x_range[:, 0], dens_ocup, color='blue', label='Ocupados')\n",
    "plt.plot(x_range[:, 0], dens_desocup, color='red', label='Desocupados')\n",
    "plt.title('Distribución de edades - Estimación Kernel')\n",
    "plt.xlabel('Edad')\n",
    "plt.ylabel('Densidad estimada')\n",
    "plt.legend()\n",
    "plt.grid(True)\n",
    "plt.show()\n",
    "#Podemos ver que el gráfico nos muestra una mayor distribución de desocupados entre los 20 y 25."
   ]
  },
  {
   "cell_type": "code",
   "execution_count": 140,
   "id": "f1974f16-5877-4f71-ae83-e62831a7e35f",
   "metadata": {},
   "outputs": [
    {
     "name": "stdout",
     "output_type": "stream",
     "text": [
      "La distribución de edades muestra que los desocupados (línea roja) tienden a concentrarse en edades más jóvenes, con un pico notable alrededor de los 21 años. En cambio, los ocupados (línea azul) presentan una distribución más uniforme, con una mayor concentración entre los 30 y 50 años. Esto sugiere que los jóvenes enfrentan mayores dificultades para integrarse al mercado laboral\n"
     ]
    }
   ],
   "source": [
    "print (\"La distribución de edades muestra que los desocupados (línea roja) tienden a concentrarse en edades más jóvenes, con un pico notable alrededor de los 21 años. En cambio, los ocupados (línea azul) presentan una distribución más uniforme, con una mayor concentración entre los 30 y 50 años. Esto sugiere que los jóvenes enfrentan mayores dificultades para integrarse al mercado laboral\")"
   ]
  },
  {
   "cell_type": "code",
   "execution_count": 141,
   "id": "5a96dabd-8077-4cae-8eb6-c9545f033ff1",
   "metadata": {},
   "outputs": [],
   "source": [
    "educ2004=df[[\"ano4\",\"ch12\",\"ch13\",\"ch14\"]]\n",
    "educ2004 = educ2004"
   ]
  },
  {
   "cell_type": "code",
   "execution_count": 142,
   "id": "9a789bbf-145c-4a3d-b78b-acfda6c38241",
   "metadata": {},
   "outputs": [
    {
     "name": "stdout",
     "output_type": "stream",
     "text": [
      "        ano4           ch12 ch13 ch14\n",
      "0     2004.0     Secundario   No   03\n",
      "1     2004.0       Primario   Sí     \n",
      "2     2004.0       Primario   Sí     \n",
      "3     2004.0       Primario   Sí     \n",
      "4     2004.0  Universitario   Sí     \n",
      "...      ...            ...  ...  ...\n",
      "7642  2004.0            0.0  0.0     \n",
      "7643  2004.0       Primario   Sí     \n",
      "7644  2004.0       Primario   Sí     \n",
      "7645  2004.0            EGB   No   06\n",
      "7646  2004.0     Secundario   Sí     \n",
      "\n",
      "[7647 rows x 4 columns]\n"
     ]
    }
   ],
   "source": [
    "print(educ2004)"
   ]
  },
  {
   "cell_type": "code",
   "execution_count": 143,
   "id": "efd064b0-064c-4154-b3cb-b9b603c52a87",
   "metadata": {},
   "outputs": [
    {
     "data": {
      "text/html": [
       "<div>\n",
       "<style scoped>\n",
       "    .dataframe tbody tr th:only-of-type {\n",
       "        vertical-align: middle;\n",
       "    }\n",
       "\n",
       "    .dataframe tbody tr th {\n",
       "        vertical-align: top;\n",
       "    }\n",
       "\n",
       "    .dataframe thead th {\n",
       "        text-align: right;\n",
       "    }\n",
       "</style>\n",
       "<table border=\"1\" class=\"dataframe\">\n",
       "  <thead>\n",
       "    <tr style=\"text-align: right;\">\n",
       "      <th></th>\n",
       "      <th>ano4</th>\n",
       "      <th>ch12</th>\n",
       "      <th>ch13</th>\n",
       "      <th>ch14</th>\n",
       "    </tr>\n",
       "  </thead>\n",
       "  <tbody>\n",
       "    <tr>\n",
       "      <th>0</th>\n",
       "      <td>2004.0</td>\n",
       "      <td>Secundario</td>\n",
       "      <td>No</td>\n",
       "      <td>03</td>\n",
       "    </tr>\n",
       "    <tr>\n",
       "      <th>1</th>\n",
       "      <td>2004.0</td>\n",
       "      <td>Primario</td>\n",
       "      <td>Sí</td>\n",
       "      <td></td>\n",
       "    </tr>\n",
       "    <tr>\n",
       "      <th>2</th>\n",
       "      <td>2004.0</td>\n",
       "      <td>Primario</td>\n",
       "      <td>Sí</td>\n",
       "      <td></td>\n",
       "    </tr>\n",
       "    <tr>\n",
       "      <th>3</th>\n",
       "      <td>2004.0</td>\n",
       "      <td>Primario</td>\n",
       "      <td>Sí</td>\n",
       "      <td></td>\n",
       "    </tr>\n",
       "    <tr>\n",
       "      <th>4</th>\n",
       "      <td>2004.0</td>\n",
       "      <td>Universitario</td>\n",
       "      <td>Sí</td>\n",
       "      <td></td>\n",
       "    </tr>\n",
       "    <tr>\n",
       "      <th>...</th>\n",
       "      <td>...</td>\n",
       "      <td>...</td>\n",
       "      <td>...</td>\n",
       "      <td>...</td>\n",
       "    </tr>\n",
       "    <tr>\n",
       "      <th>7642</th>\n",
       "      <td>2004.0</td>\n",
       "      <td>0.0</td>\n",
       "      <td>0.0</td>\n",
       "      <td></td>\n",
       "    </tr>\n",
       "    <tr>\n",
       "      <th>7643</th>\n",
       "      <td>2004.0</td>\n",
       "      <td>Primario</td>\n",
       "      <td>Sí</td>\n",
       "      <td></td>\n",
       "    </tr>\n",
       "    <tr>\n",
       "      <th>7644</th>\n",
       "      <td>2004.0</td>\n",
       "      <td>Primario</td>\n",
       "      <td>Sí</td>\n",
       "      <td></td>\n",
       "    </tr>\n",
       "    <tr>\n",
       "      <th>7645</th>\n",
       "      <td>2004.0</td>\n",
       "      <td>EGB</td>\n",
       "      <td>No</td>\n",
       "      <td>06</td>\n",
       "    </tr>\n",
       "    <tr>\n",
       "      <th>7646</th>\n",
       "      <td>2004.0</td>\n",
       "      <td>Secundario</td>\n",
       "      <td>Sí</td>\n",
       "      <td></td>\n",
       "    </tr>\n",
       "  </tbody>\n",
       "</table>\n",
       "<p>7647 rows × 4 columns</p>\n",
       "</div>"
      ],
      "text/plain": [
       "        ano4           ch12 ch13 ch14\n",
       "0     2004.0     Secundario   No   03\n",
       "1     2004.0       Primario   Sí     \n",
       "2     2004.0       Primario   Sí     \n",
       "3     2004.0       Primario   Sí     \n",
       "4     2004.0  Universitario   Sí     \n",
       "...      ...            ...  ...  ...\n",
       "7642  2004.0            0.0  0.0     \n",
       "7643  2004.0       Primario   Sí     \n",
       "7644  2004.0       Primario   Sí     \n",
       "7645  2004.0            EGB   No   06\n",
       "7646  2004.0     Secundario   Sí     \n",
       "\n",
       "[7647 rows x 4 columns]"
      ]
     },
     "execution_count": 143,
     "metadata": {},
     "output_type": "execute_result"
    }
   ],
   "source": [
    "educ2004"
   ]
  },
  {
   "cell_type": "code",
   "execution_count": 144,
   "id": "9665abaf-28ea-481c-8965-875ac1f9eea2",
   "metadata": {},
   "outputs": [],
   "source": [
    "educ2004 = educ2004.rename(columns={\"ano4\":\"año\",\"ch12\": \"nivel de educacion\",\"ch13\":\"finalizo\",\"ch14\":\"educacion formal\"})"
   ]
  },
  {
   "cell_type": "code",
   "execution_count": 145,
   "id": "b76e91a4-5360-4420-b8bc-50eaceb54c50",
   "metadata": {},
   "outputs": [],
   "source": [
    "educ2004 = educ2004[~(educ2004 == 0.0).any(axis=1)]\n",
    "educ2004\n",
    "pd.set_option('future.no_silent_downcasting', False)"
   ]
  },
  {
   "cell_type": "code",
   "execution_count": 146,
   "id": "0703fc94-4038-49fd-ade5-fbc8b74c5942",
   "metadata": {},
   "outputs": [
    {
     "name": "stdout",
     "output_type": "stream",
     "text": [
      "año:\n",
      "[2004.0]\n",
      "----------------------------------------\n",
      "nivel de educacion:\n",
      "['Secundario', 'Primario', 'Universitario', 'Terciario', 'Jardín/Preescolar', 'Polimodal', 'EGB', 'Educación especial (discapacitado)', 'Ns./Nr.', 'Posgrado Universitario']\n",
      "----------------------------------------\n",
      "finalizo:\n",
      "['No', 'Sí', 'Ns./Nr.']\n",
      "----------------------------------------\n",
      "educacion formal:\n",
      "['03', '  ', '04', '02', '01', '06', '00', '05', '07', '09', '99', '08', '98']\n",
      "----------------------------------------\n"
     ]
    }
   ],
   "source": [
    "for col in educ2004.columns:\n",
    "    print(f\"{col}:\")\n",
    "    print(educ2004[col].unique().tolist())\n",
    "    print(\"-\" * 40)"
   ]
  },
  {
   "cell_type": "code",
   "execution_count": 147,
   "id": "9c09ad6b-d685-4120-a917-19666da4ac84",
   "metadata": {},
   "outputs": [],
   "source": [
    "#Eliminar filas con espacio en blanco en esa columna\n",
    "educ2004 = educ2004[educ2004['educacion formal'].str.strip() != '']\n"
   ]
  },
  {
   "cell_type": "code",
   "execution_count": 148,
   "id": "403327e4-9bf7-471a-8a76-31b56c929a08",
   "metadata": {},
   "outputs": [
    {
     "name": "stderr",
     "output_type": "stream",
     "text": [
      "C:\\Users\\Franco\\AppData\\Local\\Temp\\ipykernel_16724\\1284373226.py:1: FutureWarning: Downcasting behavior in `replace` is deprecated and will be removed in a future version. To retain the old behavior, explicitly call `result.infer_objects(copy=False)`. To opt-in to the future behavior, set `pd.set_option('future.no_silent_downcasting', True)`\n",
      "  educ2004['nivel de educacion'] = educ2004['nivel de educacion'].astype(str).replace({\"Ns./Nr.\": 0,'Jardín/Preescolar': 1, 'Primario': 2, 'EGB': 3, 'Secundario': 4, 'Polimodal': 5, 'Terciario': 6, 'Universitario': 7, 'Posgrado Universitario': 8, 'Educación especial (discapacitado)': 9}).astype(int)\n"
     ]
    },
    {
     "data": {
      "text/html": [
       "<div>\n",
       "<style scoped>\n",
       "    .dataframe tbody tr th:only-of-type {\n",
       "        vertical-align: middle;\n",
       "    }\n",
       "\n",
       "    .dataframe tbody tr th {\n",
       "        vertical-align: top;\n",
       "    }\n",
       "\n",
       "    .dataframe thead th {\n",
       "        text-align: right;\n",
       "    }\n",
       "</style>\n",
       "<table border=\"1\" class=\"dataframe\">\n",
       "  <thead>\n",
       "    <tr style=\"text-align: right;\">\n",
       "      <th></th>\n",
       "      <th>año</th>\n",
       "      <th>nivel de educacion</th>\n",
       "      <th>finalizo</th>\n",
       "      <th>educacion formal</th>\n",
       "    </tr>\n",
       "  </thead>\n",
       "  <tbody>\n",
       "    <tr>\n",
       "      <th>0</th>\n",
       "      <td>2004.0</td>\n",
       "      <td>4</td>\n",
       "      <td>No</td>\n",
       "      <td>03</td>\n",
       "    </tr>\n",
       "    <tr>\n",
       "      <th>5</th>\n",
       "      <td>2004.0</td>\n",
       "      <td>7</td>\n",
       "      <td>No</td>\n",
       "      <td>04</td>\n",
       "    </tr>\n",
       "    <tr>\n",
       "      <th>6</th>\n",
       "      <td>2004.0</td>\n",
       "      <td>6</td>\n",
       "      <td>No</td>\n",
       "      <td>02</td>\n",
       "    </tr>\n",
       "    <tr>\n",
       "      <th>9</th>\n",
       "      <td>2004.0</td>\n",
       "      <td>4</td>\n",
       "      <td>No</td>\n",
       "      <td>03</td>\n",
       "    </tr>\n",
       "    <tr>\n",
       "      <th>10</th>\n",
       "      <td>2004.0</td>\n",
       "      <td>4</td>\n",
       "      <td>No</td>\n",
       "      <td>02</td>\n",
       "    </tr>\n",
       "    <tr>\n",
       "      <th>...</th>\n",
       "      <td>...</td>\n",
       "      <td>...</td>\n",
       "      <td>...</td>\n",
       "      <td>...</td>\n",
       "    </tr>\n",
       "    <tr>\n",
       "      <th>7633</th>\n",
       "      <td>2004.0</td>\n",
       "      <td>1</td>\n",
       "      <td>No</td>\n",
       "      <td>00</td>\n",
       "    </tr>\n",
       "    <tr>\n",
       "      <th>7636</th>\n",
       "      <td>2004.0</td>\n",
       "      <td>3</td>\n",
       "      <td>No</td>\n",
       "      <td>07</td>\n",
       "    </tr>\n",
       "    <tr>\n",
       "      <th>7638</th>\n",
       "      <td>2004.0</td>\n",
       "      <td>3</td>\n",
       "      <td>No</td>\n",
       "      <td>09</td>\n",
       "    </tr>\n",
       "    <tr>\n",
       "      <th>7639</th>\n",
       "      <td>2004.0</td>\n",
       "      <td>3</td>\n",
       "      <td>No</td>\n",
       "      <td>00</td>\n",
       "    </tr>\n",
       "    <tr>\n",
       "      <th>7645</th>\n",
       "      <td>2004.0</td>\n",
       "      <td>3</td>\n",
       "      <td>No</td>\n",
       "      <td>06</td>\n",
       "    </tr>\n",
       "  </tbody>\n",
       "</table>\n",
       "<p>3835 rows × 4 columns</p>\n",
       "</div>"
      ],
      "text/plain": [
       "         año  nivel de educacion finalizo educacion formal\n",
       "0     2004.0                   4       No               03\n",
       "5     2004.0                   7       No               04\n",
       "6     2004.0                   6       No               02\n",
       "9     2004.0                   4       No               03\n",
       "10    2004.0                   4       No               02\n",
       "...      ...                 ...      ...              ...\n",
       "7633  2004.0                   1       No               00\n",
       "7636  2004.0                   3       No               07\n",
       "7638  2004.0                   3       No               09\n",
       "7639  2004.0                   3       No               00\n",
       "7645  2004.0                   3       No               06\n",
       "\n",
       "[3835 rows x 4 columns]"
      ]
     },
     "execution_count": 148,
     "metadata": {},
     "output_type": "execute_result"
    }
   ],
   "source": [
    "educ2004['nivel de educacion'] = educ2004['nivel de educacion'].astype(str).replace({\"Ns./Nr.\": 0,'Jardín/Preescolar': 1, 'Primario': 2, 'EGB': 3, 'Secundario': 4, 'Polimodal': 5, 'Terciario': 6, 'Universitario': 7, 'Posgrado Universitario': 8, 'Educación especial (discapacitado)': 9}).astype(int)\n",
    "\n",
    "educ2004"
   ]
  },
  {
   "cell_type": "code",
   "execution_count": 149,
   "id": "a248032a-8fc6-441b-ab1a-7a0796304554",
   "metadata": {},
   "outputs": [],
   "source": [
    "import pandas as pd\n",
    "pd.set_option('future.no_silent_downcasting', False)\n",
    "#es para desactivar los warnings"
   ]
  },
  {
   "cell_type": "code",
   "execution_count": 150,
   "id": "888f32b7-d42b-4596-9ddd-454165433270",
   "metadata": {},
   "outputs": [
    {
     "name": "stderr",
     "output_type": "stream",
     "text": [
      "C:\\Users\\Franco\\AppData\\Local\\Temp\\ipykernel_16724\\1603046314.py:2: FutureWarning: Downcasting behavior in `replace` is deprecated and will be removed in a future version. To retain the old behavior, explicitly call `result.infer_objects(copy=False)`. To opt-in to the future behavior, set `pd.set_option('future.no_silent_downcasting', True)`\n",
      "  educ2004['finalizo'] = educ2004['finalizo'].astype(str).replace({'Sí': 1, 'No': 2, 'Ns./Nr.': 3}).astype(int)\n"
     ]
    }
   ],
   "source": [
    "#Ahora pasamos a números también la columna de finalizó\n",
    "educ2004['finalizo'] = educ2004['finalizo'].astype(str).replace({'Sí': 1, 'No': 2, 'Ns./Nr.': 3}).astype(int)\n"
   ]
  },
  {
   "cell_type": "code",
   "execution_count": 151,
   "id": "ac34b744-89f4-4827-9d42-0d96b4673442",
   "metadata": {},
   "outputs": [
    {
     "data": {
      "text/html": [
       "<div>\n",
       "<style scoped>\n",
       "    .dataframe tbody tr th:only-of-type {\n",
       "        vertical-align: middle;\n",
       "    }\n",
       "\n",
       "    .dataframe tbody tr th {\n",
       "        vertical-align: top;\n",
       "    }\n",
       "\n",
       "    .dataframe thead th {\n",
       "        text-align: right;\n",
       "    }\n",
       "</style>\n",
       "<table border=\"1\" class=\"dataframe\">\n",
       "  <thead>\n",
       "    <tr style=\"text-align: right;\">\n",
       "      <th></th>\n",
       "      <th>año</th>\n",
       "      <th>nivel de educacion</th>\n",
       "      <th>finalizo</th>\n",
       "      <th>educacion formal</th>\n",
       "    </tr>\n",
       "  </thead>\n",
       "  <tbody>\n",
       "    <tr>\n",
       "      <th>0</th>\n",
       "      <td>2004.0</td>\n",
       "      <td>4</td>\n",
       "      <td>2</td>\n",
       "      <td>3.0</td>\n",
       "    </tr>\n",
       "    <tr>\n",
       "      <th>5</th>\n",
       "      <td>2004.0</td>\n",
       "      <td>7</td>\n",
       "      <td>2</td>\n",
       "      <td>4.0</td>\n",
       "    </tr>\n",
       "    <tr>\n",
       "      <th>6</th>\n",
       "      <td>2004.0</td>\n",
       "      <td>6</td>\n",
       "      <td>2</td>\n",
       "      <td>2.0</td>\n",
       "    </tr>\n",
       "    <tr>\n",
       "      <th>9</th>\n",
       "      <td>2004.0</td>\n",
       "      <td>4</td>\n",
       "      <td>2</td>\n",
       "      <td>3.0</td>\n",
       "    </tr>\n",
       "    <tr>\n",
       "      <th>10</th>\n",
       "      <td>2004.0</td>\n",
       "      <td>4</td>\n",
       "      <td>2</td>\n",
       "      <td>2.0</td>\n",
       "    </tr>\n",
       "    <tr>\n",
       "      <th>...</th>\n",
       "      <td>...</td>\n",
       "      <td>...</td>\n",
       "      <td>...</td>\n",
       "      <td>...</td>\n",
       "    </tr>\n",
       "    <tr>\n",
       "      <th>7633</th>\n",
       "      <td>2004.0</td>\n",
       "      <td>1</td>\n",
       "      <td>2</td>\n",
       "      <td>0.0</td>\n",
       "    </tr>\n",
       "    <tr>\n",
       "      <th>7636</th>\n",
       "      <td>2004.0</td>\n",
       "      <td>3</td>\n",
       "      <td>2</td>\n",
       "      <td>7.0</td>\n",
       "    </tr>\n",
       "    <tr>\n",
       "      <th>7638</th>\n",
       "      <td>2004.0</td>\n",
       "      <td>3</td>\n",
       "      <td>2</td>\n",
       "      <td>9.0</td>\n",
       "    </tr>\n",
       "    <tr>\n",
       "      <th>7639</th>\n",
       "      <td>2004.0</td>\n",
       "      <td>3</td>\n",
       "      <td>2</td>\n",
       "      <td>0.0</td>\n",
       "    </tr>\n",
       "    <tr>\n",
       "      <th>7645</th>\n",
       "      <td>2004.0</td>\n",
       "      <td>3</td>\n",
       "      <td>2</td>\n",
       "      <td>6.0</td>\n",
       "    </tr>\n",
       "  </tbody>\n",
       "</table>\n",
       "<p>3835 rows × 4 columns</p>\n",
       "</div>"
      ],
      "text/plain": [
       "         año  nivel de educacion  finalizo  educacion formal\n",
       "0     2004.0                   4         2               3.0\n",
       "5     2004.0                   7         2               4.0\n",
       "6     2004.0                   6         2               2.0\n",
       "9     2004.0                   4         2               3.0\n",
       "10    2004.0                   4         2               2.0\n",
       "...      ...                 ...       ...               ...\n",
       "7633  2004.0                   1         2               0.0\n",
       "7636  2004.0                   3         2               7.0\n",
       "7638  2004.0                   3         2               9.0\n",
       "7639  2004.0                   3         2               0.0\n",
       "7645  2004.0                   3         2               6.0\n",
       "\n",
       "[3835 rows x 4 columns]"
      ]
     },
     "execution_count": 151,
     "metadata": {},
     "output_type": "execute_result"
    }
   ],
   "source": [
    "# Convertir strings a enteros primero, para eliminar ceros a la izquierda\n",
    "educ2004['educacion formal'] = educ2004['educacion formal'].astype(int).astype(float)\n",
    "educ2004"
   ]
  },
  {
   "cell_type": "code",
   "execution_count": 152,
   "id": "808fde59-78ab-4986-b30c-7379bc03dfba",
   "metadata": {},
   "outputs": [
    {
     "name": "stdout",
     "output_type": "stream",
     "text": [
      "          año  nivel de educacion  finalizo  educacion formal\n",
      "count  3835.0         3835.000000    3835.0       3835.000000\n",
      "mean   2004.0            3.750196       2.0          4.402086\n",
      "std       0.0            1.808423       0.0         12.595778\n",
      "min    2004.0            0.000000       2.0          0.000000\n",
      "50%    2004.0            4.000000       2.0          3.000000\n",
      "max    2004.0            9.000000       2.0         99.000000\n"
     ]
    }
   ],
   "source": [
    "# Estadísticas completas para cada columna\n",
    "estadisticas_completas = educ2004.describe(percentiles=[0.5])  # Incluye mediana (p50)\n",
    "print(estadisticas_completas) "
   ]
  },
  {
   "cell_type": "code",
   "execution_count": 153,
   "id": "144d6811-516d-44bb-8033-99d57c299a74",
   "metadata": {},
   "outputs": [],
   "source": [
    "educ2024=df2024[[\"ANO4\",\"CH12\",\"CH13\",\"CH14\"]]\n",
    "educ2024 = educ2024.rename(columns={\"ANO4\":\"año\",\"CH12\": \"nivel de educacion\",\"CH13\":\"finalizo\",\"CH14\":\"educacion formal\"})\n",
    "educ2024 = educ2024.dropna()"
   ]
  },
  {
   "cell_type": "code",
   "execution_count": 154,
   "id": "08250cc3-c9b7-474f-9830-9c7b217e3372",
   "metadata": {},
   "outputs": [
    {
     "data": {
      "text/html": [
       "<div>\n",
       "<style scoped>\n",
       "    .dataframe tbody tr th:only-of-type {\n",
       "        vertical-align: middle;\n",
       "    }\n",
       "\n",
       "    .dataframe tbody tr th {\n",
       "        vertical-align: top;\n",
       "    }\n",
       "\n",
       "    .dataframe thead th {\n",
       "        text-align: right;\n",
       "    }\n",
       "</style>\n",
       "<table border=\"1\" class=\"dataframe\">\n",
       "  <thead>\n",
       "    <tr style=\"text-align: right;\">\n",
       "      <th></th>\n",
       "      <th>año</th>\n",
       "      <th>nivel de educacion</th>\n",
       "      <th>finalizo</th>\n",
       "      <th>educacion formal</th>\n",
       "    </tr>\n",
       "  </thead>\n",
       "  <tbody>\n",
       "    <tr>\n",
       "      <th>count</th>\n",
       "      <td>7200.00</td>\n",
       "      <td>7200.00</td>\n",
       "      <td>7200.00</td>\n",
       "      <td>7200.00</td>\n",
       "    </tr>\n",
       "    <tr>\n",
       "      <th>mean</th>\n",
       "      <td>2013.35</td>\n",
       "      <td>4.17</td>\n",
       "      <td>2.02</td>\n",
       "      <td>5.67</td>\n",
       "    </tr>\n",
       "    <tr>\n",
       "      <th>std</th>\n",
       "      <td>9.98</td>\n",
       "      <td>5.11</td>\n",
       "      <td>0.37</td>\n",
       "      <td>17.15</td>\n",
       "    </tr>\n",
       "    <tr>\n",
       "      <th>min</th>\n",
       "      <td>2004.00</td>\n",
       "      <td>0.00</td>\n",
       "      <td>2.00</td>\n",
       "      <td>0.00</td>\n",
       "    </tr>\n",
       "    <tr>\n",
       "      <th>25%</th>\n",
       "      <td>2004.00</td>\n",
       "      <td>2.00</td>\n",
       "      <td>2.00</td>\n",
       "      <td>1.00</td>\n",
       "    </tr>\n",
       "    <tr>\n",
       "      <th>50%</th>\n",
       "      <td>2004.00</td>\n",
       "      <td>4.00</td>\n",
       "      <td>2.00</td>\n",
       "      <td>2.00</td>\n",
       "    </tr>\n",
       "    <tr>\n",
       "      <th>75%</th>\n",
       "      <td>2024.00</td>\n",
       "      <td>5.00</td>\n",
       "      <td>2.00</td>\n",
       "      <td>4.00</td>\n",
       "    </tr>\n",
       "    <tr>\n",
       "      <th>max</th>\n",
       "      <td>2024.00</td>\n",
       "      <td>99.00</td>\n",
       "      <td>9.00</td>\n",
       "      <td>99.00</td>\n",
       "    </tr>\n",
       "  </tbody>\n",
       "</table>\n",
       "</div>"
      ],
      "text/plain": [
       "           año  nivel de educacion  finalizo  educacion formal\n",
       "count  7200.00             7200.00   7200.00           7200.00\n",
       "mean   2013.35                4.17      2.02              5.67\n",
       "std       9.98                5.11      0.37             17.15\n",
       "min    2004.00                0.00      2.00              0.00\n",
       "25%    2004.00                2.00      2.00              1.00\n",
       "50%    2004.00                4.00      2.00              2.00\n",
       "75%    2024.00                5.00      2.00              4.00\n",
       "max    2024.00               99.00      9.00             99.00"
      ]
     },
     "execution_count": 154,
     "metadata": {},
     "output_type": "execute_result"
    }
   ],
   "source": [
    "educ=pd.concat([educ2004,educ2024])\n",
    "educ.describe().round(2)"
   ]
  },
  {
   "cell_type": "code",
   "execution_count": 226,
   "id": "36bfd94d-2b04-4451-b182-0b197c41dd67",
   "metadata": {},
   "outputs": [],
   "source": [
    "df2024 = pd.read_excel(\"usu_individual_T124.xlsx\")"
   ]
  },
  {
   "cell_type": "code",
   "execution_count": 254,
   "id": "54bcd4a5-6b98-4246-8ce6-ace1dac37b0e",
   "metadata": {},
   "outputs": [
    {
     "ename": "KeyError",
     "evalue": "'ANO4'",
     "output_type": "error",
     "traceback": [
      "\u001b[1;31m---------------------------------------------------------------------------\u001b[0m",
      "\u001b[1;31mKeyError\u001b[0m                                  Traceback (most recent call last)",
      "File \u001b[1;32mD:\\ANACONDA\\Lib\\site-packages\\pandas\\core\\indexes\\base.py:3805\u001b[0m, in \u001b[0;36mIndex.get_loc\u001b[1;34m(self, key)\u001b[0m\n\u001b[0;32m   3804\u001b[0m \u001b[38;5;28;01mtry\u001b[39;00m:\n\u001b[1;32m-> 3805\u001b[0m     \u001b[38;5;28;01mreturn\u001b[39;00m \u001b[38;5;28mself\u001b[39m\u001b[38;5;241m.\u001b[39m_engine\u001b[38;5;241m.\u001b[39mget_loc(casted_key)\n\u001b[0;32m   3806\u001b[0m \u001b[38;5;28;01mexcept\u001b[39;00m \u001b[38;5;167;01mKeyError\u001b[39;00m \u001b[38;5;28;01mas\u001b[39;00m err:\n",
      "File \u001b[1;32mindex.pyx:167\u001b[0m, in \u001b[0;36mpandas._libs.index.IndexEngine.get_loc\u001b[1;34m()\u001b[0m\n",
      "File \u001b[1;32mindex.pyx:196\u001b[0m, in \u001b[0;36mpandas._libs.index.IndexEngine.get_loc\u001b[1;34m()\u001b[0m\n",
      "File \u001b[1;32mpandas\\\\_libs\\\\hashtable_class_helper.pxi:7081\u001b[0m, in \u001b[0;36mpandas._libs.hashtable.PyObjectHashTable.get_item\u001b[1;34m()\u001b[0m\n",
      "File \u001b[1;32mpandas\\\\_libs\\\\hashtable_class_helper.pxi:7089\u001b[0m, in \u001b[0;36mpandas._libs.hashtable.PyObjectHashTable.get_item\u001b[1;34m()\u001b[0m\n",
      "\u001b[1;31mKeyError\u001b[0m: 'ANO4'",
      "\nThe above exception was the direct cause of the following exception:\n",
      "\u001b[1;31mKeyError\u001b[0m                                  Traceback (most recent call last)",
      "Cell \u001b[1;32mIn[254], line 6\u001b[0m\n\u001b[0;32m      3\u001b[0m \u001b[38;5;28;01mimport\u001b[39;00m \u001b[38;5;21;01mseaborn\u001b[39;00m \u001b[38;5;28;01mas\u001b[39;00m \u001b[38;5;21;01msns\u001b[39;00m\n\u001b[0;32m      5\u001b[0m \u001b[38;5;66;03m# Filtrar datos de 2024 y salarios positivos\u001b[39;00m\n\u001b[1;32m----> 6\u001b[0m df_2024 \u001b[38;5;241m=\u001b[39m df[(df[\u001b[38;5;124m'\u001b[39m\u001b[38;5;124mANO4\u001b[39m\u001b[38;5;124m'\u001b[39m] \u001b[38;5;241m==\u001b[39m \u001b[38;5;241m2024\u001b[39m) \u001b[38;5;241m&\u001b[39m (df[\u001b[38;5;124m'\u001b[39m\u001b[38;5;124mP21\u001b[39m\u001b[38;5;124m'\u001b[39m] \u001b[38;5;241m>\u001b[39m \u001b[38;5;241m0\u001b[39m)]\u001b[38;5;241m.\u001b[39mcopy()\n\u001b[0;32m      8\u001b[0m \u001b[38;5;66;03m# Ajustar por inflación y calcular salario semanal\u001b[39;00m\n\u001b[0;32m      9\u001b[0m df_2024[\u001b[38;5;124m'\u001b[39m\u001b[38;5;124msalario_semanal\u001b[39m\u001b[38;5;124m'\u001b[39m] \u001b[38;5;241m=\u001b[39m (df_2024[\u001b[38;5;124m'\u001b[39m\u001b[38;5;124mP21\u001b[39m\u001b[38;5;124m'\u001b[39m] \u001b[38;5;241m*\u001b[39m \u001b[38;5;241m35\u001b[39m) \u001b[38;5;241m/\u001b[39m \u001b[38;5;241m40\u001b[39m\n",
      "File \u001b[1;32mD:\\ANACONDA\\Lib\\site-packages\\pandas\\core\\frame.py:4102\u001b[0m, in \u001b[0;36mDataFrame.__getitem__\u001b[1;34m(self, key)\u001b[0m\n\u001b[0;32m   4100\u001b[0m \u001b[38;5;28;01mif\u001b[39;00m \u001b[38;5;28mself\u001b[39m\u001b[38;5;241m.\u001b[39mcolumns\u001b[38;5;241m.\u001b[39mnlevels \u001b[38;5;241m>\u001b[39m \u001b[38;5;241m1\u001b[39m:\n\u001b[0;32m   4101\u001b[0m     \u001b[38;5;28;01mreturn\u001b[39;00m \u001b[38;5;28mself\u001b[39m\u001b[38;5;241m.\u001b[39m_getitem_multilevel(key)\n\u001b[1;32m-> 4102\u001b[0m indexer \u001b[38;5;241m=\u001b[39m \u001b[38;5;28mself\u001b[39m\u001b[38;5;241m.\u001b[39mcolumns\u001b[38;5;241m.\u001b[39mget_loc(key)\n\u001b[0;32m   4103\u001b[0m \u001b[38;5;28;01mif\u001b[39;00m is_integer(indexer):\n\u001b[0;32m   4104\u001b[0m     indexer \u001b[38;5;241m=\u001b[39m [indexer]\n",
      "File \u001b[1;32mD:\\ANACONDA\\Lib\\site-packages\\pandas\\core\\indexes\\base.py:3812\u001b[0m, in \u001b[0;36mIndex.get_loc\u001b[1;34m(self, key)\u001b[0m\n\u001b[0;32m   3807\u001b[0m     \u001b[38;5;28;01mif\u001b[39;00m \u001b[38;5;28misinstance\u001b[39m(casted_key, \u001b[38;5;28mslice\u001b[39m) \u001b[38;5;129;01mor\u001b[39;00m (\n\u001b[0;32m   3808\u001b[0m         \u001b[38;5;28misinstance\u001b[39m(casted_key, abc\u001b[38;5;241m.\u001b[39mIterable)\n\u001b[0;32m   3809\u001b[0m         \u001b[38;5;129;01mand\u001b[39;00m \u001b[38;5;28many\u001b[39m(\u001b[38;5;28misinstance\u001b[39m(x, \u001b[38;5;28mslice\u001b[39m) \u001b[38;5;28;01mfor\u001b[39;00m x \u001b[38;5;129;01min\u001b[39;00m casted_key)\n\u001b[0;32m   3810\u001b[0m     ):\n\u001b[0;32m   3811\u001b[0m         \u001b[38;5;28;01mraise\u001b[39;00m InvalidIndexError(key)\n\u001b[1;32m-> 3812\u001b[0m     \u001b[38;5;28;01mraise\u001b[39;00m \u001b[38;5;167;01mKeyError\u001b[39;00m(key) \u001b[38;5;28;01mfrom\u001b[39;00m \u001b[38;5;21;01merr\u001b[39;00m\n\u001b[0;32m   3813\u001b[0m \u001b[38;5;28;01mexcept\u001b[39;00m \u001b[38;5;167;01mTypeError\u001b[39;00m:\n\u001b[0;32m   3814\u001b[0m     \u001b[38;5;66;03m# If we have a listlike key, _check_indexing_error will raise\u001b[39;00m\n\u001b[0;32m   3815\u001b[0m     \u001b[38;5;66;03m#  InvalidIndexError. Otherwise we fall through and re-raise\u001b[39;00m\n\u001b[0;32m   3816\u001b[0m     \u001b[38;5;66;03m#  the TypeError.\u001b[39;00m\n\u001b[0;32m   3817\u001b[0m     \u001b[38;5;28mself\u001b[39m\u001b[38;5;241m.\u001b[39m_check_indexing_error(key)\n",
      "\u001b[1;31mKeyError\u001b[0m: 'ANO4'"
     ]
    }
   ],
   "source": [
    "import pandas as pd\n",
    "import matplotlib.pyplot as plt\n",
    "import seaborn as sns\n",
    "\n",
    "# Filtrar datos de 2024 y salarios positivos\n",
    "df_2024 = df[(df['ANO4'] == 2024) & (df['P21'] > 0)].copy()\n",
    "\n",
    "# Ajustar por inflación y calcular salario semanal\n",
    "df_2024['salario_semanal'] = (df_2024['P21'] * 35) / 40\n",
    "\n",
    "# Crear figura con dos paneles\n",
    "fig, axes = plt.subplots(1, 2, figsize=(12, 5))\n",
    "\n",
    "# Panel A: Histograma\n",
    "sns.histplot(df_2024['salario_semanal'], bins=30, kde=False, ax=axes[0], color='skyblue')\n",
    "axes[0].set_title(\"Panel A: Histograma del salario semanal (2024)\")\n",
    "axes[0].set_xlabel(\"Salario semanal\")\n",
    "axes[0].set_ylabel(\"Frecuencia\")\n",
    "\n",
    "# Panel B: Estimación Kernel por condición de actividad\n",
    "sns.kdeplot(df_2024[df_2024['ESTADO'] == 1]['salario_semanal'], label='Ocupados', color='blue', ax=axes[1])\n",
    "sns.kdeplot(df_2024[df_2024['ESTADO'] == 2]['salario_semanal'], label='Desocupados', color='red', ax=axes[1])\n",
    "axes[1].set_title(\"Panel B: Distribución Kernel por condición de actividad (2024)\")\n",
    "axes[1].set_xlabel(\"Salario semanal\")\n",
    "axes[1].set_ylabel(\"Densidad estimada\")\n",
    "axes[1].legend()\n",
    "\n",
    "plt.tight_layout()\n",
    "plt.show()\n"
   ]
  },
  {
   "cell_type": "code",
   "execution_count": 248,
   "id": "4ba77d36-6355-46d3-a522-83c95e0268ac",
   "metadata": {},
   "outputs": [
    {
     "name": "stdout",
     "output_type": "stream",
     "text": [
      "          p21  salario_semanal\n",
      "3      2000.0          1750.00\n",
      "5        30.0            26.25\n",
      "6       100.0            87.50\n",
      "7       800.0           700.00\n",
      "12      750.0           656.25\n",
      "...       ...              ...\n",
      "45275  1200.0          1050.00\n",
      "45280    50.0            43.75\n",
      "45281   300.0           262.50\n",
      "45284  1800.0          1575.00\n",
      "45285  1100.0           962.50\n",
      "\n",
      "[15565 rows x 2 columns]\n"
     ]
    }
   ],
   "source": [
    "import pandas as pd\n",
    "import matplotlib.pyplot as plt\n",
    "import seaborn as sns\n",
    "\n",
    "dfp21=df\n",
    "\n",
    "# Teniendo en cuenta un factor de inflacion aproximadamente de 35. Estamos multiplicando por 35 como aproximación del poder adquisitivo a precios de 2024\n",
    "dfp21['p21_ajustado'] = dfp21['p21'] \n",
    "dfp21['salario_semanal'] = (dfp21['p21_ajustado'] * 35) / 40\n",
    "\n",
    "\n",
    "#Aca lo que hicimos fue sacar los ceros, los valores que no nos interesaban.\n",
    "df_salario2004 = dfp21[dfp21['salario_semanal'] > 0] \n",
    "print (df_salario2004[[\"p21\", \"salario_semanal\"]])"
   ]
  },
  {
   "cell_type": "code",
   "execution_count": 260,
   "id": "b5f5db1e-cb55-4ea1-9f5b-22f3ff07a78c",
   "metadata": {},
   "outputs": [
    {
     "name": "stderr",
     "output_type": "stream",
     "text": [
      "C:\\Users\\Franco\\AppData\\Local\\Temp\\ipykernel_16724\\276106867.py:20: UserWarning: Dataset has 0 variance; skipping density estimate. Pass `warn_singular=False` to disable this warning.\n",
      "  sns.kdeplot(\n"
     ]
    },
    {
     "data": {
      "image/png": "[encoded data removed]",
      "text/plain": [
       "<Figure size 1400x600 with 2 Axes>"
      ]
     },
     "metadata": {},
     "output_type": "display_data"
    }
   ],
   "source": [
    "import seaborn as sns\n",
    "import matplotlib.pyplot as plt\n",
    "\n",
    "max_salario = df_salario2004[\"salario_semanal\"].quantile(0.95)\n",
    "df_filtrado = df_salario2004[df_salario2004[\"salario_semanal\"] <= max_salario]\n",
    "\n",
    "fig, axes = plt.subplots(1, 2, figsize=(14, 6))\n",
    "\n",
    "sns.histplot(df_filtrado[\"salario_semanal\"], bins=30, kde=False, ax=axes[0], color=\"skyblue\")\n",
    "axes[0].set_title(\"Panel A: Histograma del salario semanal\")\n",
    "axes[0].set_xlabel(\"Salario semanal (pesos 2024)\")\n",
    "axes[0].set_ylabel(\"Frecuencia\")\n",
    "\n",
    "sns.kdeplot(\n",
    "    data=df_filtrado[df_filtrado[\"estado\"] == \"Ocupado\"],\n",
    "    x=\"salario_semanal\",\n",
    "    label=\"Ocupados\",\n",
    "    ax=axes[1]\n",
    ")\n",
    "sns.kdeplot(\n",
    "    data=df_filtrado[df_filtrado[\"estado\"] == \"Desocupado\"],\n",
    "    x=\"salario_semanal\",\n",
    "    label=\"Desocupados\",\n",
    "    ax=axes[1]\n",
    ")\n",
    "axes[1].set_title(\"Panel B: Densidad de salario semanal ocupados/desocupados\")\n",
    "axes[1].set_xlabel(\"Salario semanal (pesos 2024)\")\n",
    "axes[1].legend()\n",
    "\n",
    "plt.tight_layout()\n",
    "plt.show()\n"
   ]
  },
  {
   "cell_type": "code",
   "execution_count": 158,
   "id": "877e5ebe-1431-4d30-9299-9918d9a83f35",
   "metadata": {},
   "outputs": [],
   "source": [
    "import numpy as np\n",
    "import pandas as pd\n",
    "import matplotlib.pyplot as plt\n",
    "from scipy.stats import norm \n",
    "\n",
    "import seaborn as sns\n",
    "from sklearn.neighbors import KernelDensity"
   ]
  },
  {
   "cell_type": "code",
   "execution_count": 159,
   "id": "50312d7e-2a80-48b5-acef-6d7050d93902",
   "metadata": {},
   "outputs": [
    {
     "name": "stdout",
     "output_type": "stream",
     "text": [
      "7647\n"
     ]
    }
   ],
   "source": [
    "dfhorastrab=df\n",
    "horastrab = ['pp3e_tot', 'pp3f_tot']\n",
    "dfhorastrab['horastrab'] = dfhorastrab['pp3e_tot'] + dfhorastrab['pp3f_tot']\n",
    "cuantas = (dfhorastrab[\"horastrab\"].isna()).shape[0]\n",
    "print(cuantas)"
   ]
  },
  {
   "cell_type": "code",
   "execution_count": 160,
   "id": "4c54c9d8-408e-4d81-9691-9426003a665c",
   "metadata": {},
   "outputs": [],
   "source": [
    "horastrab2004=dfhorastrab[dfhorastrab['horastrab']<120] #Consideramos 120 horas lo máximo posible que puede llegar a trabajar una persona en una semana\n",
    "#Durmiendo 6 horas y trabajando 17 horas por día\n",
    "horastrab2004 = horastrab2004.rename(columns={\"ano4\":\"año\"})\n",
    "horastrab2004=horastrab2004[[\"año\",\"horastrab\"]]"
   ]
  },
  {
   "cell_type": "code",
   "execution_count": 161,
   "id": "b10a10e6-c908-436a-ad7f-056109d53fb4",
   "metadata": {},
   "outputs": [
    {
     "name": "stdout",
     "output_type": "stream",
     "text": [
      "7051\n"
     ]
    }
   ],
   "source": [
    "dfhorastrab2024=df2024\n",
    "dfhorastrab2024['horastrab'] = dfhorastrab2024['PP3E_TOT'] + dfhorastrab2024['PP3F_TOT']\n",
    "cuantas = (dfhorastrab2024[\"horastrab\"].isna()).shape[0]\n",
    "print(cuantas)"
   ]
  },
  {
   "cell_type": "code",
   "execution_count": 162,
   "id": "4598ff9d-bdf2-4359-aa37-00768915a79c",
   "metadata": {},
   "outputs": [],
   "source": [
    "dfhorastrab2024=dfhorastrab2024[[\"ANO4\",\"horastrab\"]]\n",
    "dfhorastrab2024 = dfhorastrab2024.dropna()\n",
    "dfhorastrab2024 = dfhorastrab2024.rename(columns={\"ANO4\":\"año\"})"
   ]
  },
  {
   "cell_type": "code",
   "execution_count": 163,
   "id": "08205992-3c91-4c3e-aa6c-e91984878be7",
   "metadata": {},
   "outputs": [
    {
     "data": {
      "text/html": [
       "<div>\n",
       "<style scoped>\n",
       "    .dataframe tbody tr th:only-of-type {\n",
       "        vertical-align: middle;\n",
       "    }\n",
       "\n",
       "    .dataframe tbody tr th {\n",
       "        vertical-align: top;\n",
       "    }\n",
       "\n",
       "    .dataframe thead th {\n",
       "        text-align: right;\n",
       "    }\n",
       "</style>\n",
       "<table border=\"1\" class=\"dataframe\">\n",
       "  <thead>\n",
       "    <tr style=\"text-align: right;\">\n",
       "      <th></th>\n",
       "      <th>año</th>\n",
       "      <th>horastrab</th>\n",
       "    </tr>\n",
       "  </thead>\n",
       "  <tbody>\n",
       "    <tr>\n",
       "      <th>0</th>\n",
       "      <td>2004.0</td>\n",
       "      <td>0.0</td>\n",
       "    </tr>\n",
       "    <tr>\n",
       "      <th>1</th>\n",
       "      <td>2004.0</td>\n",
       "      <td>0.0</td>\n",
       "    </tr>\n",
       "    <tr>\n",
       "      <th>2</th>\n",
       "      <td>2004.0</td>\n",
       "      <td>0.0</td>\n",
       "    </tr>\n",
       "    <tr>\n",
       "      <th>3</th>\n",
       "      <td>2004.0</td>\n",
       "      <td>59.0</td>\n",
       "    </tr>\n",
       "    <tr>\n",
       "      <th>4</th>\n",
       "      <td>2004.0</td>\n",
       "      <td>0.0</td>\n",
       "    </tr>\n",
       "    <tr>\n",
       "      <th>...</th>\n",
       "      <td>...</td>\n",
       "      <td>...</td>\n",
       "    </tr>\n",
       "    <tr>\n",
       "      <th>46036</th>\n",
       "      <td>2024.0</td>\n",
       "      <td>40.0</td>\n",
       "    </tr>\n",
       "    <tr>\n",
       "      <th>46040</th>\n",
       "      <td>2024.0</td>\n",
       "      <td>30.0</td>\n",
       "    </tr>\n",
       "    <tr>\n",
       "      <th>46043</th>\n",
       "      <td>2024.0</td>\n",
       "      <td>45.0</td>\n",
       "    </tr>\n",
       "    <tr>\n",
       "      <th>46044</th>\n",
       "      <td>2024.0</td>\n",
       "      <td>24.0</td>\n",
       "    </tr>\n",
       "    <tr>\n",
       "      <th>46045</th>\n",
       "      <td>2024.0</td>\n",
       "      <td>0.0</td>\n",
       "    </tr>\n",
       "  </tbody>\n",
       "</table>\n",
       "<p>10848 rows × 2 columns</p>\n",
       "</div>"
      ],
      "text/plain": [
       "          año  horastrab\n",
       "0      2004.0        0.0\n",
       "1      2004.0        0.0\n",
       "2      2004.0        0.0\n",
       "3      2004.0       59.0\n",
       "4      2004.0        0.0\n",
       "...       ...        ...\n",
       "46036  2024.0       40.0\n",
       "46040  2024.0       30.0\n",
       "46043  2024.0       45.0\n",
       "46044  2024.0       24.0\n",
       "46045  2024.0        0.0\n",
       "\n",
       "[10848 rows x 2 columns]"
      ]
     },
     "execution_count": 163,
     "metadata": {},
     "output_type": "execute_result"
    }
   ],
   "source": [
    "horastrab=pd.concat([horastrab2004,dfhorastrab2024])\n",
    "horastrab"
   ]
  },
  {
   "cell_type": "code",
   "execution_count": 164,
   "id": "be0059e7-e6be-49d9-b178-832592e45dae",
   "metadata": {},
   "outputs": [
    {
     "name": "stdout",
     "output_type": "stream",
     "text": [
      "            año  horastrab\n",
      "count  10848.00   10848.00\n",
      "mean    2009.94      23.81\n",
      "std        9.14      60.03\n",
      "min     2004.00       0.00\n",
      "25%     2004.00       0.00\n",
      "50%     2004.00       8.00\n",
      "75%     2024.00      40.00\n",
      "max     2024.00    1998.00\n",
      "Mediana (p50): año          2004.0\n",
      "horastrab       8.0\n",
      "dtype: float64\n"
     ]
    }
   ],
   "source": [
    "print(horastrab.describe().round(2))\n",
    "print(\"Mediana (p50):\", horastrab.median())  \n"
   ]
  },
  {
   "cell_type": "code",
   "execution_count": 165,
   "id": "16fc9a3a-96a1-4a8d-942b-45efcb9805b1",
   "metadata": {},
   "outputs": [
    {
     "name": "stdout",
     "output_type": "stream",
     "text": [
      "Promedio: año          2009.943953\n",
      "horastrab      23.806508\n",
      "dtype: float64\n",
      "Desviación estándar: año           9.140907\n",
      "horastrab    60.027962\n",
      "dtype: float64\n",
      "Mínimo: año          2004.0\n",
      "horastrab       0.0\n",
      "dtype: float64\n",
      "Mediana (p50): año          2004.0\n",
      "horastrab       8.0\n",
      "dtype: float64\n",
      "Máximo: año          2024.0\n",
      "horastrab    1998.0\n",
      "dtype: float64\n"
     ]
    }
   ],
   "source": [
    "#Resumimos \n",
    "print(\"Promedio:\", horastrab.mean())\n",
    "print(\"Desviación estándar:\", horastrab.std())\n",
    "print(\"Mínimo:\", horastrab.min())\n",
    "print(\"Mediana (p50):\", horastrab.median())\n",
    "print(\"Máximo:\", horastrab.max())\n"
   ]
  },
  {
   "cell_type": "code",
   "execution_count": 166,
   "id": "8cd0bb23-4b03-4c51-b6b6-bef4dab94143",
   "metadata": {},
   "outputs": [
    {
     "name": "stdout",
     "output_type": "stream",
     "text": [
      "El promedio es de 14 horas trabajadas a la semana, la desviación es de 22 horas por lo que vemos que hay grandes diferencias en las horas que se trabajan, el mínimo y la mediana son 0 porque el 50% de la muestra no trabaja ni una sola hora. El máximo de horas trabajadas es de 119, creemos que un número más alto que eso es irreal e imposible.\n"
     ]
    }
   ],
   "source": [
    "print(\"El promedio es de 14 horas trabajadas a la semana, la desviación es de 22 horas por lo que vemos que hay grandes diferencias en las horas que se trabajan, el mínimo y la mediana son 0 porque el 50% de la muestra no trabaja ni una sola hora. El máximo de horas trabajadas es de 119, creemos que un número más alto que eso es irreal e imposible.\")"
   ]
  },
  {
   "cell_type": "code",
   "execution_count": 167,
   "id": "56cee38f-151c-4c53-8b52-bd44264f40d9",
   "metadata": {},
   "outputs": [
    {
     "name": "stdout",
     "output_type": "stream",
     "text": [
      "Requirement already satisfied: openpyxl in d:\\anaconda\\lib\\site-packages (3.1.5)\n",
      "Requirement already satisfied: et-xmlfile in d:\\anaconda\\lib\\site-packages (from openpyxl) (1.1.0)\n"
     ]
    }
   ],
   "source": [
    "!pip install openpyxl "
   ]
  },
  {
   "cell_type": "code",
   "execution_count": 168,
   "id": "411b0171-4caf-4543-847a-c7951f15c9b7",
   "metadata": {},
   "outputs": [],
   "source": [
    "##### Punto 5"
   ]
  },
  {
   "cell_type": "code",
   "execution_count": 169,
   "id": "7b6638a4-a099-4ca2-96c9-af3d884576c7",
   "metadata": {},
   "outputs": [],
   "source": [
    "A2024 = pd.read_excel(\"usu_individual_T124.xlsx\")\n",
    "A2004 = pd.read_stata(\"Individual_t104.dta\")"
   ]
  },
  {
   "cell_type": "code",
   "execution_count": 170,
   "id": "5d0af333-8605-46b1-9587-11c5c0be5531",
   "metadata": {},
   "outputs": [
    {
     "data": {
      "text/html": [
       "<div>\n",
       "<style scoped>\n",
       "    .dataframe tbody tr th:only-of-type {\n",
       "        vertical-align: middle;\n",
       "    }\n",
       "\n",
       "    .dataframe tbody tr th {\n",
       "        vertical-align: top;\n",
       "    }\n",
       "\n",
       "    .dataframe thead th {\n",
       "        text-align: right;\n",
       "    }\n",
       "</style>\n",
       "<table border=\"1\" class=\"dataframe\">\n",
       "  <thead>\n",
       "    <tr style=\"text-align: right;\">\n",
       "      <th></th>\n",
       "      <th>CODUSU</th>\n",
       "      <th>nro_hogar</th>\n",
       "      <th>componente</th>\n",
       "      <th>h15</th>\n",
       "      <th>ano4</th>\n",
       "      <th>trimestre</th>\n",
       "      <th>region</th>\n",
       "      <th>mas_500</th>\n",
       "      <th>aglomerado</th>\n",
       "      <th>pondera</th>\n",
       "      <th>...</th>\n",
       "      <th>deccfr</th>\n",
       "      <th>ideccfr</th>\n",
       "      <th>rdeccfr</th>\n",
       "      <th>gdeccfr</th>\n",
       "      <th>pdeccfr</th>\n",
       "      <th>adeccfr</th>\n",
       "      <th>pj1_1</th>\n",
       "      <th>pj2_1</th>\n",
       "      <th>pj3_1</th>\n",
       "      <th>idimpp</th>\n",
       "    </tr>\n",
       "  </thead>\n",
       "  <tbody>\n",
       "    <tr>\n",
       "      <th>0</th>\n",
       "      <td>125098</td>\n",
       "      <td>1.0</td>\n",
       "      <td>1.0</td>\n",
       "      <td>Sí</td>\n",
       "      <td>2004.0</td>\n",
       "      <td>1er. Trimestre</td>\n",
       "      <td>Gran Buenos Aires</td>\n",
       "      <td>S</td>\n",
       "      <td>Ciudad de Buenos Aires</td>\n",
       "      <td>1299.0</td>\n",
       "      <td>...</td>\n",
       "      <td>07</td>\n",
       "      <td></td>\n",
       "      <td>06</td>\n",
       "      <td>06</td>\n",
       "      <td></td>\n",
       "      <td>04</td>\n",
       "      <td>0.0</td>\n",
       "      <td>0.0</td>\n",
       "      <td>0.0</td>\n",
       "      <td>00000</td>\n",
       "    </tr>\n",
       "    <tr>\n",
       "      <th>1</th>\n",
       "      <td>125397</td>\n",
       "      <td>1.0</td>\n",
       "      <td>1.0</td>\n",
       "      <td>Sí</td>\n",
       "      <td>2004.0</td>\n",
       "      <td>1er. Trimestre</td>\n",
       "      <td>Gran Buenos Aires</td>\n",
       "      <td>S</td>\n",
       "      <td>Ciudad de Buenos Aires</td>\n",
       "      <td>2018.0</td>\n",
       "      <td>...</td>\n",
       "      <td>00</td>\n",
       "      <td></td>\n",
       "      <td>00</td>\n",
       "      <td>00</td>\n",
       "      <td></td>\n",
       "      <td>00</td>\n",
       "      <td>0.0</td>\n",
       "      <td>0.0</td>\n",
       "      <td>0.0</td>\n",
       "      <td>00000</td>\n",
       "    </tr>\n",
       "    <tr>\n",
       "      <th>2</th>\n",
       "      <td>125515</td>\n",
       "      <td>1.0</td>\n",
       "      <td>1.0</td>\n",
       "      <td>Sí</td>\n",
       "      <td>2004.0</td>\n",
       "      <td>1er. Trimestre</td>\n",
       "      <td>Gran Buenos Aires</td>\n",
       "      <td>S</td>\n",
       "      <td>Ciudad de Buenos Aires</td>\n",
       "      <td>1486.0</td>\n",
       "      <td>...</td>\n",
       "      <td>07</td>\n",
       "      <td></td>\n",
       "      <td>07</td>\n",
       "      <td>07</td>\n",
       "      <td></td>\n",
       "      <td>05</td>\n",
       "      <td>0.0</td>\n",
       "      <td>0.0</td>\n",
       "      <td>0.0</td>\n",
       "      <td>00020</td>\n",
       "    </tr>\n",
       "    <tr>\n",
       "      <th>3</th>\n",
       "      <td>125558</td>\n",
       "      <td>1.0</td>\n",
       "      <td>1.0</td>\n",
       "      <td>Sí</td>\n",
       "      <td>2004.0</td>\n",
       "      <td>1er. Trimestre</td>\n",
       "      <td>Gran Buenos Aires</td>\n",
       "      <td>S</td>\n",
       "      <td>Ciudad de Buenos Aires</td>\n",
       "      <td>1674.0</td>\n",
       "      <td>...</td>\n",
       "      <td>08</td>\n",
       "      <td></td>\n",
       "      <td>08</td>\n",
       "      <td>08</td>\n",
       "      <td></td>\n",
       "      <td>06</td>\n",
       "      <td>0.0</td>\n",
       "      <td>0.0</td>\n",
       "      <td>0.0</td>\n",
       "      <td>00000</td>\n",
       "    </tr>\n",
       "    <tr>\n",
       "      <th>4</th>\n",
       "      <td>125558</td>\n",
       "      <td>1.0</td>\n",
       "      <td>2.0</td>\n",
       "      <td>Sí</td>\n",
       "      <td>2004.0</td>\n",
       "      <td>1er. Trimestre</td>\n",
       "      <td>Gran Buenos Aires</td>\n",
       "      <td>S</td>\n",
       "      <td>Ciudad de Buenos Aires</td>\n",
       "      <td>1674.0</td>\n",
       "      <td>...</td>\n",
       "      <td>08</td>\n",
       "      <td></td>\n",
       "      <td>08</td>\n",
       "      <td>08</td>\n",
       "      <td></td>\n",
       "      <td>06</td>\n",
       "      <td>0.0</td>\n",
       "      <td>0.0</td>\n",
       "      <td>0.0</td>\n",
       "      <td>00000</td>\n",
       "    </tr>\n",
       "    <tr>\n",
       "      <th>...</th>\n",
       "      <td>...</td>\n",
       "      <td>...</td>\n",
       "      <td>...</td>\n",
       "      <td>...</td>\n",
       "      <td>...</td>\n",
       "      <td>...</td>\n",
       "      <td>...</td>\n",
       "      <td>...</td>\n",
       "      <td>...</td>\n",
       "      <td>...</td>\n",
       "      <td>...</td>\n",
       "      <td>...</td>\n",
       "      <td>...</td>\n",
       "      <td>...</td>\n",
       "      <td>...</td>\n",
       "      <td>...</td>\n",
       "      <td>...</td>\n",
       "      <td>...</td>\n",
       "      <td>...</td>\n",
       "      <td>...</td>\n",
       "      <td>...</td>\n",
       "    </tr>\n",
       "    <tr>\n",
       "      <th>45284</th>\n",
       "      <td>285733</td>\n",
       "      <td>1.0</td>\n",
       "      <td>1.0</td>\n",
       "      <td>Sí</td>\n",
       "      <td>2004.0</td>\n",
       "      <td>1er. Trimestre</td>\n",
       "      <td>Patagónica</td>\n",
       "      <td>N</td>\n",
       "      <td>Ushuaia - Río Grande</td>\n",
       "      <td>123.0</td>\n",
       "      <td>...</td>\n",
       "      <td>09</td>\n",
       "      <td>09</td>\n",
       "      <td>08</td>\n",
       "      <td></td>\n",
       "      <td>09</td>\n",
       "      <td>07</td>\n",
       "      <td>0.0</td>\n",
       "      <td>0.0</td>\n",
       "      <td>0.0</td>\n",
       "      <td>00000</td>\n",
       "    </tr>\n",
       "    <tr>\n",
       "      <th>45285</th>\n",
       "      <td>285733</td>\n",
       "      <td>1.0</td>\n",
       "      <td>2.0</td>\n",
       "      <td>Sí</td>\n",
       "      <td>2004.0</td>\n",
       "      <td>1er. Trimestre</td>\n",
       "      <td>Patagónica</td>\n",
       "      <td>N</td>\n",
       "      <td>Ushuaia - Río Grande</td>\n",
       "      <td>123.0</td>\n",
       "      <td>...</td>\n",
       "      <td>09</td>\n",
       "      <td>09</td>\n",
       "      <td>08</td>\n",
       "      <td></td>\n",
       "      <td>09</td>\n",
       "      <td>07</td>\n",
       "      <td>0.0</td>\n",
       "      <td>0.0</td>\n",
       "      <td>0.0</td>\n",
       "      <td>00000</td>\n",
       "    </tr>\n",
       "    <tr>\n",
       "      <th>45286</th>\n",
       "      <td>285733</td>\n",
       "      <td>1.0</td>\n",
       "      <td>3.0</td>\n",
       "      <td>Sí</td>\n",
       "      <td>2004.0</td>\n",
       "      <td>1er. Trimestre</td>\n",
       "      <td>Patagónica</td>\n",
       "      <td>N</td>\n",
       "      <td>Ushuaia - Río Grande</td>\n",
       "      <td>123.0</td>\n",
       "      <td>...</td>\n",
       "      <td>09</td>\n",
       "      <td>09</td>\n",
       "      <td>08</td>\n",
       "      <td></td>\n",
       "      <td>09</td>\n",
       "      <td>07</td>\n",
       "      <td>0.0</td>\n",
       "      <td>0.0</td>\n",
       "      <td>0.0</td>\n",
       "      <td>00000</td>\n",
       "    </tr>\n",
       "    <tr>\n",
       "      <th>45287</th>\n",
       "      <td>285733</td>\n",
       "      <td>1.0</td>\n",
       "      <td>4.0</td>\n",
       "      <td>0.0</td>\n",
       "      <td>2004.0</td>\n",
       "      <td>1er. Trimestre</td>\n",
       "      <td>Patagónica</td>\n",
       "      <td>N</td>\n",
       "      <td>Ushuaia - Río Grande</td>\n",
       "      <td>123.0</td>\n",
       "      <td>...</td>\n",
       "      <td>09</td>\n",
       "      <td>09</td>\n",
       "      <td>08</td>\n",
       "      <td></td>\n",
       "      <td>09</td>\n",
       "      <td>07</td>\n",
       "      <td>0.0</td>\n",
       "      <td>0.0</td>\n",
       "      <td>0.0</td>\n",
       "      <td>00000</td>\n",
       "    </tr>\n",
       "    <tr>\n",
       "      <th>45288</th>\n",
       "      <td>285733</td>\n",
       "      <td>1.0</td>\n",
       "      <td>5.0</td>\n",
       "      <td>0.0</td>\n",
       "      <td>2004.0</td>\n",
       "      <td>1er. Trimestre</td>\n",
       "      <td>Patagónica</td>\n",
       "      <td>N</td>\n",
       "      <td>Ushuaia - Río Grande</td>\n",
       "      <td>123.0</td>\n",
       "      <td>...</td>\n",
       "      <td>09</td>\n",
       "      <td>09</td>\n",
       "      <td>08</td>\n",
       "      <td></td>\n",
       "      <td>09</td>\n",
       "      <td>07</td>\n",
       "      <td>0.0</td>\n",
       "      <td>0.0</td>\n",
       "      <td>0.0</td>\n",
       "      <td>00000</td>\n",
       "    </tr>\n",
       "  </tbody>\n",
       "</table>\n",
       "<p>45289 rows × 176 columns</p>\n",
       "</div>"
      ],
      "text/plain": [
       "         CODUSU  nro_hogar componente  h15    ano4       trimestre  \\\n",
       "0      125098          1.0        1.0   Sí  2004.0  1er. Trimestre   \n",
       "1      125397          1.0        1.0   Sí  2004.0  1er. Trimestre   \n",
       "2      125515          1.0        1.0   Sí  2004.0  1er. Trimestre   \n",
       "3      125558          1.0        1.0   Sí  2004.0  1er. Trimestre   \n",
       "4      125558          1.0        2.0   Sí  2004.0  1er. Trimestre   \n",
       "...         ...        ...        ...  ...     ...             ...   \n",
       "45284  285733          1.0        1.0   Sí  2004.0  1er. Trimestre   \n",
       "45285  285733          1.0        2.0   Sí  2004.0  1er. Trimestre   \n",
       "45286  285733          1.0        3.0   Sí  2004.0  1er. Trimestre   \n",
       "45287  285733          1.0        4.0  0.0  2004.0  1er. Trimestre   \n",
       "45288  285733          1.0        5.0  0.0  2004.0  1er. Trimestre   \n",
       "\n",
       "                  region mas_500              aglomerado  pondera  ... deccfr  \\\n",
       "0      Gran Buenos Aires       S  Ciudad de Buenos Aires   1299.0  ...     07   \n",
       "1      Gran Buenos Aires       S  Ciudad de Buenos Aires   2018.0  ...     00   \n",
       "2      Gran Buenos Aires       S  Ciudad de Buenos Aires   1486.0  ...     07   \n",
       "3      Gran Buenos Aires       S  Ciudad de Buenos Aires   1674.0  ...     08   \n",
       "4      Gran Buenos Aires       S  Ciudad de Buenos Aires   1674.0  ...     08   \n",
       "...                  ...     ...                     ...      ...  ...    ...   \n",
       "45284         Patagónica       N    Ushuaia - Río Grande    123.0  ...     09   \n",
       "45285         Patagónica       N    Ushuaia - Río Grande    123.0  ...     09   \n",
       "45286         Patagónica       N    Ushuaia - Río Grande    123.0  ...     09   \n",
       "45287         Patagónica       N    Ushuaia - Río Grande    123.0  ...     09   \n",
       "45288         Patagónica       N    Ushuaia - Río Grande    123.0  ...     09   \n",
       "\n",
       "      ideccfr rdeccfr gdeccfr pdeccfr adeccfr pj1_1 pj2_1 pj3_1 idimpp  \n",
       "0                  06      06              04   0.0   0.0   0.0  00000  \n",
       "1                  00      00              00   0.0   0.0   0.0  00000  \n",
       "2                  07      07              05   0.0   0.0   0.0  00020  \n",
       "3                  08      08              06   0.0   0.0   0.0  00000  \n",
       "4                  08      08              06   0.0   0.0   0.0  00000  \n",
       "...       ...     ...     ...     ...     ...   ...   ...   ...    ...  \n",
       "45284      09      08              09      07   0.0   0.0   0.0  00000  \n",
       "45285      09      08              09      07   0.0   0.0   0.0  00000  \n",
       "45286      09      08              09      07   0.0   0.0   0.0  00000  \n",
       "45287      09      08              09      07   0.0   0.0   0.0  00000  \n",
       "45288      09      08              09      07   0.0   0.0   0.0  00000  \n",
       "\n",
       "[45289 rows x 176 columns]"
      ]
     },
     "execution_count": 170,
     "metadata": {},
     "output_type": "execute_result"
    }
   ],
   "source": [
    "A2004"
   ]
  },
  {
   "cell_type": "code",
   "execution_count": 171,
   "id": "be60f3f3-09cf-4faf-98db-7c3496a4970c",
   "metadata": {},
   "outputs": [],
   "source": [
    "A2024=A2024[A2024[\"REGION\"]==1]\n",
    "A2004=A2004[A2004[\"region\"]==\"Gran Buenos Aires\"]"
   ]
  },
  {
   "cell_type": "code",
   "execution_count": 172,
   "id": "f8e5dc91-7dc8-4859-a272-546cbe3918ee",
   "metadata": {},
   "outputs": [],
   "source": [
    "obs2024=A2024[[\"ANO4\"]] #Tomamos la variable de los años para medir la cantidad de observaciones porque sabemos que no falta ni un solo valor\n",
    "obs2004=A2004[[\"ano4\"]]"
   ]
  },
  {
   "cell_type": "code",
   "execution_count": 173,
   "id": "5a7f169a-e6db-47da-91d8-9d35be8ea84f",
   "metadata": {},
   "outputs": [],
   "source": [
    "obs2004 = obs2004.rename(columns={\"ano4\": \"año\"})\n",
    "obs2024 = obs2024.rename(columns={\"ANO4\":\"año\"})"
   ]
  },
  {
   "cell_type": "code",
   "execution_count": 174,
   "id": "17d189f5-0f96-4a68-9594-45eb07c1ae6c",
   "metadata": {},
   "outputs": [
    {
     "data": {
      "text/plain": [
       "(7647, 1)"
      ]
     },
     "execution_count": 174,
     "metadata": {},
     "output_type": "execute_result"
    }
   ],
   "source": [
    "obs2004.shape #Hay 7647 observaciones en 2004"
   ]
  },
  {
   "cell_type": "code",
   "execution_count": 175,
   "id": "89c0ec72-c011-4b22-8bf8-730472c2f655",
   "metadata": {},
   "outputs": [
    {
     "data": {
      "text/plain": [
       "(7051, 1)"
      ]
     },
     "execution_count": 175,
     "metadata": {},
     "output_type": "execute_result"
    }
   ],
   "source": [
    "obs2024.shape #Hay 7051 observaciones en 2024"
   ]
  },
  {
   "cell_type": "code",
   "execution_count": 176,
   "id": "123c2dce-6ed3-4282-8952-5ff22467d369",
   "metadata": {},
   "outputs": [
    {
     "data": {
      "text/plain": [
       "(14698, 1)"
      ]
     },
     "execution_count": 176,
     "metadata": {},
     "output_type": "execute_result"
    }
   ],
   "source": [
    "obstot = pd.concat([obs2004, obs2024])\n",
    "obstot.shape #Hay 14698 observaciones sumando 2004 y 2024"
   ]
  },
  {
   "cell_type": "code",
   "execution_count": 177,
   "id": "83b93ef7-50cb-4c11-8c17-d3482e3f5bba",
   "metadata": {},
   "outputs": [],
   "source": [
    "Estado2004 = A2004[[\"estado\"]]\n",
    "Estado2024 = A2024[[\"ESTADO\"]]\n",
    "Estado2024 = Estado2024.rename(columns={\"ESTADO\":\"Estado\"})\n",
    "Estado2004 = Estado2004.rename(columns={\"estado\":\"Estado\"})"
   ]
  },
  {
   "cell_type": "code",
   "execution_count": 178,
   "id": "ecca0699-f256-4ac0-9b71-aa3cff22de46",
   "metadata": {},
   "outputs": [
    {
     "name": "stdout",
     "output_type": "stream",
     "text": [
      "Estado:\n",
      "['Inactivo', 'Ocupado', 'Desocupado', 'Menor de 10 años', 'Entrevista individual no realizada (no respuesta al cuestion']\n",
      "----------------------------------------\n"
     ]
    }
   ],
   "source": [
    "for col in Estado2004.columns:\n",
    "    print(f\"{col}:\")\n",
    "    print(Estado2004[col].unique().tolist())\n",
    "    print(\"-\" * 40)"
   ]
  },
  {
   "cell_type": "code",
   "execution_count": 179,
   "id": "f6f8dbc0-7b4a-4fb1-bc3a-97790f37ea6c",
   "metadata": {},
   "outputs": [
    {
     "data": {
      "text/plain": [
       "(10, 1)"
      ]
     },
     "execution_count": 179,
     "metadata": {},
     "output_type": "execute_result"
    }
   ],
   "source": [
    "Estado2004 = Estado2004[Estado2004[\"Estado\"]==\"Entrevista individual no realizada (no respuesta al cuestion\"]\n",
    "Estado2004.shape #Intentamos buscar los NAN pero descubrimos que no usan Nan para este caso\n",
    "#Por lo que decidimos tener en cuenta solo esos valores, de forma que nos arroja la cantidad de Nan que habría.\n",
    "#En este caso 10 en 2004"
   ]
  },
  {
   "cell_type": "code",
   "execution_count": 180,
   "id": "e922ce38-4045-48f6-a374-cf02c977bbda",
   "metadata": {},
   "outputs": [
    {
     "name": "stdout",
     "output_type": "stream",
     "text": [
      "Estado:\n",
      "[1, 3, 4, 0, 2]\n",
      "----------------------------------------\n"
     ]
    }
   ],
   "source": [
    "for col in Estado2024.columns:\n",
    "    print(f\"{col}:\")\n",
    "    print(Estado2024[col].unique().tolist())\n",
    "    print(\"-\" * 40) #Vemos que en este caso es númerica"
   ]
  },
  {
   "cell_type": "code",
   "execution_count": 181,
   "id": "9493b369-ede2-47d2-ae22-01b30003a965",
   "metadata": {},
   "outputs": [
    {
     "data": {
      "text/plain": [
       "(41, 1)"
      ]
     },
     "execution_count": 181,
     "metadata": {},
     "output_type": "execute_result"
    }
   ],
   "source": [
    "Estado2024 = Estado2024[Estado2024[\"Estado\"]==0]\n",
    "Estado2024.shape #Hay 41 Nan en 2024, más que en 2004."
   ]
  },
  {
   "cell_type": "code",
   "execution_count": 182,
   "id": "d7a13923-b43a-48ae-8644-9cc397891b2e",
   "metadata": {},
   "outputs": [],
   "source": [
    "Estado2004[\"Estado\"] = Estado2004[\"Estado\"].astype(str).replace({\"Entrevista individual no realizada (no respuesta al cuestion\": \"0\"})\n",
    "Estado2004[\"Estado\"] = Estado2004[\"Estado\"].astype(float)\n",
    "#Convierto los Nan de 2004 en 0 para que sean iguales a los de 2024, de forma que será más fácil unirlos."
   ]
  },
  {
   "cell_type": "code",
   "execution_count": 183,
   "id": "83f1787d-20ec-4b34-bae1-db23d5ab319d",
   "metadata": {},
   "outputs": [
    {
     "data": {
      "text/plain": [
       "(51, 1)"
      ]
     },
     "execution_count": 183,
     "metadata": {},
     "output_type": "execute_result"
    }
   ],
   "source": [
    "EstadoNantot = pd.concat([Estado2004, Estado2024])\n",
    "EstadoNantot.shape #En total, en 2004 y 2024 hay 51 valores faltantes, es decir gente que no reportó su condición de actividad"
   ]
  },
  {
   "cell_type": "code",
   "execution_count": 184,
   "id": "fbe8dcec-b9be-4241-a202-5fa0b1ed96f4",
   "metadata": {},
   "outputs": [],
   "source": [
    "Ocupados2004 =A2004[A2004[\"estado\"]==\"Ocupado\"]\n",
    "Ocupados2004 = Ocupados2004[[\"estado\"]]\n",
    "Ocupados2024 = A2024[A2024[\"ESTADO\"]==1]\n",
    "Ocupados2024 = Ocupados2024[[\"ESTADO\"]]"
   ]
  },
  {
   "cell_type": "code",
   "execution_count": 185,
   "id": "8bb4daef-4d5c-481b-8e77-8a852f1819fa",
   "metadata": {},
   "outputs": [
    {
     "data": {
      "text/plain": [
       "(3079, 1)"
      ]
     },
     "execution_count": 185,
     "metadata": {},
     "output_type": "execute_result"
    }
   ],
   "source": [
    "Ocupados2004.shape #Se reportaron 3079 ocupados en 2004"
   ]
  },
  {
   "cell_type": "code",
   "execution_count": 186,
   "id": "55398b16-0010-4cd1-b8e2-4a3bbde03f4b",
   "metadata": {},
   "outputs": [
    {
     "data": {
      "text/plain": [
       "(3224, 1)"
      ]
     },
     "execution_count": 186,
     "metadata": {},
     "output_type": "execute_result"
    }
   ],
   "source": [
    "Ocupados2024.shape #Se reportaron 3224 ocupados en 2024"
   ]
  },
  {
   "cell_type": "code",
   "execution_count": 187,
   "id": "a5a1d1a4-22f3-4e77-99f4-a80e5b95a258",
   "metadata": {},
   "outputs": [],
   "source": [
    "Ocupados2024 = Ocupados2024.rename(columns={\"ESTADO\":\"Estado\"})\n",
    "Ocupados2004 = Ocupados2004.rename(columns={\"estado\":\"Estado\"})"
   ]
  },
  {
   "cell_type": "code",
   "execution_count": 188,
   "id": "d3f482b4-23af-4754-978a-2b835948e2c2",
   "metadata": {},
   "outputs": [],
   "source": [
    "Ocupados2004[\"Estado\"] = Ocupados2004[\"Estado\"].astype(str).replace({\"Ocupado\": \"1\"})\n",
    "Ocupados2004[\"Estado\"] = Ocupados2004[\"Estado\"].astype(float)"
   ]
  },
  {
   "cell_type": "code",
   "execution_count": 189,
   "id": "c367e483-6f9e-429e-9d61-049988b1a02d",
   "metadata": {},
   "outputs": [
    {
     "data": {
      "text/plain": [
       "(6303, 1)"
      ]
     },
     "execution_count": 189,
     "metadata": {},
     "output_type": "execute_result"
    }
   ],
   "source": [
    "Ocupadostot = pd.concat([Ocupados2004, Ocupados2024])\n",
    "Ocupadostot.shape #En total contando los ocupados de 2004 y 2024 hay 6303 ocupados"
   ]
  },
  {
   "cell_type": "code",
   "execution_count": 190,
   "id": "c0d842b2-d6be-491b-b29b-eddb96de109f",
   "metadata": {},
   "outputs": [],
   "source": [
    "Desocupados2004 =A2004[A2004[\"estado\"]==\"Desocupado\"]\n",
    "Desocupados2004 = Desocupados2004[[\"estado\"]]\n",
    "Desocupados2024 = A2024[A2024[\"ESTADO\"]==2]\n",
    "Desocupados2024 = Desocupados2024[[\"ESTADO\"]]"
   ]
  },
  {
   "cell_type": "code",
   "execution_count": 191,
   "id": "16cc77a9-16a6-4286-8b9d-1cc371e56e14",
   "metadata": {},
   "outputs": [
    {
     "data": {
      "text/plain": [
       "(528, 1)"
      ]
     },
     "execution_count": 191,
     "metadata": {},
     "output_type": "execute_result"
    }
   ],
   "source": [
    "Desocupados2004.shape"
   ]
  },
  {
   "cell_type": "code",
   "execution_count": 192,
   "id": "8e8c734a-a82f-4d11-ae3b-26ccdd80f374",
   "metadata": {},
   "outputs": [
    {
     "data": {
      "text/plain": [
       "(311, 1)"
      ]
     },
     "execution_count": 192,
     "metadata": {},
     "output_type": "execute_result"
    }
   ],
   "source": [
    "Desocupados2024.shape"
   ]
  },
  {
   "cell_type": "code",
   "execution_count": 193,
   "id": "f7806cf2-7df8-407f-8ecc-49e92c4898e9",
   "metadata": {},
   "outputs": [],
   "source": [
    "Desocupados2024 = Desocupados2024.rename(columns={\"ESTADO\":\"Estado\"})\n",
    "Desocupados2004 = Desocupados2004.rename(columns={\"estado\":\"Estado\"})"
   ]
  },
  {
   "cell_type": "code",
   "execution_count": 194,
   "id": "70ba3614-3797-49c2-9817-d0d8f55a6269",
   "metadata": {},
   "outputs": [],
   "source": [
    "Desocupados2004[\"Estado\"] = Desocupados2004[\"Estado\"].astype(str).replace({\"Desocupado\": \"2\"})\n",
    "Desocupados2004[\"Estado\"] = Desocupados2004[\"Estado\"].astype(float)"
   ]
  },
  {
   "cell_type": "code",
   "execution_count": 195,
   "id": "be44b1be-ea5a-4f12-a27a-84ed74b6e851",
   "metadata": {},
   "outputs": [
    {
     "data": {
      "text/plain": [
       "(839, 1)"
      ]
     },
     "execution_count": 195,
     "metadata": {},
     "output_type": "execute_result"
    }
   ],
   "source": [
    "Desocupadostot = pd.concat([Desocupados2004, Desocupados2024])\n",
    "Desocupadostot.shape"
   ]
  },
  {
   "cell_type": "code",
   "execution_count": 196,
   "id": "4f09f86f-6d69-4308-acea-903a2860b6a7",
   "metadata": {},
   "outputs": [],
   "source": [
    "MercadoLaboral = A2004 [[\"ano4\",\"estado\",\"ipcf\",\"nivel_ed\",\"pp02c1\",\"pp02c2\",\"pp02c4\",\"pp10e\",\"pp10d\",\"pp10c\",\"pp10a\"]]\n",
    "MercadoLaboral = MercadoLaboral[MercadoLaboral[\"estado\"]==\"Desocupado\"]\n",
    "Merclabdes = MercadoLaboral\n",
    "Merclabdes = MercadoLaboral[[\"ano4\",\"ipcf\",\"nivel_ed\",\"pp02c1\",\"pp02c2\",\"pp02c4\",\"pp10e\",\"pp10d\",\"pp10c\",\"pp10a\"]]"
   ]
  },
  {
   "cell_type": "code",
   "execution_count": 197,
   "id": "e38c6d2b-5d2d-42da-8fdf-adbe90ee2f4b",
   "metadata": {},
   "outputs": [],
   "source": [
    "Merclabdes = Merclabdes.rename(columns={\"ano4\":\"año\"})"
   ]
  },
  {
   "cell_type": "code",
   "execution_count": 198,
   "id": "58b18e63-67c3-4186-822e-138433c4281b",
   "metadata": {},
   "outputs": [],
   "source": [
    "Merclabdes = Merclabdes[~(Merclabdes == 0.0).any(axis=1)]"
   ]
  },
  {
   "cell_type": "code",
   "execution_count": 199,
   "id": "4dca3326-1664-4807-a963-1d472173f9dc",
   "metadata": {},
   "outputs": [],
   "source": [
    "Merclabdes = Merclabdes.rename(columns={\"pp02c1\":\"Hizo contactos, entrevistas\",\"pp02c2\":\"Mandó currículum, puso / contestó avisos\",\"pp02c4\":\"Hizo algo para ponerse por su cuenta\",\"pp10e\":\"¿Cuánto tiempo hace que terminó su último trabajo / changa...? \",\"pp10d\":\"¿Ha trabajado alguna vez? \",\"pp10c\":\"¿Ha trabajado alguna vez?\",\"pp10a\":\"¿Cuánto tiempo hace que terminó su último trabajo / changa...?\"})\n",
    "Merclabdes2004 = Merclabdes "
   ]
  },
  {
   "cell_type": "code",
   "execution_count": 200,
   "id": "8dc40683-b653-4171-96f0-50eafc4d0d12",
   "metadata": {},
   "outputs": [],
   "source": [
    "MercadoLaboral2024 = A2024[[\"ANO4\",\"ESTADO\",\"IPCF\",\"NIVEL_ED\",\"PP02C1\",\"PP02C2\",\"PP02C4\",\"PP10E\",\"PP10D\"]]\n",
    "MercadoLaboral2024 = MercadoLaboral2024[MercadoLaboral2024[\"ESTADO\"]==2]\n",
    "Merclabdes2024 = MercadoLaboral2024\n",
    "Merclabdes2024 = MercadoLaboral2024[[\"ANO4\",\"IPCF\",\"NIVEL_ED\",\"PP02C1\",\"PP02C2\",\"PP02C4\",\"PP10E\",\"PP10D\"]]\n",
    "Merclabdes2024 = Merclabdes2024.rename(columns={\"ANO4\":\"año\"})"
   ]
  },
  {
   "cell_type": "code",
   "execution_count": 201,
   "id": "abdf4fd3-213a-46f4-8757-336227ff10dc",
   "metadata": {},
   "outputs": [],
   "source": [
    "Merclabdes2024 = Merclabdes2024.rename(columns={\"IPCF\":\"ipcf\",\"NIVEL_ED\":\"nivel_ed\",\"PP02C1\":\"Hizo contactos, entrevistas\",\"PP02C2\":\"Mandó currículum, puso / contestó avisos\",\"PP02C4\":\"Hizo algo para ponerse por su cuenta\",\"PP10E\":\"¿Cuánto tiempo hace que terminó su último trabajo / changa...? \",\"PP10D\":\"¿Ha trabajado alguna vez?\",})"
   ]
  },
  {
   "cell_type": "code",
   "execution_count": 202,
   "id": "912dc377-7528-4eef-b7d0-6c3d522eed81",
   "metadata": {},
   "outputs": [],
   "source": [
    "Merclabdes2004[\"nivel_ed\"] = Merclabdes2004[\"nivel_ed\"].astype(str).replace({\n",
    "    \"Primaria Incompleta (incluye educación especial)\": \"1\",\n",
    "    \"Primaria Completa\": \"2\",\n",
    "    \"Secundaria Incompleta\": \"3\",\n",
    "    \"Secundaria Completa\": \"4\",\n",
    "    \"Superior Universitaria Incompleta\": \"5\",\n",
    "    \"Superior Universitaria Completa\": \"6\",\n",
    "    \"Sin instrucción\": \"7\",\n",
    "    \"Ns./Nr.\": \"9\"\n",
    "})\n",
    "Merclabdes2004[\"nivel_ed\"] = Merclabdes2004[\"nivel_ed\"].astype(float)\n",
    "Merclabdes2004[\"Hizo contactos, entrevistas\"] = Merclabdes2004[\"Hizo contactos, entrevistas\"].astype(str).replace({\"Sí\":\"1\",\"No\":\"2\"})\n",
    "Merclabdes2004[\"Hizo contactos, entrevistas\"] = Merclabdes2004[\"Hizo contactos, entrevistas\"].astype(float) \n",
    "Merclabdes2004[\"Mandó currículum, puso / contestó avisos\"] = Merclabdes2004[\"Mandó currículum, puso / contestó avisos\"].astype(str).replace({\"Sí\":\"1\",\"No\":\"2\"})\n",
    "Merclabdes2004[\"Mandó currículum, puso / contestó avisos\"] = Merclabdes2004[\"Mandó currículum, puso / contestó avisos\"].astype(float)\n",
    "\n",
    "Merclabdes2004[\"Hizo algo para ponerse por su cuenta\"] = Merclabdes2004[\"Hizo algo para ponerse por su cuenta\"].astype(str).replace({\"Sí\":\"1\",\"No\":\"2\"})\n",
    "Merclabdes2004[\"Hizo algo para ponerse por su cuenta\"] = Merclabdes2004[\"Hizo algo para ponerse por su cuenta\"].astype(float)\n",
    "\n",
    "Merclabdes2004[\"¿Cuánto tiempo hace que terminó su último trabajo / changa...?\"] = Merclabdes2004[\"¿Cuánto tiempo hace que terminó su último trabajo / changa...?\"].astype(str).replace({\"...menos de 1 mes?\":\"1\",\"...de 1 a 3 meses?\":\"2\",\"...más de 3 a 6 meses?\":\"3\",\"...más de 6 a 12 meses?\":\"4\",\"Menos de 1 año\":\"4\",\"...más de 1 año?\":\"5\",\"...más de 1 a 3 años?\":\"5\",\"...más de 3 años?\":\"6\",\"Ns./Nr.\":\"9\"})\n",
    "Merclabdes2004[\"¿Cuánto tiempo hace que terminó su último trabajo / changa...?\"] = Merclabdes2004[\"¿Cuánto tiempo hace que terminó su último trabajo / changa...?\"].astype(float)\n",
    "\n",
    "Merclabdes2004[\"¿Ha trabajado alguna vez?\"] = Merclabdes2004[\"¿Ha trabajado alguna vez?\"].astype(str).replace({\"Sí\":\"1\",\"No\":\"2\",\"Ns./Nr.\":\"0\"})\n",
    "Merclabdes2004[\"¿Ha trabajado alguna vez?\"] = Merclabdes2004[\"¿Ha trabajado alguna vez?\"].astype(float)\n"
   ]
  },
  {
   "cell_type": "code",
   "execution_count": 203,
   "id": "69f660d3-5a89-4fec-967b-8727ae7c29b0",
   "metadata": {},
   "outputs": [
    {
     "data": {
      "text/plain": [
       "(311, 6)"
      ]
     },
     "execution_count": 203,
     "metadata": {},
     "output_type": "execute_result"
    }
   ],
   "source": [
    "Merclabdes2024= Merclabdes2024[[\"año\",\"ipcf\",\"nivel_ed\",\"Hizo contactos, entrevistas\",\"Mandó currículum, puso / contestó avisos\",\"¿Ha trabajado alguna vez?\"]]\n",
    "Merclabdes2024.shape"
   ]
  },
  {
   "cell_type": "code",
   "execution_count": 204,
   "id": "fe0ac0c7-1f05-487c-bfe4-5074c6f3ad31",
   "metadata": {},
   "outputs": [
    {
     "data": {
      "text/plain": [
       "(232, 6)"
      ]
     },
     "execution_count": 204,
     "metadata": {},
     "output_type": "execute_result"
    }
   ],
   "source": [
    "Merclabdes2004 = Merclabdes2004[[\"año\",\"ipcf\",\"nivel_ed\",\"Hizo contactos, entrevistas\",\"Mandó currículum, puso / contestó avisos\",\"¿Ha trabajado alguna vez?\"]]\n",
    "Merclabdes2004.shape"
   ]
  },
  {
   "cell_type": "code",
   "execution_count": 205,
   "id": "d75d92b1-437c-457f-8945-5d99389eb340",
   "metadata": {},
   "outputs": [
    {
     "data": {
      "text/plain": [
       "(543, 6)"
      ]
     },
     "execution_count": 205,
     "metadata": {},
     "output_type": "execute_result"
    }
   ],
   "source": [
    "Merclabdestot = pd.concat([Merclabdes2004, Merclabdes2024])\n",
    "Merclabdestot =Merclabdestot[[\"año\",\"ipcf\",\"nivel_ed\",\"Hizo contactos, entrevistas\",\"Mandó currículum, puso / contestó avisos\",\"¿Ha trabajado alguna vez?\"]]\n",
    "Merclabdestot.shape"
   ]
  },
  {
   "cell_type": "code",
   "execution_count": 206,
   "id": "c0a95131-b680-4eb3-a45c-a3590a4d5bb2",
   "metadata": {},
   "outputs": [
    {
     "data": {
      "text/html": [
       "<div>\n",
       "<style scoped>\n",
       "    .dataframe tbody tr th:only-of-type {\n",
       "        vertical-align: middle;\n",
       "    }\n",
       "\n",
       "    .dataframe tbody tr th {\n",
       "        vertical-align: top;\n",
       "    }\n",
       "\n",
       "    .dataframe thead th {\n",
       "        text-align: right;\n",
       "    }\n",
       "</style>\n",
       "<table border=\"1\" class=\"dataframe\">\n",
       "  <thead>\n",
       "    <tr style=\"text-align: right;\">\n",
       "      <th></th>\n",
       "      <th>año</th>\n",
       "      <th>ipcf</th>\n",
       "      <th>nivel_ed</th>\n",
       "      <th>Hizo contactos, entrevistas</th>\n",
       "      <th>Mandó currículum, puso / contestó avisos</th>\n",
       "      <th>¿Ha trabajado alguna vez?</th>\n",
       "    </tr>\n",
       "  </thead>\n",
       "  <tbody>\n",
       "    <tr>\n",
       "      <th>8</th>\n",
       "      <td>2004.0</td>\n",
       "      <td>208.00</td>\n",
       "      <td>4.0</td>\n",
       "      <td>2.0</td>\n",
       "      <td>1.0</td>\n",
       "      <td>2.0</td>\n",
       "    </tr>\n",
       "    <tr>\n",
       "      <th>14</th>\n",
       "      <td>2004.0</td>\n",
       "      <td>150.00</td>\n",
       "      <td>6.0</td>\n",
       "      <td>2.0</td>\n",
       "      <td>1.0</td>\n",
       "      <td>2.0</td>\n",
       "    </tr>\n",
       "    <tr>\n",
       "      <th>19</th>\n",
       "      <td>2004.0</td>\n",
       "      <td>1035.00</td>\n",
       "      <td>6.0</td>\n",
       "      <td>2.0</td>\n",
       "      <td>2.0</td>\n",
       "      <td>2.0</td>\n",
       "    </tr>\n",
       "    <tr>\n",
       "      <th>66</th>\n",
       "      <td>2004.0</td>\n",
       "      <td>400.00</td>\n",
       "      <td>5.0</td>\n",
       "      <td>2.0</td>\n",
       "      <td>2.0</td>\n",
       "      <td>2.0</td>\n",
       "    </tr>\n",
       "    <tr>\n",
       "      <th>153</th>\n",
       "      <td>2004.0</td>\n",
       "      <td>250.00</td>\n",
       "      <td>2.0</td>\n",
       "      <td>2.0</td>\n",
       "      <td>2.0</td>\n",
       "      <td>2.0</td>\n",
       "    </tr>\n",
       "    <tr>\n",
       "      <th>...</th>\n",
       "      <td>...</td>\n",
       "      <td>...</td>\n",
       "      <td>...</td>\n",
       "      <td>...</td>\n",
       "      <td>...</td>\n",
       "      <td>...</td>\n",
       "    </tr>\n",
       "    <tr>\n",
       "      <th>45458</th>\n",
       "      <td>2024.0</td>\n",
       "      <td>185000.00</td>\n",
       "      <td>3.0</td>\n",
       "      <td>2.0</td>\n",
       "      <td>1.0</td>\n",
       "      <td>1.0</td>\n",
       "    </tr>\n",
       "    <tr>\n",
       "      <th>45465</th>\n",
       "      <td>2024.0</td>\n",
       "      <td>250000.00</td>\n",
       "      <td>5.0</td>\n",
       "      <td>2.0</td>\n",
       "      <td>1.0</td>\n",
       "      <td>0.0</td>\n",
       "    </tr>\n",
       "    <tr>\n",
       "      <th>45777</th>\n",
       "      <td>2024.0</td>\n",
       "      <td>117142.86</td>\n",
       "      <td>3.0</td>\n",
       "      <td>2.0</td>\n",
       "      <td>1.0</td>\n",
       "      <td>1.0</td>\n",
       "    </tr>\n",
       "    <tr>\n",
       "      <th>45843</th>\n",
       "      <td>2024.0</td>\n",
       "      <td>0.00</td>\n",
       "      <td>6.0</td>\n",
       "      <td>2.0</td>\n",
       "      <td>1.0</td>\n",
       "      <td>1.0</td>\n",
       "    </tr>\n",
       "    <tr>\n",
       "      <th>46042</th>\n",
       "      <td>2024.0</td>\n",
       "      <td>0.00</td>\n",
       "      <td>4.0</td>\n",
       "      <td>2.0</td>\n",
       "      <td>2.0</td>\n",
       "      <td>1.0</td>\n",
       "    </tr>\n",
       "  </tbody>\n",
       "</table>\n",
       "<p>543 rows × 6 columns</p>\n",
       "</div>"
      ],
      "text/plain": [
       "          año       ipcf  nivel_ed  Hizo contactos, entrevistas  \\\n",
       "8      2004.0     208.00       4.0                          2.0   \n",
       "14     2004.0     150.00       6.0                          2.0   \n",
       "19     2004.0    1035.00       6.0                          2.0   \n",
       "66     2004.0     400.00       5.0                          2.0   \n",
       "153    2004.0     250.00       2.0                          2.0   \n",
       "...       ...        ...       ...                          ...   \n",
       "45458  2024.0  185000.00       3.0                          2.0   \n",
       "45465  2024.0  250000.00       5.0                          2.0   \n",
       "45777  2024.0  117142.86       3.0                          2.0   \n",
       "45843  2024.0       0.00       6.0                          2.0   \n",
       "46042  2024.0       0.00       4.0                          2.0   \n",
       "\n",
       "       Mandó currículum, puso / contestó avisos  ¿Ha trabajado alguna vez?  \n",
       "8                                           1.0                        2.0  \n",
       "14                                          1.0                        2.0  \n",
       "19                                          2.0                        2.0  \n",
       "66                                          2.0                        2.0  \n",
       "153                                         2.0                        2.0  \n",
       "...                                         ...                        ...  \n",
       "45458                                       1.0                        1.0  \n",
       "45465                                       1.0                        0.0  \n",
       "45777                                       1.0                        1.0  \n",
       "45843                                       1.0                        1.0  \n",
       "46042                                       2.0                        1.0  \n",
       "\n",
       "[543 rows x 6 columns]"
      ]
     },
     "execution_count": 206,
     "metadata": {},
     "output_type": "execute_result"
    }
   ],
   "source": [
    "Merclabdestot #Decidimos tomar esta base homogeneizada para los desocupados."
   ]
  },
  {
   "cell_type": "code",
   "execution_count": 207,
   "id": "2c13d9a0-7eb2-469f-9ca3-fff35acb0b32",
   "metadata": {},
   "outputs": [
    {
     "name": "stdout",
     "output_type": "stream",
     "text": [
      "Index(['CODUSU', 'nro_hogar', 'componente', 'h15', 'ano4', 'trimestre',\n",
      "       'region', 'mas_500', 'aglomerado', 'pondera',\n",
      "       ...\n",
      "       'deccfr', 'ideccfr', 'rdeccfr', 'gdeccfr', 'pdeccfr', 'adeccfr',\n",
      "       'pj1_1', 'pj2_1', 'pj3_1', 'idimpp'],\n",
      "      dtype='object', length=176)\n"
     ]
    }
   ],
   "source": [
    "import pandas as pd\n",
    "df = pd.read_stata('Individual_t104.dta')\n",
    "print(df.columns)\n"
   ]
  },
  {
   "cell_type": "code",
   "execution_count": 208,
   "id": "bc75b94a-b59f-48bc-a16b-cfdd08889052",
   "metadata": {},
   "outputs": [
    {
     "name": "stdout",
     "output_type": "stream",
     "text": [
      "<class 'pandas.core.frame.DataFrame'>\n"
     ]
    },
    {
     "data": {
      "text/html": [
       "<div>\n",
       "<style scoped>\n",
       "    .dataframe tbody tr th:only-of-type {\n",
       "        vertical-align: middle;\n",
       "    }\n",
       "\n",
       "    .dataframe tbody tr th {\n",
       "        vertical-align: top;\n",
       "    }\n",
       "\n",
       "    .dataframe thead th {\n",
       "        text-align: right;\n",
       "    }\n",
       "</style>\n",
       "<table border=\"1\" class=\"dataframe\">\n",
       "  <thead>\n",
       "    <tr style=\"text-align: right;\">\n",
       "      <th></th>\n",
       "      <th>horastrab</th>\n",
       "    </tr>\n",
       "  </thead>\n",
       "  <tbody>\n",
       "    <tr>\n",
       "      <th>0</th>\n",
       "      <td>0.0</td>\n",
       "    </tr>\n",
       "    <tr>\n",
       "      <th>1</th>\n",
       "      <td>0.0</td>\n",
       "    </tr>\n",
       "    <tr>\n",
       "      <th>2</th>\n",
       "      <td>0.0</td>\n",
       "    </tr>\n",
       "    <tr>\n",
       "      <th>3</th>\n",
       "      <td>59.0</td>\n",
       "    </tr>\n",
       "    <tr>\n",
       "      <th>4</th>\n",
       "      <td>0.0</td>\n",
       "    </tr>\n",
       "  </tbody>\n",
       "</table>\n",
       "</div>"
      ],
      "text/plain": [
       "   horastrab\n",
       "0        0.0\n",
       "1        0.0\n",
       "2        0.0\n",
       "3       59.0\n",
       "4        0.0"
      ]
     },
     "execution_count": 208,
     "metadata": {},
     "output_type": "execute_result"
    }
   ],
   "source": [
    "df_horastrab = horastrab[['horastrab']].copy()\n",
    "print(type(df_horastrab))\n",
    "df_horastrab.head()\n"
   ]
  },
  {
   "cell_type": "code",
   "execution_count": 209,
   "id": "bc6d8da8-d18c-45d1-9f4e-abbc9bc9c2f7",
   "metadata": {},
   "outputs": [],
   "source": [
    "df_salario[\"salario_semanal\"]\n",
    "df_salario = df_salario[\"salario_semanal\"].to_frame()\n",
    "df_salario = df_salario[\"salario_semanal\"].to_frame(name='salario_semanal')"
   ]
  },
  {
   "cell_type": "code",
   "execution_count": 210,
   "id": "30a09395-753b-4c30-9fa3-7cbde9c330dd",
   "metadata": {},
   "outputs": [
    {
     "data": {
      "text/html": [
       "<div>\n",
       "<style scoped>\n",
       "    .dataframe tbody tr th:only-of-type {\n",
       "        vertical-align: middle;\n",
       "    }\n",
       "\n",
       "    .dataframe tbody tr th {\n",
       "        vertical-align: top;\n",
       "    }\n",
       "\n",
       "    .dataframe thead th {\n",
       "        text-align: right;\n",
       "    }\n",
       "</style>\n",
       "<table border=\"1\" class=\"dataframe\">\n",
       "  <thead>\n",
       "    <tr style=\"text-align: right;\">\n",
       "      <th></th>\n",
       "      <th>salario_semanal</th>\n",
       "    </tr>\n",
       "  </thead>\n",
       "  <tbody>\n",
       "    <tr>\n",
       "      <th>3</th>\n",
       "      <td>1750.000</td>\n",
       "    </tr>\n",
       "    <tr>\n",
       "      <th>5</th>\n",
       "      <td>26.250</td>\n",
       "    </tr>\n",
       "    <tr>\n",
       "      <th>6</th>\n",
       "      <td>87.500</td>\n",
       "    </tr>\n",
       "    <tr>\n",
       "      <th>7</th>\n",
       "      <td>700.000</td>\n",
       "    </tr>\n",
       "    <tr>\n",
       "      <th>12</th>\n",
       "      <td>656.250</td>\n",
       "    </tr>\n",
       "    <tr>\n",
       "      <th>...</th>\n",
       "      <td>...</td>\n",
       "    </tr>\n",
       "    <tr>\n",
       "      <th>7637</th>\n",
       "      <td>131.250</td>\n",
       "    </tr>\n",
       "    <tr>\n",
       "      <th>7640</th>\n",
       "      <td>1312.500</td>\n",
       "    </tr>\n",
       "    <tr>\n",
       "      <th>7643</th>\n",
       "      <td>109.375</td>\n",
       "    </tr>\n",
       "    <tr>\n",
       "      <th>7644</th>\n",
       "      <td>109.375</td>\n",
       "    </tr>\n",
       "    <tr>\n",
       "      <th>7646</th>\n",
       "      <td>131.250</td>\n",
       "    </tr>\n",
       "  </tbody>\n",
       "</table>\n",
       "<p>2822 rows × 1 columns</p>\n",
       "</div>"
      ],
      "text/plain": [
       "      salario_semanal\n",
       "3            1750.000\n",
       "5              26.250\n",
       "6              87.500\n",
       "7             700.000\n",
       "12            656.250\n",
       "...               ...\n",
       "7637          131.250\n",
       "7640         1312.500\n",
       "7643          109.375\n",
       "7644          109.375\n",
       "7646          131.250\n",
       "\n",
       "[2822 rows x 1 columns]"
      ]
     },
     "execution_count": 210,
     "metadata": {},
     "output_type": "execute_result"
    }
   ],
   "source": [
    "df_salario"
   ]
  },
  {
   "cell_type": "code",
   "execution_count": 211,
   "id": "61839dff-17f0-4c5b-a086-72497d419e82",
   "metadata": {},
   "outputs": [
    {
     "ename": "InvalidIndexError",
     "evalue": "Reindexing only valid with uniquely valued Index objects",
     "output_type": "error",
     "traceback": [
      "\u001b[1;31m---------------------------------------------------------------------------\u001b[0m",
      "\u001b[1;31mInvalidIndexError\u001b[0m                         Traceback (most recent call last)",
      "Cell \u001b[1;32mIn[211], line 1\u001b[0m\n\u001b[1;32m----> 1\u001b[0m df_edad2educ \u001b[38;5;241m=\u001b[39m pd\u001b[38;5;241m.\u001b[39mconcat([edad2, educ], axis\u001b[38;5;241m=\u001b[39m\u001b[38;5;241m1\u001b[39m)\u001b[38;5;241m.\u001b[39mdropna()\n\u001b[0;32m      2\u001b[0m df_edad2educ\n",
      "File \u001b[1;32mD:\\ANACONDA\\Lib\\site-packages\\pandas\\core\\reshape\\concat.py:395\u001b[0m, in \u001b[0;36mconcat\u001b[1;34m(objs, axis, join, ignore_index, keys, levels, names, verify_integrity, sort, copy)\u001b[0m\n\u001b[0;32m    380\u001b[0m     copy \u001b[38;5;241m=\u001b[39m \u001b[38;5;28;01mFalse\u001b[39;00m\n\u001b[0;32m    382\u001b[0m op \u001b[38;5;241m=\u001b[39m _Concatenator(\n\u001b[0;32m    383\u001b[0m     objs,\n\u001b[0;32m    384\u001b[0m     axis\u001b[38;5;241m=\u001b[39maxis,\n\u001b[1;32m   (...)\u001b[0m\n\u001b[0;32m    392\u001b[0m     sort\u001b[38;5;241m=\u001b[39msort,\n\u001b[0;32m    393\u001b[0m )\n\u001b[1;32m--> 395\u001b[0m \u001b[38;5;28;01mreturn\u001b[39;00m op\u001b[38;5;241m.\u001b[39mget_result()\n",
      "File \u001b[1;32mD:\\ANACONDA\\Lib\\site-packages\\pandas\\core\\reshape\\concat.py:680\u001b[0m, in \u001b[0;36m_Concatenator.get_result\u001b[1;34m(self)\u001b[0m\n\u001b[0;32m    678\u001b[0m         obj_labels \u001b[38;5;241m=\u001b[39m obj\u001b[38;5;241m.\u001b[39maxes[\u001b[38;5;241m1\u001b[39m \u001b[38;5;241m-\u001b[39m ax]\n\u001b[0;32m    679\u001b[0m         \u001b[38;5;28;01mif\u001b[39;00m \u001b[38;5;129;01mnot\u001b[39;00m new_labels\u001b[38;5;241m.\u001b[39mequals(obj_labels):\n\u001b[1;32m--> 680\u001b[0m             indexers[ax] \u001b[38;5;241m=\u001b[39m obj_labels\u001b[38;5;241m.\u001b[39mget_indexer(new_labels)\n\u001b[0;32m    682\u001b[0m     mgrs_indexers\u001b[38;5;241m.\u001b[39mappend((obj\u001b[38;5;241m.\u001b[39m_mgr, indexers))\n\u001b[0;32m    684\u001b[0m new_data \u001b[38;5;241m=\u001b[39m concatenate_managers(\n\u001b[0;32m    685\u001b[0m     mgrs_indexers, \u001b[38;5;28mself\u001b[39m\u001b[38;5;241m.\u001b[39mnew_axes, concat_axis\u001b[38;5;241m=\u001b[39m\u001b[38;5;28mself\u001b[39m\u001b[38;5;241m.\u001b[39mbm_axis, copy\u001b[38;5;241m=\u001b[39m\u001b[38;5;28mself\u001b[39m\u001b[38;5;241m.\u001b[39mcopy\n\u001b[0;32m    686\u001b[0m )\n",
      "File \u001b[1;32mD:\\ANACONDA\\Lib\\site-packages\\pandas\\core\\indexes\\base.py:3885\u001b[0m, in \u001b[0;36mIndex.get_indexer\u001b[1;34m(self, target, method, limit, tolerance)\u001b[0m\n\u001b[0;32m   3882\u001b[0m \u001b[38;5;28mself\u001b[39m\u001b[38;5;241m.\u001b[39m_check_indexing_method(method, limit, tolerance)\n\u001b[0;32m   3884\u001b[0m \u001b[38;5;28;01mif\u001b[39;00m \u001b[38;5;129;01mnot\u001b[39;00m \u001b[38;5;28mself\u001b[39m\u001b[38;5;241m.\u001b[39m_index_as_unique:\n\u001b[1;32m-> 3885\u001b[0m     \u001b[38;5;28;01mraise\u001b[39;00m InvalidIndexError(\u001b[38;5;28mself\u001b[39m\u001b[38;5;241m.\u001b[39m_requires_unique_msg)\n\u001b[0;32m   3887\u001b[0m \u001b[38;5;28;01mif\u001b[39;00m \u001b[38;5;28mlen\u001b[39m(target) \u001b[38;5;241m==\u001b[39m \u001b[38;5;241m0\u001b[39m:\n\u001b[0;32m   3888\u001b[0m     \u001b[38;5;28;01mreturn\u001b[39;00m np\u001b[38;5;241m.\u001b[39marray([], dtype\u001b[38;5;241m=\u001b[39mnp\u001b[38;5;241m.\u001b[39mintp)\n",
      "\u001b[1;31mInvalidIndexError\u001b[0m: Reindexing only valid with uniquely valued Index objects"
     ]
    }
   ],
   "source": [
    "df_edad2educ = pd.concat([edad2, educ], axis=1).dropna()\n",
    "df_edad2educ"
   ]
  },
  {
   "cell_type": "code",
   "execution_count": null,
   "id": "8ecde0a0-d26a-45dd-b8ca-0682d3f1c599",
   "metadata": {},
   "outputs": [],
   "source": [
    "df_horassalario =pd.concat([df_salario, df_horastrab], axis=1).dropna()\n",
    "df_horassalario "
   ]
  },
  {
   "cell_type": "code",
   "execution_count": null,
   "id": "b5c543ce-5173-4a53-922a-f0c989ae6887",
   "metadata": {},
   "outputs": [],
   "source": [
    "df_unido = pd.concat([df_edad2educ.reset_index(drop=True), df_horassalario.reset_index(drop=True)], axis=1).dropna()\n",
    "df_unido"
   ]
  },
  {
   "cell_type": "code",
   "execution_count": null,
   "id": "b60d9b83-74e9-4d5d-88a1-2aca8a5241c9",
   "metadata": {},
   "outputs": [],
   "source": [
    "edad =df2004[[\"ch06\"]]\n",
    "edad = edad.rename(columns={\"ch06\": \"edad\"})\n",
    "edad"
   ]
  },
  {
   "cell_type": "code",
   "execution_count": null,
   "id": "ee6a8dce-06d2-4e7b-bd4c-b0282656d62b",
   "metadata": {},
   "outputs": [],
   "source": [
    "dffinal=pd.concat([edad.reset_index(drop=True), df_unido.reset_index(drop=True)], axis=1).dropna()\n",
    "dffinal=dffinal[[\"edad\",\"edad2\",\"nivel de educacion\",\"finalizo\",\"educacion formal\",\"salario_semanal\",\"horastrab\"]]\n",
    "dffinal"
   ]
  },
  {
   "cell_type": "code",
   "execution_count": null,
   "id": "138e59b7-3733-4b0e-a108-f37c0e9e8be3",
   "metadata": {},
   "outputs": [],
   "source": [
    "dffinal['edad'] = pd.to_numeric(dffinal['edad'], errors='coerce')  # convierte a float; pone NaN donde falla\n",
    "dffinal = dffinal.dropna(subset=['edad'])"
   ]
  },
  {
   "cell_type": "code",
   "execution_count": null,
   "id": "24f442a0-fdcd-44bc-8b84-99c8316fb70e",
   "metadata": {},
   "outputs": [],
   "source": [
    "numericos = dffinal[[\"edad\",\"edad2\",\"nivel de educacion\",\"finalizo\",\"educacion formal\",\"salario_semanal\",\"horastrab\"]]\n",
    "sns.heatmap(numericos.corr(), annot=True, cmap=\"vlag\", vmin=-1, vmax=1)\n",
    "plt.title(\"Matriz de correlación entre variables numéricas 2024\")\n",
    "plt.show()"
   ]
  },
  {
   "cell_type": "code",
   "execution_count": null,
   "id": "0ce44577-ced2-4469-9d5e-65b460cc3023",
   "metadata": {},
   "outputs": [],
   "source": [
    "dffinal1.columns"
   ]
  },
  {
   "cell_type": "code",
   "execution_count": null,
   "id": "722ff126-73f1-4b74-8404-f98cb4f5198a",
   "metadata": {},
   "outputs": [],
   "source": [
    "dffinal1[\"nivel de educacion\"] = dffinal1[\"nivel de educacion\"].astype(str).replace({\n",
    "    \"Primaria Incompleta (incluye educación especial)\": \"1\",\n",
    "    \"Primaria Completa\": \"2\",\n",
    "    \"Secundario\": \"3\",\n",
    "    \"Secundaria Completa\": \"4\",\n",
    "    \"Superior Universitaria Incompleta\": \"5\",\n",
    "    \"Superior Universitaria Completa\": \"6\",\n",
    "    \"Sin instrucción\": \"7\",\n",
    "    \"Ns./Nr.\": \"9\"\n",
    "})\n",
    "dffinal1[\"nivel de educacion\"] = dffinal1[\"nivel de educacion\"].astype(float)"
   ]
  },
  {
   "cell_type": "code",
   "execution_count": null,
   "id": "af46e848-caa1-4e27-bb81-fd17f141164d",
   "metadata": {},
   "outputs": [],
   "source": [
    "dffinal1"
   ]
  },
  {
   "cell_type": "code",
   "execution_count": null,
   "id": "35db10ac-290b-4cfc-b22b-de47f3c4008a",
   "metadata": {},
   "outputs": [],
   "source": [
    "import pandas as pd\n",
    "\n",
    "# Crear el DataFrame\n",
    "df = pd.DataFrame({\n",
    "    'edad2': X1,\n",
    "    'educ': X2,\n",
    "    'horastrab': X3,\n",
    "    'edad': X4,\n",
    "    'salario_semanal': X5\n",
    "})\n"
   ]
  },
  {
   "cell_type": "code",
   "execution_count": null,
   "id": "02385976-ac1e-41c6-b0aa-e5b359b6fa8f",
   "metadata": {},
   "outputs": [],
   "source": [
    "import seaborn as sns\n",
    "import matplotlib.pyplot as plt\n"
   ]
  },
  {
   "cell_type": "code",
   "execution_count": null,
   "id": "28cd6b7c-022c-4c49-9255-4312afb661c3",
   "metadata": {},
   "outputs": [],
   "source": [
    "correlation_matrix = df.corr()\n"
   ]
  },
  {
   "cell_type": "code",
   "execution_count": null,
   "id": "1aa8c8db-da0a-47c5-b8d0-c31226657b83",
   "metadata": {},
   "outputs": [],
   "source": [
    "    "
   ]
  }
 ],
 "metadata": {
  "kernelspec": {
   "display_name": "Python [conda env:base] *",
   "language": "python",
   "name": "conda-base-py"
  },
  "language_info": {
   "codemirror_mode": {
    "name": "ipython",
    "version": 3
   },
   "file_extension": ".py",
   "mimetype": "text/x-python",
   "name": "python",
   "nbconvert_exporter": "python",
   "pygments_lexer": "ipython3",
   "version": "3.12.7"
  }
 },
 "nbformat": 4,
 "nbformat_minor": 5
}
