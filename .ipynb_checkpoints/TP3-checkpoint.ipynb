{
 "cells": [
  {
   "cell_type": "code",
   "execution_count": 5,
   "id": "c6209d9b-bde7-4596-96f9-ff3f575663fc",
   "metadata": {
    "scrolled": true
   },
   "outputs": [
    {
     "name": "stdout",
     "output_type": "stream",
     "text": [
      "Requirement already satisfied: ISLP in c:\\users\\kendr\\anaconda3\\lib\\site-packages (0.4.0)Note: you may need to restart the kernel to use updated packages.\n",
      "\n",
      "Requirement already satisfied: numpy>=1.7.1 in c:\\users\\kendr\\anaconda3\\lib\\site-packages (from ISLP) (1.26.4)\n",
      "Requirement already satisfied: scipy>=0.9 in c:\\users\\kendr\\anaconda3\\lib\\site-packages (from ISLP) (1.11.4)\n",
      "Requirement already satisfied: pandas>=0.20 in c:\\users\\kendr\\anaconda3\\lib\\site-packages (from ISLP) (2.2.2)\n",
      "Requirement already satisfied: lxml in c:\\users\\kendr\\anaconda3\\lib\\site-packages (from ISLP) (5.2.1)\n",
      "Requirement already satisfied: scikit-learn>=1.2 in c:\\users\\kendr\\anaconda3\\lib\\site-packages (from ISLP) (1.5.1)\n",
      "Requirement already satisfied: joblib in c:\\users\\kendr\\anaconda3\\lib\\site-packages (from ISLP) (1.4.2)\n",
      "Requirement already satisfied: statsmodels>=0.13 in c:\\users\\kendr\\anaconda3\\lib\\site-packages (from ISLP) (0.14.2)\n",
      "Requirement already satisfied: lifelines in c:\\users\\kendr\\anaconda3\\lib\\site-packages (from ISLP) (0.30.0)\n",
      "Requirement already satisfied: pygam in c:\\users\\kendr\\anaconda3\\lib\\site-packages (from ISLP) (0.9.1)\n",
      "Requirement already satisfied: torch in c:\\users\\kendr\\anaconda3\\lib\\site-packages (from ISLP) (2.7.0)\n",
      "Requirement already satisfied: pytorch-lightning in c:\\users\\kendr\\anaconda3\\lib\\site-packages (from ISLP) (2.5.1.post0)\n",
      "Requirement already satisfied: torchmetrics in c:\\users\\kendr\\anaconda3\\lib\\site-packages (from ISLP) (1.7.1)\n",
      "Requirement already satisfied: python-dateutil>=2.8.2 in c:\\users\\kendr\\anaconda3\\lib\\site-packages (from pandas>=0.20->ISLP) (2.9.0.post0)\n",
      "Requirement already satisfied: pytz>=2020.1 in c:\\users\\kendr\\anaconda3\\lib\\site-packages (from pandas>=0.20->ISLP) (2025.2)\n",
      "Requirement already satisfied: tzdata>=2022.7 in c:\\users\\kendr\\anaconda3\\lib\\site-packages (from pandas>=0.20->ISLP) (2023.3)\n",
      "Requirement already satisfied: threadpoolctl>=3.1.0 in c:\\users\\kendr\\anaconda3\\lib\\site-packages (from scikit-learn>=1.2->ISLP) (3.5.0)\n",
      "Requirement already satisfied: patsy>=0.5.6 in c:\\users\\kendr\\anaconda3\\lib\\site-packages (from statsmodels>=0.13->ISLP) (0.5.6)\n",
      "Requirement already satisfied: packaging>=21.3 in c:\\users\\kendr\\anaconda3\\lib\\site-packages (from statsmodels>=0.13->ISLP) (24.1)\n",
      "Requirement already satisfied: matplotlib>=3.0 in c:\\users\\kendr\\anaconda3\\lib\\site-packages (from lifelines->ISLP) (3.9.2)\n",
      "Requirement already satisfied: autograd>=1.5 in c:\\users\\kendr\\anaconda3\\lib\\site-packages (from lifelines->ISLP) (1.7.0)\n",
      "Requirement already satisfied: autograd-gamma>=0.3 in c:\\users\\kendr\\anaconda3\\lib\\site-packages (from lifelines->ISLP) (0.5.0)\n",
      "Requirement already satisfied: formulaic>=0.2.2 in c:\\users\\kendr\\anaconda3\\lib\\site-packages (from lifelines->ISLP) (1.1.1)\n",
      "Requirement already satisfied: progressbar2<5.0.0,>=4.2.0 in c:\\users\\kendr\\anaconda3\\lib\\site-packages (from pygam->ISLP) (4.5.0)\n",
      "Requirement already satisfied: tqdm>=4.57.0 in c:\\users\\kendr\\anaconda3\\lib\\site-packages (from pytorch-lightning->ISLP) (4.66.5)\n",
      "Requirement already satisfied: PyYAML>=5.4 in c:\\users\\kendr\\anaconda3\\lib\\site-packages (from pytorch-lightning->ISLP) (6.0.1)\n",
      "Requirement already satisfied: fsspec>=2022.5.0 in c:\\users\\kendr\\anaconda3\\lib\\site-packages (from fsspec[http]>=2022.5.0->pytorch-lightning->ISLP) (2024.6.1)\n",
      "Requirement already satisfied: typing-extensions>=4.4.0 in c:\\users\\kendr\\anaconda3\\lib\\site-packages (from pytorch-lightning->ISLP) (4.11.0)\n",
      "Requirement already satisfied: lightning-utilities>=0.10.0 in c:\\users\\kendr\\anaconda3\\lib\\site-packages (from pytorch-lightning->ISLP) (0.14.3)\n",
      "Requirement already satisfied: filelock in c:\\users\\kendr\\anaconda3\\lib\\site-packages (from torch->ISLP) (3.13.1)\n",
      "Requirement already satisfied: sympy>=1.13.3 in c:\\users\\kendr\\anaconda3\\lib\\site-packages (from torch->ISLP) (1.14.0)\n",
      "Requirement already satisfied: networkx in c:\\users\\kendr\\anaconda3\\lib\\site-packages (from torch->ISLP) (3.3)\n",
      "Requirement already satisfied: jinja2 in c:\\users\\kendr\\anaconda3\\lib\\site-packages (from torch->ISLP) (3.1.4)\n",
      "Requirement already satisfied: setuptools in c:\\users\\kendr\\anaconda3\\lib\\site-packages (from torch->ISLP) (75.1.0)\n",
      "Requirement already satisfied: interface-meta>=1.2.0 in c:\\users\\kendr\\anaconda3\\lib\\site-packages (from formulaic>=0.2.2->lifelines->ISLP) (1.3.0)\n",
      "Requirement already satisfied: wrapt>=1.0 in c:\\users\\kendr\\anaconda3\\lib\\site-packages (from formulaic>=0.2.2->lifelines->ISLP) (1.14.1)\n",
      "Requirement already satisfied: aiohttp!=4.0.0a0,!=4.0.0a1 in c:\\users\\kendr\\anaconda3\\lib\\site-packages (from fsspec[http]>=2022.5.0->pytorch-lightning->ISLP) (3.10.5)\n",
      "Requirement already satisfied: contourpy>=1.0.1 in c:\\users\\kendr\\anaconda3\\lib\\site-packages (from matplotlib>=3.0->lifelines->ISLP) (1.2.0)\n",
      "Requirement already satisfied: cycler>=0.10 in c:\\users\\kendr\\anaconda3\\lib\\site-packages (from matplotlib>=3.0->lifelines->ISLP) (0.11.0)\n",
      "Requirement already satisfied: fonttools>=4.22.0 in c:\\users\\kendr\\anaconda3\\lib\\site-packages (from matplotlib>=3.0->lifelines->ISLP) (4.51.0)\n",
      "Requirement already satisfied: kiwisolver>=1.3.1 in c:\\users\\kendr\\anaconda3\\lib\\site-packages (from matplotlib>=3.0->lifelines->ISLP) (1.4.4)\n",
      "Requirement already satisfied: pillow>=8 in c:\\users\\kendr\\anaconda3\\lib\\site-packages (from matplotlib>=3.0->lifelines->ISLP) (10.4.0)\n",
      "Requirement already satisfied: pyparsing>=2.3.1 in c:\\users\\kendr\\anaconda3\\lib\\site-packages (from matplotlib>=3.0->lifelines->ISLP) (3.1.2)\n",
      "Requirement already satisfied: six in c:\\users\\kendr\\anaconda3\\lib\\site-packages (from patsy>=0.5.6->statsmodels>=0.13->ISLP) (1.16.0)\n",
      "Requirement already satisfied: python-utils>=3.8.1 in c:\\users\\kendr\\anaconda3\\lib\\site-packages (from progressbar2<5.0.0,>=4.2.0->pygam->ISLP) (3.9.1)\n",
      "Requirement already satisfied: mpmath<1.4,>=1.1.0 in c:\\users\\kendr\\anaconda3\\lib\\site-packages (from sympy>=1.13.3->torch->ISLP) (1.3.0)\n",
      "Requirement already satisfied: colorama in c:\\users\\kendr\\anaconda3\\lib\\site-packages (from tqdm>=4.57.0->pytorch-lightning->ISLP) (0.4.6)\n",
      "Requirement already satisfied: MarkupSafe>=2.0 in c:\\users\\kendr\\anaconda3\\lib\\site-packages (from jinja2->torch->ISLP) (2.1.3)\n",
      "Requirement already satisfied: aiohappyeyeballs>=2.3.0 in c:\\users\\kendr\\anaconda3\\lib\\site-packages (from aiohttp!=4.0.0a0,!=4.0.0a1->fsspec[http]>=2022.5.0->pytorch-lightning->ISLP) (2.4.0)\n",
      "Requirement already satisfied: aiosignal>=1.1.2 in c:\\users\\kendr\\anaconda3\\lib\\site-packages (from aiohttp!=4.0.0a0,!=4.0.0a1->fsspec[http]>=2022.5.0->pytorch-lightning->ISLP) (1.2.0)\n",
      "Requirement already satisfied: attrs>=17.3.0 in c:\\users\\kendr\\anaconda3\\lib\\site-packages (from aiohttp!=4.0.0a0,!=4.0.0a1->fsspec[http]>=2022.5.0->pytorch-lightning->ISLP) (23.1.0)\n",
      "Requirement already satisfied: frozenlist>=1.1.1 in c:\\users\\kendr\\anaconda3\\lib\\site-packages (from aiohttp!=4.0.0a0,!=4.0.0a1->fsspec[http]>=2022.5.0->pytorch-lightning->ISLP) (1.4.0)\n",
      "Requirement already satisfied: multidict<7.0,>=4.5 in c:\\users\\kendr\\anaconda3\\lib\\site-packages (from aiohttp!=4.0.0a0,!=4.0.0a1->fsspec[http]>=2022.5.0->pytorch-lightning->ISLP) (6.0.4)\n",
      "Requirement already satisfied: yarl<2.0,>=1.0 in c:\\users\\kendr\\anaconda3\\lib\\site-packages (from aiohttp!=4.0.0a0,!=4.0.0a1->fsspec[http]>=2022.5.0->pytorch-lightning->ISLP) (1.11.0)\n",
      "Requirement already satisfied: idna>=2.0 in c:\\users\\kendr\\anaconda3\\lib\\site-packages (from yarl<2.0,>=1.0->aiohttp!=4.0.0a0,!=4.0.0a1->fsspec[http]>=2022.5.0->pytorch-lightning->ISLP) (3.7)\n"
     ]
    }
   ],
   "source": [
    "pip install ISLP"
   ]
  },
  {
   "cell_type": "code",
   "execution_count": 6,
   "id": "847c5115-fb28-4fe8-947d-1892b52438db",
   "metadata": {},
   "outputs": [
    {
     "name": "stdout",
     "output_type": "stream",
     "text": [
      "0.4.0\n"
     ]
    }
   ],
   "source": [
    "import ISLP\n",
    "print (ISLP.__version__)"
   ]
  },
  {
   "cell_type": "code",
   "execution_count": 7,
   "id": "55d457fd-4df3-4a5f-8636-e4c10f6aa2f0",
   "metadata": {},
   "outputs": [],
   "source": [
    "import ISLP\n",
    "from ISLP import load_data\n",
    "from statsmodels.datasets import get_rdataset\n",
    "\n",
    "import numpy as np\n",
    "import pandas as pd"
   ]
  },
  {
   "cell_type": "code",
   "execution_count": 8,
   "id": "325a3324-0b59-466b-ba88-daf8eef0567d",
   "metadata": {},
   "outputs": [],
   "source": [
    "import matplotlib.pyplot as plt\n",
    "from sklearn.preprocessing import StandardScaler\n",
    "from sklearn.decomposition import PCA"
   ]
  },
  {
   "cell_type": "code",
   "execution_count": 9,
   "id": "507c77b5-31d0-4373-b24b-ad37727488cb",
   "metadata": {},
   "outputs": [
    {
     "name": "stdout",
     "output_type": "stream",
     "text": [
      "C:\\Users\\kendr\\Documents\\GitHub\\Big_Data_TP3_Grupo13\n"
     ]
    }
   ],
   "source": [
    "import os\n",
    "print(os.getcwd())"
   ]
  },
  {
   "cell_type": "code",
   "execution_count": 10,
   "id": "05d42c93-f20e-40ac-961c-f5dd39a30573",
   "metadata": {},
   "outputs": [],
   "source": [
    "os.chdir(\"C:/Users/kendr/Documents/GitHub/Big_Data_TP3_Grupo13\")"
   ]
  },
  {
   "cell_type": "code",
   "execution_count": 11,
   "id": "50d56ebc-09ac-42d0-a3dd-dd58dc086a8a",
   "metadata": {},
   "outputs": [],
   "source": [
    "df = pd.read_stata(\"Individual_t104.dta\")"
   ]
  },
  {
   "cell_type": "code",
   "execution_count": 12,
   "id": "8d86e4b5-7d9b-4122-be60-c75f72380c5f",
   "metadata": {},
   "outputs": [
    {
     "data": {
      "text/html": [
       "<div>\n",
       "<style scoped>\n",
       "    .dataframe tbody tr th:only-of-type {\n",
       "        vertical-align: middle;\n",
       "    }\n",
       "\n",
       "    .dataframe tbody tr th {\n",
       "        vertical-align: top;\n",
       "    }\n",
       "\n",
       "    .dataframe thead th {\n",
       "        text-align: right;\n",
       "    }\n",
       "</style>\n",
       "<table border=\"1\" class=\"dataframe\">\n",
       "  <thead>\n",
       "    <tr style=\"text-align: right;\">\n",
       "      <th></th>\n",
       "      <th>CODUSU</th>\n",
       "      <th>nro_hogar</th>\n",
       "      <th>componente</th>\n",
       "      <th>h15</th>\n",
       "      <th>ano4</th>\n",
       "      <th>trimestre</th>\n",
       "      <th>region</th>\n",
       "      <th>mas_500</th>\n",
       "      <th>aglomerado</th>\n",
       "      <th>pondera</th>\n",
       "      <th>...</th>\n",
       "      <th>deccfr</th>\n",
       "      <th>ideccfr</th>\n",
       "      <th>rdeccfr</th>\n",
       "      <th>gdeccfr</th>\n",
       "      <th>pdeccfr</th>\n",
       "      <th>adeccfr</th>\n",
       "      <th>pj1_1</th>\n",
       "      <th>pj2_1</th>\n",
       "      <th>pj3_1</th>\n",
       "      <th>idimpp</th>\n",
       "    </tr>\n",
       "  </thead>\n",
       "  <tbody>\n",
       "    <tr>\n",
       "      <th>0</th>\n",
       "      <td>125098</td>\n",
       "      <td>1.0</td>\n",
       "      <td>1.0</td>\n",
       "      <td>Sí</td>\n",
       "      <td>2004.0</td>\n",
       "      <td>1er. Trimestre</td>\n",
       "      <td>Gran Buenos Aires</td>\n",
       "      <td>S</td>\n",
       "      <td>Ciudad de Buenos Aires</td>\n",
       "      <td>1299.0</td>\n",
       "      <td>...</td>\n",
       "      <td>07</td>\n",
       "      <td></td>\n",
       "      <td>06</td>\n",
       "      <td>06</td>\n",
       "      <td></td>\n",
       "      <td>04</td>\n",
       "      <td>0.0</td>\n",
       "      <td>0.0</td>\n",
       "      <td>0.0</td>\n",
       "      <td>00000</td>\n",
       "    </tr>\n",
       "    <tr>\n",
       "      <th>1</th>\n",
       "      <td>125397</td>\n",
       "      <td>1.0</td>\n",
       "      <td>1.0</td>\n",
       "      <td>Sí</td>\n",
       "      <td>2004.0</td>\n",
       "      <td>1er. Trimestre</td>\n",
       "      <td>Gran Buenos Aires</td>\n",
       "      <td>S</td>\n",
       "      <td>Ciudad de Buenos Aires</td>\n",
       "      <td>2018.0</td>\n",
       "      <td>...</td>\n",
       "      <td>00</td>\n",
       "      <td></td>\n",
       "      <td>00</td>\n",
       "      <td>00</td>\n",
       "      <td></td>\n",
       "      <td>00</td>\n",
       "      <td>0.0</td>\n",
       "      <td>0.0</td>\n",
       "      <td>0.0</td>\n",
       "      <td>00000</td>\n",
       "    </tr>\n",
       "    <tr>\n",
       "      <th>2</th>\n",
       "      <td>125515</td>\n",
       "      <td>1.0</td>\n",
       "      <td>1.0</td>\n",
       "      <td>Sí</td>\n",
       "      <td>2004.0</td>\n",
       "      <td>1er. Trimestre</td>\n",
       "      <td>Gran Buenos Aires</td>\n",
       "      <td>S</td>\n",
       "      <td>Ciudad de Buenos Aires</td>\n",
       "      <td>1486.0</td>\n",
       "      <td>...</td>\n",
       "      <td>07</td>\n",
       "      <td></td>\n",
       "      <td>07</td>\n",
       "      <td>07</td>\n",
       "      <td></td>\n",
       "      <td>05</td>\n",
       "      <td>0.0</td>\n",
       "      <td>0.0</td>\n",
       "      <td>0.0</td>\n",
       "      <td>00020</td>\n",
       "    </tr>\n",
       "  </tbody>\n",
       "</table>\n",
       "<p>3 rows × 176 columns</p>\n",
       "</div>"
      ],
      "text/plain": [
       "     CODUSU  nro_hogar componente h15    ano4       trimestre  \\\n",
       "0  125098          1.0        1.0  Sí  2004.0  1er. Trimestre   \n",
       "1  125397          1.0        1.0  Sí  2004.0  1er. Trimestre   \n",
       "2  125515          1.0        1.0  Sí  2004.0  1er. Trimestre   \n",
       "\n",
       "              region mas_500              aglomerado  pondera  ... deccfr  \\\n",
       "0  Gran Buenos Aires       S  Ciudad de Buenos Aires   1299.0  ...     07   \n",
       "1  Gran Buenos Aires       S  Ciudad de Buenos Aires   2018.0  ...     00   \n",
       "2  Gran Buenos Aires       S  Ciudad de Buenos Aires   1486.0  ...     07   \n",
       "\n",
       "  ideccfr rdeccfr gdeccfr pdeccfr adeccfr pj1_1 pj2_1 pj3_1 idimpp  \n",
       "0              06      06              04   0.0   0.0   0.0  00000  \n",
       "1              00      00              00   0.0   0.0   0.0  00000  \n",
       "2              07      07              05   0.0   0.0   0.0  00020  \n",
       "\n",
       "[3 rows x 176 columns]"
      ]
     },
     "execution_count": 12,
     "metadata": {},
     "output_type": "execute_result"
    }
   ],
   "source": [
    "df.head(3)"
   ]
  },
  {
   "cell_type": "code",
   "execution_count": 13,
   "id": "a8e8b05d-f8a1-4f67-bb05-6ef894f0e127",
   "metadata": {},
   "outputs": [],
   "source": [
    "edades2004=df[[\"ano4\",\"ch06\"]]"
   ]
  },
  {
   "cell_type": "code",
   "execution_count": 14,
   "id": "c5345214-38f3-47f1-a8f7-7cf57873df02",
   "metadata": {},
   "outputs": [
    {
     "data": {
      "text/html": [
       "<div>\n",
       "<style scoped>\n",
       "    .dataframe tbody tr th:only-of-type {\n",
       "        vertical-align: middle;\n",
       "    }\n",
       "\n",
       "    .dataframe tbody tr th {\n",
       "        vertical-align: top;\n",
       "    }\n",
       "\n",
       "    .dataframe thead th {\n",
       "        text-align: right;\n",
       "    }\n",
       "</style>\n",
       "<table border=\"1\" class=\"dataframe\">\n",
       "  <thead>\n",
       "    <tr style=\"text-align: right;\">\n",
       "      <th></th>\n",
       "      <th>ano4</th>\n",
       "      <th>ch06</th>\n",
       "    </tr>\n",
       "  </thead>\n",
       "  <tbody>\n",
       "    <tr>\n",
       "      <th>0</th>\n",
       "      <td>2004.0</td>\n",
       "      <td>79.0</td>\n",
       "    </tr>\n",
       "    <tr>\n",
       "      <th>1</th>\n",
       "      <td>2004.0</td>\n",
       "      <td>67.0</td>\n",
       "    </tr>\n",
       "    <tr>\n",
       "      <th>2</th>\n",
       "      <td>2004.0</td>\n",
       "      <td>74.0</td>\n",
       "    </tr>\n",
       "    <tr>\n",
       "      <th>3</th>\n",
       "      <td>2004.0</td>\n",
       "      <td>54.0</td>\n",
       "    </tr>\n",
       "    <tr>\n",
       "      <th>4</th>\n",
       "      <td>2004.0</td>\n",
       "      <td>51.0</td>\n",
       "    </tr>\n",
       "    <tr>\n",
       "      <th>...</th>\n",
       "      <td>...</td>\n",
       "      <td>...</td>\n",
       "    </tr>\n",
       "    <tr>\n",
       "      <th>45284</th>\n",
       "      <td>2004.0</td>\n",
       "      <td>37.0</td>\n",
       "    </tr>\n",
       "    <tr>\n",
       "      <th>45285</th>\n",
       "      <td>2004.0</td>\n",
       "      <td>35.0</td>\n",
       "    </tr>\n",
       "    <tr>\n",
       "      <th>45286</th>\n",
       "      <td>2004.0</td>\n",
       "      <td>13.0</td>\n",
       "    </tr>\n",
       "    <tr>\n",
       "      <th>45287</th>\n",
       "      <td>2004.0</td>\n",
       "      <td>5.0</td>\n",
       "    </tr>\n",
       "    <tr>\n",
       "      <th>45288</th>\n",
       "      <td>2004.0</td>\n",
       "      <td>4.0</td>\n",
       "    </tr>\n",
       "  </tbody>\n",
       "</table>\n",
       "<p>45289 rows × 2 columns</p>\n",
       "</div>"
      ],
      "text/plain": [
       "         ano4  ch06\n",
       "0      2004.0  79.0\n",
       "1      2004.0  67.0\n",
       "2      2004.0  74.0\n",
       "3      2004.0  54.0\n",
       "4      2004.0  51.0\n",
       "...       ...   ...\n",
       "45284  2004.0  37.0\n",
       "45285  2004.0  35.0\n",
       "45286  2004.0  13.0\n",
       "45287  2004.0   5.0\n",
       "45288  2004.0   4.0\n",
       "\n",
       "[45289 rows x 2 columns]"
      ]
     },
     "execution_count": 14,
     "metadata": {},
     "output_type": "execute_result"
    }
   ],
   "source": [
    "edades2004"
   ]
  },
  {
   "cell_type": "code",
   "execution_count": 15,
   "id": "a5f208df-9e13-41ad-bf22-2348be62ae41",
   "metadata": {},
   "outputs": [],
   "source": [
    "edades2004 = edades2004.rename(columns={\"ch06\": \"edad2\",\"ano4\":\"año\"})"
   ]
  },
  {
   "cell_type": "code",
   "execution_count": 16,
   "id": "6a5dc4ce-30d3-4acc-9d2c-9cbfee6646be",
   "metadata": {},
   "outputs": [
    {
     "data": {
      "text/html": [
       "<div>\n",
       "<style scoped>\n",
       "    .dataframe tbody tr th:only-of-type {\n",
       "        vertical-align: middle;\n",
       "    }\n",
       "\n",
       "    .dataframe tbody tr th {\n",
       "        vertical-align: top;\n",
       "    }\n",
       "\n",
       "    .dataframe thead th {\n",
       "        text-align: right;\n",
       "    }\n",
       "</style>\n",
       "<table border=\"1\" class=\"dataframe\">\n",
       "  <thead>\n",
       "    <tr style=\"text-align: right;\">\n",
       "      <th></th>\n",
       "      <th>año</th>\n",
       "      <th>edad2</th>\n",
       "    </tr>\n",
       "  </thead>\n",
       "  <tbody>\n",
       "    <tr>\n",
       "      <th>0</th>\n",
       "      <td>2004.0</td>\n",
       "      <td>79.0</td>\n",
       "    </tr>\n",
       "    <tr>\n",
       "      <th>1</th>\n",
       "      <td>2004.0</td>\n",
       "      <td>67.0</td>\n",
       "    </tr>\n",
       "    <tr>\n",
       "      <th>2</th>\n",
       "      <td>2004.0</td>\n",
       "      <td>74.0</td>\n",
       "    </tr>\n",
       "    <tr>\n",
       "      <th>3</th>\n",
       "      <td>2004.0</td>\n",
       "      <td>54.0</td>\n",
       "    </tr>\n",
       "    <tr>\n",
       "      <th>4</th>\n",
       "      <td>2004.0</td>\n",
       "      <td>51.0</td>\n",
       "    </tr>\n",
       "    <tr>\n",
       "      <th>...</th>\n",
       "      <td>...</td>\n",
       "      <td>...</td>\n",
       "    </tr>\n",
       "    <tr>\n",
       "      <th>45284</th>\n",
       "      <td>2004.0</td>\n",
       "      <td>37.0</td>\n",
       "    </tr>\n",
       "    <tr>\n",
       "      <th>45285</th>\n",
       "      <td>2004.0</td>\n",
       "      <td>35.0</td>\n",
       "    </tr>\n",
       "    <tr>\n",
       "      <th>45286</th>\n",
       "      <td>2004.0</td>\n",
       "      <td>13.0</td>\n",
       "    </tr>\n",
       "    <tr>\n",
       "      <th>45287</th>\n",
       "      <td>2004.0</td>\n",
       "      <td>5.0</td>\n",
       "    </tr>\n",
       "    <tr>\n",
       "      <th>45288</th>\n",
       "      <td>2004.0</td>\n",
       "      <td>4.0</td>\n",
       "    </tr>\n",
       "  </tbody>\n",
       "</table>\n",
       "<p>45289 rows × 2 columns</p>\n",
       "</div>"
      ],
      "text/plain": [
       "          año edad2\n",
       "0      2004.0  79.0\n",
       "1      2004.0  67.0\n",
       "2      2004.0  74.0\n",
       "3      2004.0  54.0\n",
       "4      2004.0  51.0\n",
       "...       ...   ...\n",
       "45284  2004.0  37.0\n",
       "45285  2004.0  35.0\n",
       "45286  2004.0  13.0\n",
       "45287  2004.0   5.0\n",
       "45288  2004.0   4.0\n",
       "\n",
       "[45289 rows x 2 columns]"
      ]
     },
     "execution_count": 16,
     "metadata": {},
     "output_type": "execute_result"
    }
   ],
   "source": [
    "edades2004\n"
   ]
  },
  {
   "cell_type": "code",
   "execution_count": 17,
   "id": "1f710030-e51f-4fc2-a4c7-722812be2b95",
   "metadata": {},
   "outputs": [
    {
     "name": "stdout",
     "output_type": "stream",
     "text": [
      "año:\n",
      "[2004.]\n",
      "----------------------------------------\n",
      "edad2:\n",
      "[79.0, 67.0, 74.0, 54.0, 51.0, ..., 88.0, '98 y más años', 91.0, 97.0, 95.0]\n",
      "Length: 99\n",
      "Categories (99, object): ['Menos de 1 año' < 1.0 < 2.0 < 3.0 ... 95.0 < 96.0 < 97.0 < '98 y más años']\n",
      "----------------------------------------\n"
     ]
    }
   ],
   "source": [
    "for col in edades2004.columns:\n",
    "    print(f\"{col}:\")\n",
    "    print(edades2004[col].unique())\n",
    "    print(\"-\" * 40)"
   ]
  },
  {
   "cell_type": "code",
   "execution_count": 18,
   "id": "b72311e2-37e0-40dd-a06b-0d6d12e94751",
   "metadata": {},
   "outputs": [],
   "source": [
    "edades2004[\"edad2\"] = edades2004[\"edad2\"].astype(str).replace({\"Menos de 1 año\": \"1\", \"98 y más años\": \"98\"})\n",
    "edades2004[\"edad2\"] = edades2004[\"edad2\"].astype(float)\n"
   ]
  },
  {
   "cell_type": "code",
   "execution_count": 19,
   "id": "da3bc331-9554-4dab-8d00-2329ea00a9dc",
   "metadata": {},
   "outputs": [],
   "source": [
    "edades2004['edad2'] = edades2004['edad2'] ** 2  # Elevar los valores al cuadrado\n"
   ]
  },
  {
   "cell_type": "code",
   "execution_count": 20,
   "id": "a4c62b95-8080-4e24-bb6b-550f130969e5",
   "metadata": {},
   "outputs": [],
   "source": [
    "edades2004hist= edades2004[[\"edad2\"]]"
   ]
  },
  {
   "cell_type": "code",
   "execution_count": 1,
   "id": "a0ed914d-23f2-4e82-b14f-f14c47faabbc",
   "metadata": {},
   "outputs": [
    {
     "ename": "NameError",
     "evalue": "name 'pd' is not defined",
     "output_type": "error",
     "traceback": [
      "\u001b[1;31m---------------------------------------------------------------------------\u001b[0m",
      "\u001b[1;31mNameError\u001b[0m                                 Traceback (most recent call last)",
      "Cell \u001b[1;32mIn[1], line 1\u001b[0m\n\u001b[1;32m----> 1\u001b[0m df2024 \u001b[38;5;241m=\u001b[39m pd\u001b[38;5;241m.\u001b[39mread_excel(\u001b[38;5;124m\"\u001b[39m\u001b[38;5;124musu_individual_T124.xlsx\u001b[39m\u001b[38;5;124m\"\u001b[39m)\n",
      "\u001b[1;31mNameError\u001b[0m: name 'pd' is not defined"
     ]
    }
   ],
   "source": [
    "df2024 = pd.read_excel(\"usu_individual_T124.xlsx\")"
   ]
  },
  {
   "cell_type": "code",
   "execution_count": null,
   "id": "32a0bbba-e3b4-46da-a3aa-9d267c40fedd",
   "metadata": {},
   "outputs": [],
   "source": [
    "df2024"
   ]
  },
  {
   "cell_type": "code",
   "execution_count": null,
   "id": "cdacab69-d7cf-455a-8c31-7e5dc12f4a20",
   "metadata": {},
   "outputs": [],
   "source": [
    "edades2024=df2024[[\"ANO4\",\"CH06\"]]"
   ]
  },
  {
   "cell_type": "code",
   "execution_count": null,
   "id": "7f65c144-7758-4b79-a75e-801505b6e00a",
   "metadata": {},
   "outputs": [],
   "source": [
    "edades2024"
   ]
  },
  {
   "cell_type": "code",
   "execution_count": null,
   "id": "f07f4dc7-bd3b-4e07-9495-75723e31630b",
   "metadata": {},
   "outputs": [],
   "source": [
    "edades2024 = edades2024.rename(columns={\"CH06\": \"edad2\",\"ANO4\":\"año\"})"
   ]
  },
  {
   "cell_type": "code",
   "execution_count": null,
   "id": "91a1c756-052b-432a-af8d-8ffd14dfd708",
   "metadata": {},
   "outputs": [],
   "source": [
    "for col in edades2024.columns:\n",
    "    print(f\"{col}:\")\n",
    "    print(edades2024[col].unique())\n",
    "    print(\"-\" * 40)"
   ]
  },
  {
   "cell_type": "code",
   "execution_count": null,
   "id": "fed71f69-929f-47a3-936c-b70a67630f48",
   "metadata": {},
   "outputs": [],
   "source": [
    "edades2024['edad2'] = edades2024['edad2'] ** 2"
   ]
  },
  {
   "cell_type": "code",
   "execution_count": null,
   "id": "442a2958-2536-4d98-971e-0aa4259b5df0",
   "metadata": {},
   "outputs": [],
   "source": [
    "edades2024"
   ]
  },
  {
   "cell_type": "code",
   "execution_count": null,
   "id": "e61a94cf-42b9-4cc7-845c-5374dd92ebeb",
   "metadata": {},
   "outputs": [],
   "source": [
    "edad2 = pd.concat([edades2004, edades2024])"
   ]
  },
  {
   "cell_type": "code",
   "execution_count": null,
   "id": "3431352f-8657-486b-b930-b01f8d179cf0",
   "metadata": {},
   "outputs": [],
   "source": [
    "!pip install scikit-learn"
   ]
  },
  {
   "cell_type": "code",
   "execution_count": null,
   "id": "5b579e15-bc87-4dea-bf4f-4d31f5428870",
   "metadata": {},
   "outputs": [],
   "source": [
    "import numpy as np\n",
    "import matplotlib.pyplot as plt"
   ]
  },
  {
   "cell_type": "code",
   "execution_count": null,
   "id": "689fcf6a-b35c-44a8-9a36-5d84408a7e8f",
   "metadata": {},
   "outputs": [],
   "source": [
    "plt.figure(figsize=(10,6))\n",
    "plt.hist(edades2004hist, alpha=0.5, color='blue') # por default, 10 bins\n",
    "plt.xlabel(\"x\")\n",
    "plt.ylabel('y')\n",
    "plt.show()"
   ]
  },
  {
   "cell_type": "code",
   "execution_count": null,
   "id": "ae1f7629-2f9a-478b-b453-54aa534c88f2",
   "metadata": {},
   "outputs": [],
   "source": [
    "edad_2004 = edad2[edad2['año'] == 2004.0]['edad2']\n",
    "edad_2024 = edad2[edad2['año'] == 2024.0]['edad2']\n",
    "\n",
    "plt.figure(figsize=(10,6))\n",
    "plt.hist([edad_2004, edad_2024],bins=20, alpha=0.5, color=['blue', 'green'], label=['2004', '2024'])\n",
    "plt.xlabel('Edad2')\n",
    "plt.ylabel('Frecuencia')\n",
    "plt.title('Comparación de histogramas para 2004 y 2024')\n",
    "plt.legend()\n",
    "plt.show()\n",
    "#no tiene mucho sentido gráficar las edades al cuadrado, aparte de que es poco entendible a simple vista"
   ]
  },
  {
   "cell_type": "code",
   "execution_count": null,
   "id": "ec5b5b48-ffcf-4445-91d9-e4ae0953bd45",
   "metadata": {},
   "outputs": [],
   "source": [
    "edad_2004 = np.sqrt(edad2[edad2['año'] == 2004.0]['edad2'])\n",
    "edad_2024 = np.sqrt(edad2[edad2['año'] == 2024.0]['edad2']) #np.sqrt nos da la raiz cuadrada de la columna edad\n",
    "\n",
    "plt.figure(figsize=(10,6))\n",
    "plt.hist([edad_2004, edad_2024],bins=40, alpha=0.5, color=['blue', 'green'], label=['2004', '2024'])\n",
    "plt.xlabel('Edad')\n",
    "plt.ylabel('Frecuencia')\n",
    "plt.title('Comparación de histogramas para 2004 y 2024 (edad real estimada)')\n",
    "plt.legend()\n",
    "plt.show()"
   ]
  },
  {
   "cell_type": "code",
   "execution_count": null,
   "id": "eb97f364-9b46-4da4-ada6-aa16ba394602",
   "metadata": {},
   "outputs": [],
   "source": [
    "from sklearn.neighbors import KernelDensity"
   ]
  },
  {
   "cell_type": "code",
   "execution_count": null,
   "id": "e94d9553-a488-4062-a1ff-906038dc619c",
   "metadata": {},
   "outputs": [],
   "source": [
    "df2004 = df"
   ]
  },
  {
   "cell_type": "code",
   "execution_count": null,
   "id": "048ad78c-b0a4-4bfc-a595-7388c8556a51",
   "metadata": {},
   "outputs": [],
   "source": [
    "df2004estado = df2004[[\"ano4\",\"estado\",\"ch06\"]]"
   ]
  },
  {
   "cell_type": "code",
   "execution_count": null,
   "id": "7c25020c-b3b6-4466-b677-459370c3dc83",
   "metadata": {},
   "outputs": [],
   "source": [
    "valores_permitidos = ['Ocupado', 'Desocupado']  # los valores que querés conservar\n",
    "\n",
    "df2004estado = df2004estado[df2004estado['estado'].isin(valores_permitidos)]"
   ]
  },
  {
   "cell_type": "code",
   "execution_count": null,
   "id": "3b54c8ef-f6fb-4d43-88f4-8aeea5345259",
   "metadata": {},
   "outputs": [],
   "source": [
    "df2004estado = df2004estado.rename(columns={\"ano4\":\"año\",\"ch06\":\"edad\"})"
   ]
  },
  {
   "cell_type": "code",
   "execution_count": null,
   "id": "07a1a488-072b-4340-a506-524475dceebf",
   "metadata": {},
   "outputs": [],
   "source": [
    "for col in df2004estado.columns:\n",
    "    print(f\"{col}:\")\n",
    "    print(df2004estado[col].unique())\n",
    "    print(\"-\" * 40)"
   ]
  },
  {
   "cell_type": "code",
   "execution_count": null,
   "id": "502b8538-ca39-41e7-af4d-ad717b26be5b",
   "metadata": {},
   "outputs": [],
   "source": [
    "df2004estado[\"edad\"] = df2004estado[\"edad\"].astype(str).replace({\"Menos de 1 año\": \"1\", \"98 y más años\": \"98\"})\n",
    "df2004estado[\"edad\"] = df2004estado[\"edad\"].astype(float)"
   ]
  },
  {
   "cell_type": "code",
   "execution_count": null,
   "id": "30aa57ac-d094-477a-bd34-a327b3d65045",
   "metadata": {},
   "outputs": [],
   "source": [
    "df2004estado[\"estado\"] = df2004estado[\"estado\"].astype(str).replace({\"Ocupado\": \"1\", \"Desocupado\": \"2\"})\n",
    "df2004estado[\"estado\"] = df2004estado[\"estado\"].astype(float)"
   ]
  },
  {
   "cell_type": "code",
   "execution_count": null,
   "id": "191e895a-2a87-4e6b-a779-e5239ec29870",
   "metadata": {},
   "outputs": [],
   "source": [
    "df2004estado"
   ]
  },
  {
   "cell_type": "code",
   "execution_count": null,
   "id": "6aca31bc-d6d1-4905-9eec-c6ca88d4d03b",
   "metadata": {},
   "outputs": [],
   "source": [
    "df2024estado=df2024[[\"ANO4\",\"ESTADO\",\"CH06\"]]"
   ]
  },
  {
   "cell_type": "code",
   "execution_count": null,
   "id": "cdf5974a-3570-4353-8aa2-e933d01a4f1b",
   "metadata": {},
   "outputs": [],
   "source": [
    "df2024estado\n",
    "valores_permitidos = [1,2]  # los valores que querés conservar\n",
    "\n",
    "df2024estado = df2024estado[df2024estado['ESTADO'].isin(valores_permitidos)]"
   ]
  },
  {
   "cell_type": "code",
   "execution_count": null,
   "id": "b2aeac4e-db50-4103-a8ad-cd3f0e47882a",
   "metadata": {},
   "outputs": [],
   "source": [
    "df2024estado = df2024estado.rename(columns={\"ESTADO\": \"estado\",\"ANO4\":\"año\",\"CH06\":\"edad\"})"
   ]
  },
  {
   "cell_type": "code",
   "execution_count": null,
   "id": "407dcac0-a2ea-4f02-a1ff-383233b3a15e",
   "metadata": {},
   "outputs": [],
   "source": [
    "PanelB = pd.concat([df2004estado, df2024estado])\n",
    "PanelB"
   ]
  },
  {
   "cell_type": "code",
   "execution_count": null,
   "id": "172d4b01-2034-43d3-a6a7-3d0e60cb7220",
   "metadata": {},
   "outputs": [],
   "source": [
    "ocupados = PanelB[PanelB['estado'] == 1]['edad'].dropna().values.reshape(-1, 1)\n",
    "desocupados = PanelB[PanelB['estado'] == 2]['edad'].dropna().values.reshape(-1, 1)\n",
    "\n",
    "# Rango para el eje X\n",
    "x_range = np.linspace(PanelB['edad'].min(), PanelB['edad'].max(), 1000).reshape(-1, 1)\n",
    "\n",
    "# Estimar KDE para ocupados\n",
    "kde_ocup = KernelDensity(kernel='gaussian', bandwidth=2).fit(ocupados)\n",
    "dens_ocup = np.exp(kde_ocup.score_samples(x_range))\n",
    "\n",
    "# Estimar KDE para desocupados\n",
    "kde_desocup = KernelDensity(kernel='gaussian', bandwidth=2).fit(desocupados)\n",
    "dens_desocup = np.exp(kde_desocup.score_samples(x_range))\n",
    "\n",
    "# Graficar\n",
    "plt.figure(figsize=(10, 6))\n",
    "plt.plot(x_range[:, 0], dens_ocup, color='blue', label='Ocupados')\n",
    "plt.plot(x_range[:, 0], dens_desocup, color='red', label='Desocupados')\n",
    "plt.title('Distribución de edades - Estimación Kernel')\n",
    "plt.xlabel('Edad')\n",
    "plt.ylabel('Densidad estimada')\n",
    "plt.legend()\n",
    "plt.grid(True)\n",
    "plt.show()\n",
    "#Podemos ver que el gráfico nos muestra una mayor distribución de desocupados entre los 20 y 25."
   ]
  },
  {
   "cell_type": "code",
   "execution_count": 31,
   "id": "f1974f16-5877-4f71-ae83-e62831a7e35f",
   "metadata": {},
   "outputs": [
    {
     "name": "stdout",
     "output_type": "stream",
     "text": [
      "La distribución de edades muestra que los desocupados (línea roja) tienden a concentrarse en edades más jóvenes, con un pico notable alrededor de los 21 años. En cambio, los ocupados (línea azul) presentan una distribución más uniforme, con una mayor concentración entre los 30 y 50 años. Esto sugiere que los jóvenes enfrentan mayores dificultades para integrarse al mercado laboral\n"
     ]
    }
   ],
   "source": [
    "print (\"La distribución de edades muestra que los desocupados (línea roja) tienden a concentrarse en edades más jóvenes, con un pico notable alrededor de los 21 años. En cambio, los ocupados (línea azul) presentan una distribución más uniforme, con una mayor concentración entre los 30 y 50 años. Esto sugiere que los jóvenes enfrentan mayores dificultades para integrarse al mercado laboral\")"
   ]
  },
  {
   "cell_type": "code",
   "execution_count": 33,
   "id": "5a96dabd-8077-4cae-8eb6-c9545f033ff1",
   "metadata": {},
   "outputs": [],
   "source": [
    "educ=df[[\"ch12\",\"ch13\",\"ch14\"]]"
   ]
  },
  {
   "cell_type": "code",
   "execution_count": 35,
   "id": "9a789bbf-145c-4a3d-b78b-acfda6c38241",
   "metadata": {},
   "outputs": [
    {
     "name": "stdout",
     "output_type": "stream",
     "text": [
      "                    ch12 ch13 ch14\n",
      "0             Secundario   No   03\n",
      "1               Primario   Sí     \n",
      "2               Primario   Sí     \n",
      "3               Primario   Sí     \n",
      "4          Universitario   Sí     \n",
      "...                  ...  ...  ...\n",
      "45284      Universitario   Sí     \n",
      "45285         Secundario   Sí     \n",
      "45286                EGB   No   02\n",
      "45287  Jardín/Preescolar   No   00\n",
      "45288  Jardín/Preescolar   No   00\n",
      "\n",
      "[45289 rows x 3 columns]\n"
     ]
    }
   ],
   "source": [
    "print(educ)"
   ]
  },
  {
   "cell_type": "code",
   "execution_count": 37,
   "id": "efd064b0-064c-4154-b3cb-b9b603c52a87",
   "metadata": {},
   "outputs": [
    {
     "data": {
      "text/html": [
       "<div>\n",
       "<style scoped>\n",
       "    .dataframe tbody tr th:only-of-type {\n",
       "        vertical-align: middle;\n",
       "    }\n",
       "\n",
       "    .dataframe tbody tr th {\n",
       "        vertical-align: top;\n",
       "    }\n",
       "\n",
       "    .dataframe thead th {\n",
       "        text-align: right;\n",
       "    }\n",
       "</style>\n",
       "<table border=\"1\" class=\"dataframe\">\n",
       "  <thead>\n",
       "    <tr style=\"text-align: right;\">\n",
       "      <th></th>\n",
       "      <th>ch12</th>\n",
       "      <th>ch13</th>\n",
       "      <th>ch14</th>\n",
       "    </tr>\n",
       "  </thead>\n",
       "  <tbody>\n",
       "    <tr>\n",
       "      <th>0</th>\n",
       "      <td>Secundario</td>\n",
       "      <td>No</td>\n",
       "      <td>03</td>\n",
       "    </tr>\n",
       "    <tr>\n",
       "      <th>1</th>\n",
       "      <td>Primario</td>\n",
       "      <td>Sí</td>\n",
       "      <td></td>\n",
       "    </tr>\n",
       "    <tr>\n",
       "      <th>2</th>\n",
       "      <td>Primario</td>\n",
       "      <td>Sí</td>\n",
       "      <td></td>\n",
       "    </tr>\n",
       "    <tr>\n",
       "      <th>3</th>\n",
       "      <td>Primario</td>\n",
       "      <td>Sí</td>\n",
       "      <td></td>\n",
       "    </tr>\n",
       "    <tr>\n",
       "      <th>4</th>\n",
       "      <td>Universitario</td>\n",
       "      <td>Sí</td>\n",
       "      <td></td>\n",
       "    </tr>\n",
       "    <tr>\n",
       "      <th>...</th>\n",
       "      <td>...</td>\n",
       "      <td>...</td>\n",
       "      <td>...</td>\n",
       "    </tr>\n",
       "    <tr>\n",
       "      <th>45284</th>\n",
       "      <td>Universitario</td>\n",
       "      <td>Sí</td>\n",
       "      <td></td>\n",
       "    </tr>\n",
       "    <tr>\n",
       "      <th>45285</th>\n",
       "      <td>Secundario</td>\n",
       "      <td>Sí</td>\n",
       "      <td></td>\n",
       "    </tr>\n",
       "    <tr>\n",
       "      <th>45286</th>\n",
       "      <td>EGB</td>\n",
       "      <td>No</td>\n",
       "      <td>02</td>\n",
       "    </tr>\n",
       "    <tr>\n",
       "      <th>45287</th>\n",
       "      <td>Jardín/Preescolar</td>\n",
       "      <td>No</td>\n",
       "      <td>00</td>\n",
       "    </tr>\n",
       "    <tr>\n",
       "      <th>45288</th>\n",
       "      <td>Jardín/Preescolar</td>\n",
       "      <td>No</td>\n",
       "      <td>00</td>\n",
       "    </tr>\n",
       "  </tbody>\n",
       "</table>\n",
       "<p>45289 rows × 3 columns</p>\n",
       "</div>"
      ],
      "text/plain": [
       "                    ch12 ch13 ch14\n",
       "0             Secundario   No   03\n",
       "1               Primario   Sí     \n",
       "2               Primario   Sí     \n",
       "3               Primario   Sí     \n",
       "4          Universitario   Sí     \n",
       "...                  ...  ...  ...\n",
       "45284      Universitario   Sí     \n",
       "45285         Secundario   Sí     \n",
       "45286                EGB   No   02\n",
       "45287  Jardín/Preescolar   No   00\n",
       "45288  Jardín/Preescolar   No   00\n",
       "\n",
       "[45289 rows x 3 columns]"
      ]
     },
     "execution_count": 37,
     "metadata": {},
     "output_type": "execute_result"
    }
   ],
   "source": [
    "educ"
   ]
  },
  {
   "cell_type": "code",
   "execution_count": 39,
   "id": "9665abaf-28ea-481c-8965-875ac1f9eea2",
   "metadata": {},
   "outputs": [],
   "source": [
    "educ = educ.rename(columns={\"ch12\": \"nivel de educacion\",\"ch13\":\"finalizo\",\"ch14\":\"educacion formal\"})"
   ]
  },
  {
   "cell_type": "code",
   "execution_count": 41,
   "id": "6fbbf24b-6639-4ac8-9957-71314771391d",
   "metadata": {},
   "outputs": [
    {
     "data": {
      "text/html": [
       "<div>\n",
       "<style scoped>\n",
       "    .dataframe tbody tr th:only-of-type {\n",
       "        vertical-align: middle;\n",
       "    }\n",
       "\n",
       "    .dataframe tbody tr th {\n",
       "        vertical-align: top;\n",
       "    }\n",
       "\n",
       "    .dataframe thead th {\n",
       "        text-align: right;\n",
       "    }\n",
       "</style>\n",
       "<table border=\"1\" class=\"dataframe\">\n",
       "  <thead>\n",
       "    <tr style=\"text-align: right;\">\n",
       "      <th></th>\n",
       "      <th>nivel de educacion</th>\n",
       "      <th>finalizo</th>\n",
       "      <th>educacion formal</th>\n",
       "    </tr>\n",
       "  </thead>\n",
       "  <tbody>\n",
       "    <tr>\n",
       "      <th>0</th>\n",
       "      <td>Secundario</td>\n",
       "      <td>No</td>\n",
       "      <td>03</td>\n",
       "    </tr>\n",
       "    <tr>\n",
       "      <th>1</th>\n",
       "      <td>Primario</td>\n",
       "      <td>Sí</td>\n",
       "      <td></td>\n",
       "    </tr>\n",
       "    <tr>\n",
       "      <th>2</th>\n",
       "      <td>Primario</td>\n",
       "      <td>Sí</td>\n",
       "      <td></td>\n",
       "    </tr>\n",
       "    <tr>\n",
       "      <th>3</th>\n",
       "      <td>Primario</td>\n",
       "      <td>Sí</td>\n",
       "      <td></td>\n",
       "    </tr>\n",
       "    <tr>\n",
       "      <th>4</th>\n",
       "      <td>Universitario</td>\n",
       "      <td>Sí</td>\n",
       "      <td></td>\n",
       "    </tr>\n",
       "    <tr>\n",
       "      <th>...</th>\n",
       "      <td>...</td>\n",
       "      <td>...</td>\n",
       "      <td>...</td>\n",
       "    </tr>\n",
       "    <tr>\n",
       "      <th>45284</th>\n",
       "      <td>Universitario</td>\n",
       "      <td>Sí</td>\n",
       "      <td></td>\n",
       "    </tr>\n",
       "    <tr>\n",
       "      <th>45285</th>\n",
       "      <td>Secundario</td>\n",
       "      <td>Sí</td>\n",
       "      <td></td>\n",
       "    </tr>\n",
       "    <tr>\n",
       "      <th>45286</th>\n",
       "      <td>EGB</td>\n",
       "      <td>No</td>\n",
       "      <td>02</td>\n",
       "    </tr>\n",
       "    <tr>\n",
       "      <th>45287</th>\n",
       "      <td>Jardín/Preescolar</td>\n",
       "      <td>No</td>\n",
       "      <td>00</td>\n",
       "    </tr>\n",
       "    <tr>\n",
       "      <th>45288</th>\n",
       "      <td>Jardín/Preescolar</td>\n",
       "      <td>No</td>\n",
       "      <td>00</td>\n",
       "    </tr>\n",
       "  </tbody>\n",
       "</table>\n",
       "<p>45289 rows × 3 columns</p>\n",
       "</div>"
      ],
      "text/plain": [
       "      nivel de educacion finalizo educacion formal\n",
       "0             Secundario       No               03\n",
       "1               Primario       Sí                 \n",
       "2               Primario       Sí                 \n",
       "3               Primario       Sí                 \n",
       "4          Universitario       Sí                 \n",
       "...                  ...      ...              ...\n",
       "45284      Universitario       Sí                 \n",
       "45285         Secundario       Sí                 \n",
       "45286                EGB       No               02\n",
       "45287  Jardín/Preescolar       No               00\n",
       "45288  Jardín/Preescolar       No               00\n",
       "\n",
       "[45289 rows x 3 columns]"
      ]
     },
     "execution_count": 41,
     "metadata": {},
     "output_type": "execute_result"
    }
   ],
   "source": [
    "educ"
   ]
  },
  {
   "cell_type": "code",
   "execution_count": 47,
   "id": "f092693b-6103-4c0c-aae6-d9ebcb0cbfa7",
   "metadata": {},
   "outputs": [],
   "source": [
    "df = pd.concat([df, educ], axis=1)"
   ]
  },
  {
   "cell_type": "code",
   "execution_count": 45,
   "id": "cf0d0ae4-edf5-414a-a684-512318929fd0",
   "metadata": {},
   "outputs": [
    {
     "name": "stdout",
     "output_type": "stream",
     "text": [
      "<class 'pandas.core.frame.DataFrame'>\n"
     ]
    }
   ],
   "source": [
    "print(type(educ))"
   ]
  },
  {
   "cell_type": "code",
   "execution_count": 57,
   "id": "451e0708-7780-44dd-b17c-889bf405a263",
   "metadata": {},
   "outputs": [
    {
     "name": "stdout",
     "output_type": "stream",
     "text": [
      "count        45289\n",
      "unique          11\n",
      "top       Primario\n",
      "freq         11827\n",
      "Name: nivel de educacion, dtype: object\n"
     ]
    }
   ],
   "source": [
    "estadisticas = df['nivel de educacion'].describe(percentiles=[0.5])  \n",
    "print(estadisticas)"
   ]
  },
  {
   "cell_type": "code",
   "execution_count": 61,
   "id": "41648f80-6fc2-4cb5-af9d-0abab5050527",
   "metadata": {},
   "outputs": [
    {
     "name": "stdout",
     "output_type": "stream",
     "text": [
      "count     45289\n",
      "unique        4\n",
      "top          No\n",
      "freq      24326\n",
      "Name: finalizo, dtype: object\n"
     ]
    }
   ],
   "source": [
    "estadisticas = df['finalizo'].describe(percentiles=[0.5])  \n",
    "print(estadisticas)"
   ]
  },
  {
   "cell_type": "code",
   "execution_count": 63,
   "id": "995db2f0-46a9-4060-9a56-adf87f8c688e",
   "metadata": {},
   "outputs": [
    {
     "name": "stdout",
     "output_type": "stream",
     "text": [
      "count     45289\n",
      "unique       13\n",
      "top            \n",
      "freq      20964\n",
      "Name: educacion formal, dtype: object\n"
     ]
    }
   ],
   "source": [
    "estadisticas = df['educacion formal'].describe(percentiles=[0.5])  \n",
    "print(estadisticas)"
   ]
  },
  {
   "cell_type": "code",
   "execution_count": 59,
   "id": "808fde59-78ab-4986-b30c-7379bc03dfba",
   "metadata": {},
   "outputs": [
    {
     "name": "stdout",
     "output_type": "stream",
     "text": [
      "       nivel de educacion finalizo educacion formal\n",
      "count               45289    45289            45289\n",
      "unique                 11        4               13\n",
      "top              Primario       No                 \n",
      "freq                11827    24326            20964\n"
     ]
    }
   ],
   "source": [
    "# Estadísticas completas para cada columna\n",
    "estadisticas_completas = educ.describe(percentiles=[0.5])  # Incluye mediana (p50)\n",
    "print(estadisticas_completas)"
   ]
  },
  {
   "cell_type": "code",
   "execution_count": 77,
   "id": "4b3d2f75-a69f-41f0-b93f-d644a64e57e5",
   "metadata": {},
   "outputs": [
    {
     "name": "stdout",
     "output_type": "stream",
     "text": [
      "Los resultados muestran que el conjunto de datos contiene 45,289 observaciones completas en tres variables categóricas: nivel de educación presenta 11 categorías, siendo Primario la más frecuente (26.1% de los casos); la variable finalizó educación formal revela que la mayoría no completó su formación (53.7% respondió \"No\"); mientras que la tercera variable (de nombre incompleto) tiene 13 categorías con una opción dominante que representa el 46.3% de las respuestas. Esta distribución indica bajos niveles educativos formales en la población estudiada, con una marcada prevalencia de educación primaria y altas tasas de no finalización, lo que sugiere posibles desafíos en retención escolar o acceso a educación superior. Para un análisis más profundo, sería valioso examinar las relaciones entre estas variables y visualizar su distribución mediante gráficos de barras y circulares\n"
     ]
    }
   ],
   "source": [
    "print(\"\"\"Los resultados muestran que el conjunto de datos contiene 45,289 observaciones completas en tres variables categóricas: nivel de educación presenta 11 categorías, siendo Primario la más frecuente (26.1% de los casos); la variable finalizó educación formal revela que la mayoría no completó su formación (53.7% respondió \"No\"); mientras que la tercera variable (de nombre incompleto) tiene 13 categorías con una opción dominante que representa el 46.3% de las respuestas. Esta distribución indica bajos niveles educativos formales en la población estudiada, con una marcada prevalencia de educación primaria y altas tasas de no finalización, lo que sugiere posibles desafíos en retención escolar o acceso a educación superior. Para un análisis más profundo, sería valioso examinar las relaciones entre estas variables y visualizar su distribución mediante gráficos de barras y circulares\"\"\")"
   ]
  },
  {
   "cell_type": "code",
   "execution_count": null,
   "id": "532d78dc-5ab9-4db1-b265-f3e82d357321",
   "metadata": {},
   "outputs": [],
   "source": []
  }
 ],
 "metadata": {
  "kernelspec": {
   "display_name": "Python [conda env:base] *",
   "language": "python",
   "name": "conda-base-py"
  },
  "language_info": {
   "codemirror_mode": {
    "name": "ipython",
    "version": 3
   },
   "file_extension": ".py",
   "mimetype": "text/x-python",
   "name": "python",
   "nbconvert_exporter": "python",
   "pygments_lexer": "ipython3",
   "version": "3.12.7"
  }
 },
 "nbformat": 4,
 "nbformat_minor": 5
}
